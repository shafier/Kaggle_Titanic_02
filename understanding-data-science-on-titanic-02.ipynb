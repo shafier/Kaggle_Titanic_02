{
 "cells": [
  {
   "cell_type": "markdown",
   "id": "familiar-validation",
   "metadata": {
    "papermill": {
     "duration": 0.079672,
     "end_time": "2022-09-26T12:02:10.340237",
     "exception": false,
     "start_time": "2022-09-26T12:02:10.260565",
     "status": "completed"
    },
    "tags": []
   },
   "source": [
    "# Intro\n",
    "\n",
    "This analysis is a continuation of my previous work; [Analysis Part 01](https://www.kaggle.com/shafierahim/understanding-data-science-on-titanic-01). I expanded the analysis with the workings on Pipeline, Cross Validation, Confusion Matrix, the relationship between the `model.score(X_test, y_test)` and the `accuracy_score(y_test, model.predict(X_test))` , Roc_Curve, Roc_Auc_Score, Ensemble models (AdaBoost Classifier, and Bagging Classifier) to name a few. <br>\n",
    "\n",
    "I hope you find the analysis is beneficial to you. This is a working progress, thus, I may amend it from time to time. <br>\n",
    "\n",
    "Disclaimer: I take full responsibility for errors in this analysis. If you found any, please let me know so that I am able to learn from the error, and update the analysis accordingly. Thank you. <br>\n",
    "\n",
    "****"
   ]
  },
  {
   "cell_type": "markdown",
   "id": "architectural-foster",
   "metadata": {
    "papermill": {
     "duration": 0.077438,
     "end_time": "2022-09-26T12:02:10.494982",
     "exception": false,
     "start_time": "2022-09-26T12:02:10.417544",
     "status": "completed"
    },
    "tags": []
   },
   "source": [
    "\n",
    "# Contents\n",
    "- [Conclusion](#Conclusion)\n",
    "- [Thank you](#Thank-you)\n",
    "    - [Default](#Default)\n",
    "    - [Load libraries, and import models](#Load-libraries,-and-import-models)\n",
    "    * [Get your hands dirty:](#Get-your-hands-dirty:)\n",
    "        + [Preprocessing](#Preprocessing)\n",
    "    + [Creating Pipeline](#Creating-Pipeline)\n",
    "        - [Long hand approach for Pipeline for Logistic Regression model](#Long-hand-approach-for-Pipeline-for-Logistic-Regression-model)\n",
    "        * [Hint of model.score(X,y) and accuracy_score(y_true,y_predicted)](#Hint-of-model.score(X,y)-and-accuracy_score(y_true,y_predicted))\n",
    "        + [Short hand approach for Pipeline for Logistic Regression model](#Short-hand-approach-for-Pipeline-for-Logistic-Regression-model)\n",
    "        - [Long hand for Cross Validation for Logistic Regression model](#Long-hand-for-Cross-Validation-for-Logistic-Regression-model)\n",
    "        * [Short hand for Cross Validation for Logistic Regression model](#Short-hand-for-Cross-Validation-for-Logistic-Regression-model)\n",
    "            - [Observation on the numbers](#Observation-on-the-numbers)\n",
    "        + [Great! The skeleton Pipeline works as expected.](#Great!-The-skeleton-Pipeline-works-as-expected.)\n",
    "        - [Long hand for adding Scaling to the Logistic Regression model](#Long-hand-for-adding-Scaling-to-the-Logistic-Regression-model)\n",
    "        * [Short hand for adding Scaling to the Pipeline for Logistic Regression model](#Short-hand-for-adding-Scaling-to-the-Pipeline-for-Logistic-Regression-model)\n",
    "        + [Repeating the above steps for Random Forest Classifier model](#Repeating-the-above-steps-for-Random-Forest-Classifier-model)\n",
    "            * [Observation](#Observation)\n",
    "    + [Performance metrics for Classification classifiers](#Performance-metrics-for-Classification-classifiers)\n",
    "        - [Long hand for Performance metrics for Logistic Regression model](#Long-hand-for-Performance-metrics-for-Logistic-Regression-model)\n",
    "        * [Note on the Confusion Matrix](#Note-on-the-Confusion-Matrix)\n",
    "            + [Explanation on the numbers in the Confusion Matrix](#Explanation-on-the-numbers-in-the-Confusion-Matrix)\n",
    "                - [Focus on class 1](#Focus-on-class-1)\n",
    "                * [Focus on class 0](#Focus-on-class-0)\n",
    "        - [Calculation of the roc_curve, and roc_auc_score](#Calculation-of-the-roc_curve,-and-roc_auc_score)\n",
    "        + [Side Note on Logisitic Regression in calculating roc_curve or roc_auc_score](#Side-Note-on-Logisitic-Regression-in-calculating-roc_curve-or-roc_auc_score)\n",
    "        * [Short hand for Performance metrics for Random Forest Classifier model](#Short-hand-for-Performance-metrics-for-Random-Forest-Classifier-model)\n",
    "        - [For more Classification performance metrics](#For-more-Classification-performance-metrics)\n",
    "        * [Ensemble methods for Classification](#Ensemble-methods-for-Classification)\n",
    "            + [AdaBoostClassifier ensemble model](#AdaBoostClassifier-ensemble-model)\n",
    "            - [BaggingClassifier ensemble model](#BaggingClassifier-ensemble-model)\n",
    "    * [Shortcut to Performance metrics for](#Shortcut-to-Performance-metrics-for)\n",
    "        - [AdaBoostClassifier of Logistic Regression](#AdaBoostClassifier-of-Logistic-Regression)\n",
    "        + [AdaBoostClassifier of Random Forest Classifier](#AdaBoostClassifier-of-Random-Forest-Classifier)\n",
    "        * [BaggingClassifier of Logistic Regression](#BaggingClassifier-of-Logistic-Regression)\n",
    "        - [BaggingClassifier of Random Forest Classifier](#BaggingClassifier-of-Random-Forest-Classifier)\n",
    "    - [Classify who Survived and Died in the \"Titanic_to_predict_data\" dataframe i.e. titanic/test.csv file](#Classify-who-Survived-and-Died-in-the-\"Titanic_to_predict_data\"-dataframe-i.e.-titanic/test.csv-file)\n",
    "        * [Preprocessing step for Titanic_to_predict_data dataframe](#Preprocessing-step-for-Titanic_to_predict_data-dataframe)\n",
    "    + [Submission of Predictions to the Kaggle´s Titanic](#Submission-of-Predictions-to-the-Kaggle´s-Titanic)\n",
    "        - [Long hand for submitting Classifier models](#Long-hand-for-submitting-Classifier-models)\n",
    "        * [Short hand for submitting other Classifier models](#Short-hand-for-submitting-other-Classifier-models)\n",
    "            - [Notes](#Notes)\n",
    "    * [Useful things to have for the next project](#Useful-things-to-have-for-the-next-project)\n",
    "- [Next actions](#Next-actions)\n",
    "- [Relevant links for this analysis](#Relevant-links-for-this-analysis)\n",
    "\n",
    "****"
   ]
  },
  {
   "cell_type": "markdown",
   "id": "floral-thomson",
   "metadata": {
    "papermill": {
     "duration": 0.084461,
     "end_time": "2022-09-26T12:02:10.666870",
     "exception": false,
     "start_time": "2022-09-26T12:02:10.582409",
     "status": "completed"
    },
    "tags": []
   },
   "source": [
    "# Conclusion\n",
    "[top](#Contents)\n",
    "\n",
    "The aim of this work is for me to understand better the methods used for Data Science. <br>\n",
    "\n",
    "This analysis is the continuation of my previous work. It is an iterated process. <br>\n",
    "\n",
    "The topic here is a Classification task. This is because I need to classify who died or who survived from the Titanic csv files. <br>\n",
    "\n",
    "I selected the following models for the analysis: <br>\n",
    "* Logistic Regression, a basic model.\n",
    "* RandomForestClassifier\n",
    "* AdaBoostClassifier\n",
    "* BaggingClassifier\n",
    "\n",
    "\n",
    "I learned how to: <BR>\n",
    "* create a pipeline, test the pipeline to see if it works as expected <br>\n",
    "* create Ensemble methods <br>\n",
    "* run Classification Performance metrics <br>\n",
    "* create k-fold Cross Validation Score <br>\n",
    "* create Correlations, Scatter Matrix to check which column/feature to use for modelling <br>\n",
    "* use Simple Imputer method to fill in unknown / not available values in a column / feature <br>\n",
    "\n",
    "Using the outcomes, I submitted the predicted classification to the Kaggle competition to know how the relevant model works in a real world. <br> \n",
    "    \n",
    "The public scores of the following model in the Kaggle´s Titanic Competition: <br>\n",
    "\n",
    "+ Pipeline using Logistic Regression without Scaling (`StandardScaler()`) = 0.76555\n",
    "+ Pipeline using Logistic Regression with Scaling (`StandardScaler()`) = 0.76315\n",
    "+ Pipeline using Random Forest Classifier with Scaling (`StandardScaler()`) = 0.73205\n",
    "+ AdaBoostClassifier with LogisticRegression = 0.76555 <br>\n",
    "+ AdaBoostClassifier with RandomForestClassifier = 0.74162 <br>\n",
    "+ BaggingClassifier with LogisticRegression = 0.62200 <br>\n",
    "+ BaggingClassifier with RandomForestClassifier = 0.62200 <br>\n",
    "\n",
    "Benchmark is 0.76555. This Public score came from submitting a csv file that predicted ALL females survived in the Titanic csv files. <br>\n",
    " > The idea is most survivors were females based on the given training dataset. Hence the benchmark represents some sort of extreme extrapolation of the idea. <br>\n",
    "        \n",
    "So far with the existing inputs, Logistic Regression model seems the best model for this classification problem. Both Pipeline using Logistic Regression without Scaling (`StandardScaler()`) and AdaBoostClassifier with LogisticRegression produce the same Public score. The score is on par with the Benchmark. If I were to continue with the analysis I would go with Logistic Regression model, and enhance the model by fine tuning it. In the _next steps section_ I listed what I would do. <br>     \n",
    "    \n",
    "I found that Bagging Classifier model does not fare well in labelling passengers who survived or died the Titanic csv files. Random Forest Classifier model in general is weaker than the Logistic Regression model, which is a less complex model than the former. It seems that the simple Logistic Regression is a winner here based on my selection of models for this analysis. This does not mean it is the best model for this classification task. If time permits, I would want to include additional models such as KNN Classifier, and Support Vector Machines in the Pipeline, AdaBoost Classifier, and Bagging Classifier, and observe for example their Accuracies, roc_auc_scores, and Public scores. <br> \n",
    "\n",
    "What are my next steps? <br>\n",
    "* I did not focus on Feature Engineering so I am curious how this works in my next project. <br>\n",
    "* I want to play around Stacking method. This could be implemented in next iterated analysis or on a new project. <br>\n",
    "* I can enhance the exisiting models by fine tuning their hyperparameters. <br>\n",
    "    > Hyperparameters are machine learning paramaters in a model that are set/configured BEFORE the model is FITTED onto a training dataset, i.e. `model.fit(X,)`. <br>\n",
    "        \n",
    "    > Examples of Hyperparameters: \n",
    "    * Learning Rate\n",
    "    * Number of Epochs\n",
    "    \n",
    "        > Note on Parameters of a model: These are for example coefficients and intercept. Here the linear model is y = a + bX, b = coefficient and a = intercept of the linear model. <br>\n",
    "    \n",
    "* I chose RandomForestClassifier and LogisticRegression as the basic models. I think RandomForestClassifier is not a basic model because it is an Ensemble model, so I could have had instead use a KNN Classifier. <br>\n",
    "    > I would use the KNN Classifier in the next project. <br>\n",
    "* Beside the KNN Classifier model, I also can extend the current selection of models to include Support Vector Machines model as an example. <br>\n",
    "* I want to play with Autism dataset. A new project. <br>\n",
    "    \n",
    "****"
   ]
  },
  {
   "cell_type": "markdown",
   "id": "instructional-complement",
   "metadata": {
    "papermill": {
     "duration": 0.083039,
     "end_time": "2022-09-26T12:02:10.840633",
     "exception": false,
     "start_time": "2022-09-26T12:02:10.757594",
     "status": "completed"
    },
    "tags": []
   },
   "source": [
    "# Thank you\n",
    "[top](#Contents)\n",
    "\n",
    "I got stucked many times preparing this analysis. I would like to say thank you to the following for helping me out: <br>\n",
    "* Kaggle\n",
    "* Andrew Ng's publications e.g. Daily Batch, Machine Learning Coursera\n",
    "* Book: Python Machine Learning, Machine Learning and Deep Learning with Python, scikit-learn, and TensorFlow by Sebastian Raschka & Vahid Mirjalili \n",
    "* Book: Hands-On Machine Learning with Scikit-Learn, Keras, and TensorFlow by Aurélien Géron\n",
    "* Book: Approaching (almost) any machine learning problem by Abhishek Thakur\n",
    "* YouTube: freeCodeCamp.org\n",
    "* YouTube: StatQuest\n",
    "* stackoverflow.com website\n",
    "\n",
    "****"
   ]
  },
  {
   "cell_type": "markdown",
   "id": "involved-diary",
   "metadata": {
    "papermill": {
     "duration": 0.085875,
     "end_time": "2022-09-26T12:02:11.011879",
     "exception": false,
     "start_time": "2022-09-26T12:02:10.926004",
     "status": "completed"
    },
    "tags": []
   },
   "source": [
    "## Default\n",
    "[top](#Contents)\n",
    "\n",
    "Below codes are by default added when you created a new Notebook"
   ]
  },
  {
   "cell_type": "code",
   "execution_count": 1,
   "id": "right-biodiversity",
   "metadata": {
    "_cell_guid": "b1076dfc-b9ad-4769-8c92-a6c4dae69d19",
    "_uuid": "8f2839f25d086af736a60e9eeb907d3b93b6e0e5",
    "execution": {
     "iopub.execute_input": "2022-09-26T12:02:11.185715Z",
     "iopub.status.busy": "2022-09-26T12:02:11.183841Z",
     "iopub.status.idle": "2022-09-26T12:02:11.195178Z",
     "shell.execute_reply": "2022-09-26T12:02:11.194182Z",
     "shell.execute_reply.started": "2022-09-26T11:32:12.605844Z"
    },
    "papermill": {
     "duration": 0.097226,
     "end_time": "2022-09-26T12:02:11.195404",
     "exception": false,
     "start_time": "2022-09-26T12:02:11.098178",
     "status": "completed"
    },
    "tags": []
   },
   "outputs": [
    {
     "name": "stdout",
     "output_type": "stream",
     "text": [
      "/kaggle/input/titanic/train.csv\n",
      "/kaggle/input/titanic/test.csv\n",
      "/kaggle/input/titanic/gender_submission.csv\n"
     ]
    }
   ],
   "source": [
    "# This Python 3 environment comes with many helpful analytics libraries installed\n",
    "# It is defined by the kaggle/python Docker image: https://github.com/kaggle/docker-python\n",
    "# For example, here's several helpful packages to load\n",
    "\n",
    "import numpy as np # linear algebra\n",
    "import pandas as pd # data processing, CSV file I/O (e.g. pd.read_csv)\n",
    "\n",
    "# Input data files are available in the read-only \"../input/\" directory\n",
    "# For example, running this (by clicking run or pressing Shift+Enter) will list all files under the input directory\n",
    "\n",
    "import os\n",
    "for dirname, _, filenames in os.walk('/kaggle/input'):\n",
    "    for filename in filenames:\n",
    "        print(os.path.join(dirname, filename))\n",
    "\n",
    "# You can write up to 20GB to the current directory (/kaggle/working/) that gets preserved as output when you create a version using \"Save & Run All\" \n",
    "# You can also write temporary files to /kaggle/temp/, but they won't be saved outside of the current session"
   ]
  },
  {
   "cell_type": "markdown",
   "id": "disciplinary-final",
   "metadata": {
    "papermill": {
     "duration": 0.077058,
     "end_time": "2022-09-26T12:02:11.356452",
     "exception": false,
     "start_time": "2022-09-26T12:02:11.279394",
     "status": "completed"
    },
    "tags": []
   },
   "source": [
    "## Load libraries, and import models\n",
    "[top](#Contents)"
   ]
  },
  {
   "cell_type": "code",
   "execution_count": 2,
   "id": "residential-estonia",
   "metadata": {
    "execution": {
     "iopub.execute_input": "2022-09-26T12:02:11.515839Z",
     "iopub.status.busy": "2022-09-26T12:02:11.515185Z",
     "iopub.status.idle": "2022-09-26T12:02:12.573644Z",
     "shell.execute_reply": "2022-09-26T12:02:12.572878Z",
     "shell.execute_reply.started": "2022-09-26T11:32:12.626865Z"
    },
    "papermill": {
     "duration": 1.140196,
     "end_time": "2022-09-26T12:02:12.573840",
     "exception": false,
     "start_time": "2022-09-26T12:02:11.433644",
     "status": "completed"
    },
    "tags": []
   },
   "outputs": [],
   "source": [
    "# Load libraries for analysis and visualization\n",
    "import matplotlib.pyplot as plt \n",
    "\n",
    "# Machine learning libraries\n",
    "import seaborn as sns  "
   ]
  },
  {
   "cell_type": "code",
   "execution_count": 3,
   "id": "overhead-drawing",
   "metadata": {
    "execution": {
     "iopub.execute_input": "2022-09-26T12:02:12.773824Z",
     "iopub.status.busy": "2022-09-26T12:02:12.772912Z",
     "iopub.status.idle": "2022-09-26T12:02:13.255184Z",
     "shell.execute_reply": "2022-09-26T12:02:13.254517Z",
     "shell.execute_reply.started": "2022-09-26T11:32:13.645031Z"
    },
    "papermill": {
     "duration": 0.566579,
     "end_time": "2022-09-26T12:02:13.255337",
     "exception": false,
     "start_time": "2022-09-26T12:02:12.688758",
     "status": "completed"
    },
    "tags": []
   },
   "outputs": [],
   "source": [
    "#import basics models\n",
    "\n",
    "from sklearn.linear_model import LogisticRegression\n",
    "from sklearn.ensemble import RandomForestClassifier"
   ]
  },
  {
   "cell_type": "code",
   "execution_count": 4,
   "id": "social-messenger",
   "metadata": {
    "execution": {
     "iopub.execute_input": "2022-09-26T12:02:13.413287Z",
     "iopub.status.busy": "2022-09-26T12:02:13.412596Z",
     "iopub.status.idle": "2022-09-26T12:02:13.416492Z",
     "shell.execute_reply": "2022-09-26T12:02:13.417051Z",
     "shell.execute_reply.started": "2022-09-26T11:32:14.177392Z"
    },
    "papermill": {
     "duration": 0.084731,
     "end_time": "2022-09-26T12:02:13.417236",
     "exception": false,
     "start_time": "2022-09-26T12:02:13.332505",
     "status": "completed"
    },
    "tags": []
   },
   "outputs": [],
   "source": [
    "# import Ensemble methods\n",
    "\n",
    "from sklearn.ensemble import ( AdaBoostClassifier, BaggingClassifier )"
   ]
  },
  {
   "cell_type": "markdown",
   "id": "commercial-columbus",
   "metadata": {
    "papermill": {
     "duration": 0.080155,
     "end_time": "2022-09-26T12:02:13.577016",
     "exception": false,
     "start_time": "2022-09-26T12:02:13.496861",
     "status": "completed"
    },
    "tags": []
   },
   "source": [
    "## **Get your hands dirty:**\n",
    "[top](#Contents)"
   ]
  },
  {
   "cell_type": "markdown",
   "id": "universal-statement",
   "metadata": {
    "papermill": {
     "duration": 0.079065,
     "end_time": "2022-09-26T12:02:13.734238",
     "exception": false,
     "start_time": "2022-09-26T12:02:13.655173",
     "status": "completed"
    },
    "tags": []
   },
   "source": [
    "### Preprocessing\n",
    "[top](#Contents)\n",
    "\n",
    "The following are essentially copied from my previous work, see here: [Analysis Part 01](https://www.kaggle.com/shafierahim/understanding-data-science-on-titanic-01) <br>\n",
    "For more details on why I chose these columns / features to classify someone who died or survived in the Titanic disaster from the Titanic csv file, please check the Analysis Part 01. <br>"
   ]
  },
  {
   "cell_type": "code",
   "execution_count": 5,
   "id": "special-winning",
   "metadata": {
    "execution": {
     "iopub.execute_input": "2022-09-26T12:02:13.894064Z",
     "iopub.status.busy": "2022-09-26T12:02:13.893313Z",
     "iopub.status.idle": "2022-09-26T12:02:13.928539Z",
     "shell.execute_reply": "2022-09-26T12:02:13.929153Z",
     "shell.execute_reply.started": "2022-09-26T11:32:14.187636Z"
    },
    "papermill": {
     "duration": 0.117676,
     "end_time": "2022-09-26T12:02:13.929346",
     "exception": false,
     "start_time": "2022-09-26T12:02:13.811670",
     "status": "completed"
    },
    "tags": []
   },
   "outputs": [],
   "source": [
    "# to read those 2 files, and to assign them to the 2 variables\n",
    "Titanic_train_data = pd.read_csv('../input/titanic/train.csv')\n",
    "Titanic_to_predict_data = pd.read_csv('../input/titanic/test.csv')"
   ]
  },
  {
   "cell_type": "code",
   "execution_count": 6,
   "id": "prospective-estimate",
   "metadata": {
    "execution": {
     "iopub.execute_input": "2022-09-26T12:02:14.091249Z",
     "iopub.status.busy": "2022-09-26T12:02:14.090275Z",
     "iopub.status.idle": "2022-09-26T12:02:14.129923Z",
     "shell.execute_reply": "2022-09-26T12:02:14.130581Z",
     "shell.execute_reply.started": "2022-09-26T11:32:14.227997Z"
    },
    "papermill": {
     "duration": 0.12274,
     "end_time": "2022-09-26T12:02:14.130779",
     "exception": false,
     "start_time": "2022-09-26T12:02:14.008039",
     "status": "completed"
    },
    "tags": []
   },
   "outputs": [
    {
     "data": {
      "text/html": [
       "<div>\n",
       "<style scoped>\n",
       "    .dataframe tbody tr th:only-of-type {\n",
       "        vertical-align: middle;\n",
       "    }\n",
       "\n",
       "    .dataframe tbody tr th {\n",
       "        vertical-align: top;\n",
       "    }\n",
       "\n",
       "    .dataframe thead th {\n",
       "        text-align: right;\n",
       "    }\n",
       "</style>\n",
       "<table border=\"1\" class=\"dataframe\">\n",
       "  <thead>\n",
       "    <tr style=\"text-align: right;\">\n",
       "      <th></th>\n",
       "      <th>PassengerId</th>\n",
       "      <th>Survived</th>\n",
       "      <th>Pclass</th>\n",
       "      <th>Name</th>\n",
       "      <th>Sex</th>\n",
       "      <th>Age</th>\n",
       "      <th>SibSp</th>\n",
       "      <th>Parch</th>\n",
       "      <th>Ticket</th>\n",
       "      <th>Fare</th>\n",
       "      <th>Cabin</th>\n",
       "      <th>Embarked</th>\n",
       "    </tr>\n",
       "  </thead>\n",
       "  <tbody>\n",
       "    <tr>\n",
       "      <th>881</th>\n",
       "      <td>882</td>\n",
       "      <td>0</td>\n",
       "      <td>3</td>\n",
       "      <td>Markun, Mr. Johann</td>\n",
       "      <td>male</td>\n",
       "      <td>33.0</td>\n",
       "      <td>0</td>\n",
       "      <td>0</td>\n",
       "      <td>349257</td>\n",
       "      <td>7.8958</td>\n",
       "      <td>NaN</td>\n",
       "      <td>S</td>\n",
       "    </tr>\n",
       "    <tr>\n",
       "      <th>882</th>\n",
       "      <td>883</td>\n",
       "      <td>0</td>\n",
       "      <td>3</td>\n",
       "      <td>Dahlberg, Miss. Gerda Ulrika</td>\n",
       "      <td>female</td>\n",
       "      <td>22.0</td>\n",
       "      <td>0</td>\n",
       "      <td>0</td>\n",
       "      <td>7552</td>\n",
       "      <td>10.5167</td>\n",
       "      <td>NaN</td>\n",
       "      <td>S</td>\n",
       "    </tr>\n",
       "    <tr>\n",
       "      <th>883</th>\n",
       "      <td>884</td>\n",
       "      <td>0</td>\n",
       "      <td>2</td>\n",
       "      <td>Banfield, Mr. Frederick James</td>\n",
       "      <td>male</td>\n",
       "      <td>28.0</td>\n",
       "      <td>0</td>\n",
       "      <td>0</td>\n",
       "      <td>C.A./SOTON 34068</td>\n",
       "      <td>10.5000</td>\n",
       "      <td>NaN</td>\n",
       "      <td>S</td>\n",
       "    </tr>\n",
       "    <tr>\n",
       "      <th>884</th>\n",
       "      <td>885</td>\n",
       "      <td>0</td>\n",
       "      <td>3</td>\n",
       "      <td>Sutehall, Mr. Henry Jr</td>\n",
       "      <td>male</td>\n",
       "      <td>25.0</td>\n",
       "      <td>0</td>\n",
       "      <td>0</td>\n",
       "      <td>SOTON/OQ 392076</td>\n",
       "      <td>7.0500</td>\n",
       "      <td>NaN</td>\n",
       "      <td>S</td>\n",
       "    </tr>\n",
       "    <tr>\n",
       "      <th>885</th>\n",
       "      <td>886</td>\n",
       "      <td>0</td>\n",
       "      <td>3</td>\n",
       "      <td>Rice, Mrs. William (Margaret Norton)</td>\n",
       "      <td>female</td>\n",
       "      <td>39.0</td>\n",
       "      <td>0</td>\n",
       "      <td>5</td>\n",
       "      <td>382652</td>\n",
       "      <td>29.1250</td>\n",
       "      <td>NaN</td>\n",
       "      <td>Q</td>\n",
       "    </tr>\n",
       "    <tr>\n",
       "      <th>886</th>\n",
       "      <td>887</td>\n",
       "      <td>0</td>\n",
       "      <td>2</td>\n",
       "      <td>Montvila, Rev. Juozas</td>\n",
       "      <td>male</td>\n",
       "      <td>27.0</td>\n",
       "      <td>0</td>\n",
       "      <td>0</td>\n",
       "      <td>211536</td>\n",
       "      <td>13.0000</td>\n",
       "      <td>NaN</td>\n",
       "      <td>S</td>\n",
       "    </tr>\n",
       "    <tr>\n",
       "      <th>887</th>\n",
       "      <td>888</td>\n",
       "      <td>1</td>\n",
       "      <td>1</td>\n",
       "      <td>Graham, Miss. Margaret Edith</td>\n",
       "      <td>female</td>\n",
       "      <td>19.0</td>\n",
       "      <td>0</td>\n",
       "      <td>0</td>\n",
       "      <td>112053</td>\n",
       "      <td>30.0000</td>\n",
       "      <td>B42</td>\n",
       "      <td>S</td>\n",
       "    </tr>\n",
       "    <tr>\n",
       "      <th>888</th>\n",
       "      <td>889</td>\n",
       "      <td>0</td>\n",
       "      <td>3</td>\n",
       "      <td>Johnston, Miss. Catherine Helen \"Carrie\"</td>\n",
       "      <td>female</td>\n",
       "      <td>NaN</td>\n",
       "      <td>1</td>\n",
       "      <td>2</td>\n",
       "      <td>W./C. 6607</td>\n",
       "      <td>23.4500</td>\n",
       "      <td>NaN</td>\n",
       "      <td>S</td>\n",
       "    </tr>\n",
       "    <tr>\n",
       "      <th>889</th>\n",
       "      <td>890</td>\n",
       "      <td>1</td>\n",
       "      <td>1</td>\n",
       "      <td>Behr, Mr. Karl Howell</td>\n",
       "      <td>male</td>\n",
       "      <td>26.0</td>\n",
       "      <td>0</td>\n",
       "      <td>0</td>\n",
       "      <td>111369</td>\n",
       "      <td>30.0000</td>\n",
       "      <td>C148</td>\n",
       "      <td>C</td>\n",
       "    </tr>\n",
       "    <tr>\n",
       "      <th>890</th>\n",
       "      <td>891</td>\n",
       "      <td>0</td>\n",
       "      <td>3</td>\n",
       "      <td>Dooley, Mr. Patrick</td>\n",
       "      <td>male</td>\n",
       "      <td>32.0</td>\n",
       "      <td>0</td>\n",
       "      <td>0</td>\n",
       "      <td>370376</td>\n",
       "      <td>7.7500</td>\n",
       "      <td>NaN</td>\n",
       "      <td>Q</td>\n",
       "    </tr>\n",
       "  </tbody>\n",
       "</table>\n",
       "</div>"
      ],
      "text/plain": [
       "     PassengerId  Survived  Pclass                                      Name  \\\n",
       "881          882         0       3                        Markun, Mr. Johann   \n",
       "882          883         0       3              Dahlberg, Miss. Gerda Ulrika   \n",
       "883          884         0       2             Banfield, Mr. Frederick James   \n",
       "884          885         0       3                    Sutehall, Mr. Henry Jr   \n",
       "885          886         0       3      Rice, Mrs. William (Margaret Norton)   \n",
       "886          887         0       2                     Montvila, Rev. Juozas   \n",
       "887          888         1       1              Graham, Miss. Margaret Edith   \n",
       "888          889         0       3  Johnston, Miss. Catherine Helen \"Carrie\"   \n",
       "889          890         1       1                     Behr, Mr. Karl Howell   \n",
       "890          891         0       3                       Dooley, Mr. Patrick   \n",
       "\n",
       "        Sex   Age  SibSp  Parch            Ticket     Fare Cabin Embarked  \n",
       "881    male  33.0      0      0            349257   7.8958   NaN        S  \n",
       "882  female  22.0      0      0              7552  10.5167   NaN        S  \n",
       "883    male  28.0      0      0  C.A./SOTON 34068  10.5000   NaN        S  \n",
       "884    male  25.0      0      0   SOTON/OQ 392076   7.0500   NaN        S  \n",
       "885  female  39.0      0      5            382652  29.1250   NaN        Q  \n",
       "886    male  27.0      0      0            211536  13.0000   NaN        S  \n",
       "887  female  19.0      0      0            112053  30.0000   B42        S  \n",
       "888  female   NaN      1      2        W./C. 6607  23.4500   NaN        S  \n",
       "889    male  26.0      0      0            111369  30.0000  C148        C  \n",
       "890    male  32.0      0      0            370376   7.7500   NaN        Q  "
      ]
     },
     "execution_count": 6,
     "metadata": {},
     "output_type": "execute_result"
    }
   ],
   "source": [
    "Titanic_train_data.tail(10)"
   ]
  },
  {
   "cell_type": "code",
   "execution_count": 7,
   "id": "chinese-backup",
   "metadata": {
    "execution": {
     "iopub.execute_input": "2022-09-26T12:02:14.299587Z",
     "iopub.status.busy": "2022-09-26T12:02:14.298539Z",
     "iopub.status.idle": "2022-09-26T12:02:14.309631Z",
     "shell.execute_reply": "2022-09-26T12:02:14.310381Z",
     "shell.execute_reply.started": "2022-09-26T11:32:14.269822Z"
    },
    "papermill": {
     "duration": 0.101476,
     "end_time": "2022-09-26T12:02:14.310595",
     "exception": false,
     "start_time": "2022-09-26T12:02:14.209119",
     "status": "completed"
    },
    "tags": []
   },
   "outputs": [
    {
     "data": {
      "text/html": [
       "<div>\n",
       "<style scoped>\n",
       "    .dataframe tbody tr th:only-of-type {\n",
       "        vertical-align: middle;\n",
       "    }\n",
       "\n",
       "    .dataframe tbody tr th {\n",
       "        vertical-align: top;\n",
       "    }\n",
       "\n",
       "    .dataframe thead th {\n",
       "        text-align: right;\n",
       "    }\n",
       "</style>\n",
       "<table border=\"1\" class=\"dataframe\">\n",
       "  <thead>\n",
       "    <tr style=\"text-align: right;\">\n",
       "      <th></th>\n",
       "      <th>PassengerId</th>\n",
       "      <th>Pclass</th>\n",
       "      <th>Name</th>\n",
       "      <th>Sex</th>\n",
       "      <th>Age</th>\n",
       "      <th>SibSp</th>\n",
       "      <th>Parch</th>\n",
       "      <th>Ticket</th>\n",
       "      <th>Fare</th>\n",
       "      <th>Cabin</th>\n",
       "      <th>Embarked</th>\n",
       "    </tr>\n",
       "  </thead>\n",
       "  <tbody>\n",
       "    <tr>\n",
       "      <th>0</th>\n",
       "      <td>892</td>\n",
       "      <td>3</td>\n",
       "      <td>Kelly, Mr. James</td>\n",
       "      <td>male</td>\n",
       "      <td>34.5</td>\n",
       "      <td>0</td>\n",
       "      <td>0</td>\n",
       "      <td>330911</td>\n",
       "      <td>7.8292</td>\n",
       "      <td>NaN</td>\n",
       "      <td>Q</td>\n",
       "    </tr>\n",
       "    <tr>\n",
       "      <th>1</th>\n",
       "      <td>893</td>\n",
       "      <td>3</td>\n",
       "      <td>Wilkes, Mrs. James (Ellen Needs)</td>\n",
       "      <td>female</td>\n",
       "      <td>47.0</td>\n",
       "      <td>1</td>\n",
       "      <td>0</td>\n",
       "      <td>363272</td>\n",
       "      <td>7.0000</td>\n",
       "      <td>NaN</td>\n",
       "      <td>S</td>\n",
       "    </tr>\n",
       "    <tr>\n",
       "      <th>2</th>\n",
       "      <td>894</td>\n",
       "      <td>2</td>\n",
       "      <td>Myles, Mr. Thomas Francis</td>\n",
       "      <td>male</td>\n",
       "      <td>62.0</td>\n",
       "      <td>0</td>\n",
       "      <td>0</td>\n",
       "      <td>240276</td>\n",
       "      <td>9.6875</td>\n",
       "      <td>NaN</td>\n",
       "      <td>Q</td>\n",
       "    </tr>\n",
       "    <tr>\n",
       "      <th>3</th>\n",
       "      <td>895</td>\n",
       "      <td>3</td>\n",
       "      <td>Wirz, Mr. Albert</td>\n",
       "      <td>male</td>\n",
       "      <td>27.0</td>\n",
       "      <td>0</td>\n",
       "      <td>0</td>\n",
       "      <td>315154</td>\n",
       "      <td>8.6625</td>\n",
       "      <td>NaN</td>\n",
       "      <td>S</td>\n",
       "    </tr>\n",
       "    <tr>\n",
       "      <th>4</th>\n",
       "      <td>896</td>\n",
       "      <td>3</td>\n",
       "      <td>Hirvonen, Mrs. Alexander (Helga E Lindqvist)</td>\n",
       "      <td>female</td>\n",
       "      <td>22.0</td>\n",
       "      <td>1</td>\n",
       "      <td>1</td>\n",
       "      <td>3101298</td>\n",
       "      <td>12.2875</td>\n",
       "      <td>NaN</td>\n",
       "      <td>S</td>\n",
       "    </tr>\n",
       "  </tbody>\n",
       "</table>\n",
       "</div>"
      ],
      "text/plain": [
       "   PassengerId  Pclass                                          Name     Sex  \\\n",
       "0          892       3                              Kelly, Mr. James    male   \n",
       "1          893       3              Wilkes, Mrs. James (Ellen Needs)  female   \n",
       "2          894       2                     Myles, Mr. Thomas Francis    male   \n",
       "3          895       3                              Wirz, Mr. Albert    male   \n",
       "4          896       3  Hirvonen, Mrs. Alexander (Helga E Lindqvist)  female   \n",
       "\n",
       "    Age  SibSp  Parch   Ticket     Fare Cabin Embarked  \n",
       "0  34.5      0      0   330911   7.8292   NaN        Q  \n",
       "1  47.0      1      0   363272   7.0000   NaN        S  \n",
       "2  62.0      0      0   240276   9.6875   NaN        Q  \n",
       "3  27.0      0      0   315154   8.6625   NaN        S  \n",
       "4  22.0      1      1  3101298  12.2875   NaN        S  "
      ]
     },
     "execution_count": 7,
     "metadata": {},
     "output_type": "execute_result"
    }
   ],
   "source": [
    "Titanic_to_predict_data.head()\n",
    "# Note, there is no \"Survived\" column. \n",
    "# Here the missing column is where you need to use your selected model to classify whether or not the person died or survived. "
   ]
  },
  {
   "cell_type": "code",
   "execution_count": 8,
   "id": "adolescent-snapshot",
   "metadata": {
    "execution": {
     "iopub.execute_input": "2022-09-26T12:02:14.473022Z",
     "iopub.status.busy": "2022-09-26T12:02:14.472059Z",
     "iopub.status.idle": "2022-09-26T12:02:14.490283Z",
     "shell.execute_reply": "2022-09-26T12:02:14.489546Z",
     "shell.execute_reply.started": "2022-09-26T11:32:14.290212Z"
    },
    "papermill": {
     "duration": 0.100768,
     "end_time": "2022-09-26T12:02:14.490454",
     "exception": false,
     "start_time": "2022-09-26T12:02:14.389686",
     "status": "completed"
    },
    "tags": []
   },
   "outputs": [
    {
     "data": {
      "text/html": [
       "<div>\n",
       "<style scoped>\n",
       "    .dataframe tbody tr th:only-of-type {\n",
       "        vertical-align: middle;\n",
       "    }\n",
       "\n",
       "    .dataframe tbody tr th {\n",
       "        vertical-align: top;\n",
       "    }\n",
       "\n",
       "    .dataframe thead th {\n",
       "        text-align: right;\n",
       "    }\n",
       "</style>\n",
       "<table border=\"1\" class=\"dataframe\">\n",
       "  <thead>\n",
       "    <tr style=\"text-align: right;\">\n",
       "      <th></th>\n",
       "      <th>Survived</th>\n",
       "      <th>Pclass</th>\n",
       "      <th>Sex</th>\n",
       "      <th>Age</th>\n",
       "      <th>SibSp</th>\n",
       "      <th>Parch</th>\n",
       "      <th>Fare</th>\n",
       "      <th>Embarked</th>\n",
       "    </tr>\n",
       "  </thead>\n",
       "  <tbody>\n",
       "    <tr>\n",
       "      <th>0</th>\n",
       "      <td>0</td>\n",
       "      <td>3</td>\n",
       "      <td>male</td>\n",
       "      <td>22.0</td>\n",
       "      <td>1</td>\n",
       "      <td>0</td>\n",
       "      <td>7.2500</td>\n",
       "      <td>S</td>\n",
       "    </tr>\n",
       "    <tr>\n",
       "      <th>1</th>\n",
       "      <td>1</td>\n",
       "      <td>1</td>\n",
       "      <td>female</td>\n",
       "      <td>38.0</td>\n",
       "      <td>1</td>\n",
       "      <td>0</td>\n",
       "      <td>71.2833</td>\n",
       "      <td>C</td>\n",
       "    </tr>\n",
       "    <tr>\n",
       "      <th>2</th>\n",
       "      <td>1</td>\n",
       "      <td>3</td>\n",
       "      <td>female</td>\n",
       "      <td>26.0</td>\n",
       "      <td>0</td>\n",
       "      <td>0</td>\n",
       "      <td>7.9250</td>\n",
       "      <td>S</td>\n",
       "    </tr>\n",
       "    <tr>\n",
       "      <th>3</th>\n",
       "      <td>1</td>\n",
       "      <td>1</td>\n",
       "      <td>female</td>\n",
       "      <td>35.0</td>\n",
       "      <td>1</td>\n",
       "      <td>0</td>\n",
       "      <td>53.1000</td>\n",
       "      <td>S</td>\n",
       "    </tr>\n",
       "    <tr>\n",
       "      <th>4</th>\n",
       "      <td>0</td>\n",
       "      <td>3</td>\n",
       "      <td>male</td>\n",
       "      <td>35.0</td>\n",
       "      <td>0</td>\n",
       "      <td>0</td>\n",
       "      <td>8.0500</td>\n",
       "      <td>S</td>\n",
       "    </tr>\n",
       "    <tr>\n",
       "      <th>5</th>\n",
       "      <td>0</td>\n",
       "      <td>3</td>\n",
       "      <td>male</td>\n",
       "      <td>NaN</td>\n",
       "      <td>0</td>\n",
       "      <td>0</td>\n",
       "      <td>8.4583</td>\n",
       "      <td>Q</td>\n",
       "    </tr>\n",
       "  </tbody>\n",
       "</table>\n",
       "</div>"
      ],
      "text/plain": [
       "   Survived  Pclass     Sex   Age  SibSp  Parch     Fare Embarked\n",
       "0         0       3    male  22.0      1      0   7.2500        S\n",
       "1         1       1  female  38.0      1      0  71.2833        C\n",
       "2         1       3  female  26.0      0      0   7.9250        S\n",
       "3         1       1  female  35.0      1      0  53.1000        S\n",
       "4         0       3    male  35.0      0      0   8.0500        S\n",
       "5         0       3    male   NaN      0      0   8.4583        Q"
      ]
     },
     "execution_count": 8,
     "metadata": {},
     "output_type": "execute_result"
    }
   ],
   "source": [
    "dropTrainingData = Titanic_train_data.copy()\n",
    "dropTrainingData = dropTrainingData.drop(['PassengerId','Name','Ticket','Cabin'],axis=1)\n",
    "dropTrainingData.head(6)"
   ]
  },
  {
   "cell_type": "markdown",
   "id": "front-monaco",
   "metadata": {
    "papermill": {
     "duration": 0.079291,
     "end_time": "2022-09-26T12:02:14.649883",
     "exception": false,
     "start_time": "2022-09-26T12:02:14.570592",
     "status": "completed"
    },
    "tags": []
   },
   "source": [
    "**Long approach to label encoder a categorical column / feature**\n",
    "\n",
    "`from sklearn.preprocessing import LabelEncoder\n",
    "le = LabelEncoder()\n",
    "le.fit(dropTrainingData['Sex'])\n",
    "dropTrainingData['Sex'] = le.transform(dropTrainingData['Sex'])`\n",
    "\n",
    "`from sklearn.preprocessing import LabelEncoder\n",
    "le = LabelEncoder()\n",
    "le.fit(dropTrainingData['Embarked'])\n",
    "dropTrainingData['Embarked'] = le.transform(dropTrainingData['Embarked'])`"
   ]
  },
  {
   "cell_type": "code",
   "execution_count": 9,
   "id": "compound-heavy",
   "metadata": {
    "execution": {
     "iopub.execute_input": "2022-09-26T12:02:14.816180Z",
     "iopub.status.busy": "2022-09-26T12:02:14.815356Z",
     "iopub.status.idle": "2022-09-26T12:02:14.827975Z",
     "shell.execute_reply": "2022-09-26T12:02:14.828637Z",
     "shell.execute_reply.started": "2022-09-26T11:32:14.317130Z"
    },
    "papermill": {
     "duration": 0.098031,
     "end_time": "2022-09-26T12:02:14.828857",
     "exception": false,
     "start_time": "2022-09-26T12:02:14.730826",
     "status": "completed"
    },
    "tags": []
   },
   "outputs": [
    {
     "name": "stdout",
     "output_type": "stream",
     "text": [
      "for verification purpose: Sex \n",
      "0      1\n",
      "1      0\n",
      "2      0\n",
      "3      0\n",
      "4      1\n",
      "      ..\n",
      "886    1\n",
      "887    0\n",
      "888    0\n",
      "889    1\n",
      "890    1\n",
      "Name: Sex, Length: 891, dtype: int64\n",
      "for verification purpose: Embarked \n",
      "0      2\n",
      "1      0\n",
      "2      2\n",
      "3      2\n",
      "4      2\n",
      "      ..\n",
      "886    2\n",
      "887    2\n",
      "888    2\n",
      "889    0\n",
      "890    1\n",
      "Name: Embarked, Length: 891, dtype: int64\n"
     ]
    }
   ],
   "source": [
    "# short approach to label encoder multiple categorical columns / features \n",
    "\n",
    "from sklearn.preprocessing import LabelEncoder\n",
    "\n",
    "columnLabelEncoder = [ 'Sex', 'Embarked' ]\n",
    "\n",
    "for column in columnLabelEncoder:\n",
    "    le = LabelEncoder()\n",
    "    le.fit( dropTrainingData[column] )\n",
    "    dropTrainingData[column] = le.transform( dropTrainingData[column] )\n",
    "    print( f\"for verification purpose: {column} \" )\n",
    "    print( dropTrainingData[column] )"
   ]
  },
  {
   "cell_type": "code",
   "execution_count": 10,
   "id": "false-killer",
   "metadata": {
    "execution": {
     "iopub.execute_input": "2022-09-26T12:02:15.002776Z",
     "iopub.status.busy": "2022-09-26T12:02:15.002062Z",
     "iopub.status.idle": "2022-09-26T12:02:15.010824Z",
     "shell.execute_reply": "2022-09-26T12:02:15.011483Z",
     "shell.execute_reply.started": "2022-09-26T11:32:14.331014Z"
    },
    "papermill": {
     "duration": 0.100178,
     "end_time": "2022-09-26T12:02:15.011672",
     "exception": false,
     "start_time": "2022-09-26T12:02:14.911494",
     "status": "completed"
    },
    "tags": []
   },
   "outputs": [
    {
     "data": {
      "text/html": [
       "<div>\n",
       "<style scoped>\n",
       "    .dataframe tbody tr th:only-of-type {\n",
       "        vertical-align: middle;\n",
       "    }\n",
       "\n",
       "    .dataframe tbody tr th {\n",
       "        vertical-align: top;\n",
       "    }\n",
       "\n",
       "    .dataframe thead th {\n",
       "        text-align: right;\n",
       "    }\n",
       "</style>\n",
       "<table border=\"1\" class=\"dataframe\">\n",
       "  <thead>\n",
       "    <tr style=\"text-align: right;\">\n",
       "      <th></th>\n",
       "      <th>Survived</th>\n",
       "      <th>Pclass</th>\n",
       "      <th>Sex</th>\n",
       "      <th>Age</th>\n",
       "      <th>SibSp</th>\n",
       "      <th>Parch</th>\n",
       "      <th>Fare</th>\n",
       "      <th>Embarked</th>\n",
       "    </tr>\n",
       "  </thead>\n",
       "  <tbody>\n",
       "    <tr>\n",
       "      <th>0</th>\n",
       "      <td>0</td>\n",
       "      <td>3</td>\n",
       "      <td>1</td>\n",
       "      <td>22.0</td>\n",
       "      <td>1</td>\n",
       "      <td>0</td>\n",
       "      <td>7.2500</td>\n",
       "      <td>2</td>\n",
       "    </tr>\n",
       "    <tr>\n",
       "      <th>1</th>\n",
       "      <td>1</td>\n",
       "      <td>1</td>\n",
       "      <td>0</td>\n",
       "      <td>38.0</td>\n",
       "      <td>1</td>\n",
       "      <td>0</td>\n",
       "      <td>71.2833</td>\n",
       "      <td>0</td>\n",
       "    </tr>\n",
       "    <tr>\n",
       "      <th>2</th>\n",
       "      <td>1</td>\n",
       "      <td>3</td>\n",
       "      <td>0</td>\n",
       "      <td>26.0</td>\n",
       "      <td>0</td>\n",
       "      <td>0</td>\n",
       "      <td>7.9250</td>\n",
       "      <td>2</td>\n",
       "    </tr>\n",
       "    <tr>\n",
       "      <th>3</th>\n",
       "      <td>1</td>\n",
       "      <td>1</td>\n",
       "      <td>0</td>\n",
       "      <td>35.0</td>\n",
       "      <td>1</td>\n",
       "      <td>0</td>\n",
       "      <td>53.1000</td>\n",
       "      <td>2</td>\n",
       "    </tr>\n",
       "    <tr>\n",
       "      <th>4</th>\n",
       "      <td>0</td>\n",
       "      <td>3</td>\n",
       "      <td>1</td>\n",
       "      <td>35.0</td>\n",
       "      <td>0</td>\n",
       "      <td>0</td>\n",
       "      <td>8.0500</td>\n",
       "      <td>2</td>\n",
       "    </tr>\n",
       "    <tr>\n",
       "      <th>5</th>\n",
       "      <td>0</td>\n",
       "      <td>3</td>\n",
       "      <td>1</td>\n",
       "      <td>NaN</td>\n",
       "      <td>0</td>\n",
       "      <td>0</td>\n",
       "      <td>8.4583</td>\n",
       "      <td>1</td>\n",
       "    </tr>\n",
       "  </tbody>\n",
       "</table>\n",
       "</div>"
      ],
      "text/plain": [
       "   Survived  Pclass  Sex   Age  SibSp  Parch     Fare  Embarked\n",
       "0         0       3    1  22.0      1      0   7.2500         2\n",
       "1         1       1    0  38.0      1      0  71.2833         0\n",
       "2         1       3    0  26.0      0      0   7.9250         2\n",
       "3         1       1    0  35.0      1      0  53.1000         2\n",
       "4         0       3    1  35.0      0      0   8.0500         2\n",
       "5         0       3    1   NaN      0      0   8.4583         1"
      ]
     },
     "execution_count": 10,
     "metadata": {},
     "output_type": "execute_result"
    }
   ],
   "source": [
    "dropTrainingData.head(6)"
   ]
  },
  {
   "cell_type": "markdown",
   "id": "pointed-transition",
   "metadata": {
    "papermill": {
     "duration": 0.08183,
     "end_time": "2022-09-26T12:02:15.177898",
     "exception": false,
     "start_time": "2022-09-26T12:02:15.096068",
     "status": "completed"
    },
    "tags": []
   },
   "source": [
    "here: <br>\n",
    "Male = 1, and Female = 0 <br>\n",
    "Survived = 1, and Dead = 0 <br>"
   ]
  },
  {
   "cell_type": "code",
   "execution_count": 11,
   "id": "former-latvia",
   "metadata": {
    "execution": {
     "iopub.execute_input": "2022-09-26T12:02:15.341248Z",
     "iopub.status.busy": "2022-09-26T12:02:15.340556Z",
     "iopub.status.idle": "2022-09-26T12:02:15.370247Z",
     "shell.execute_reply": "2022-09-26T12:02:15.370844Z",
     "shell.execute_reply.started": "2022-09-26T11:32:14.356443Z"
    },
    "papermill": {
     "duration": 0.112816,
     "end_time": "2022-09-26T12:02:15.371104",
     "exception": false,
     "start_time": "2022-09-26T12:02:15.258288",
     "status": "completed"
    },
    "tags": []
   },
   "outputs": [
    {
     "data": {
      "text/html": [
       "<div>\n",
       "<style scoped>\n",
       "    .dataframe tbody tr th:only-of-type {\n",
       "        vertical-align: middle;\n",
       "    }\n",
       "\n",
       "    .dataframe tbody tr th {\n",
       "        vertical-align: top;\n",
       "    }\n",
       "\n",
       "    .dataframe thead th {\n",
       "        text-align: right;\n",
       "    }\n",
       "</style>\n",
       "<table border=\"1\" class=\"dataframe\">\n",
       "  <thead>\n",
       "    <tr style=\"text-align: right;\">\n",
       "      <th></th>\n",
       "      <th>Survived</th>\n",
       "      <th>Pclass</th>\n",
       "      <th>Sex</th>\n",
       "      <th>Age</th>\n",
       "      <th>SibSp</th>\n",
       "      <th>Parch</th>\n",
       "      <th>Fare</th>\n",
       "      <th>Embarked</th>\n",
       "    </tr>\n",
       "  </thead>\n",
       "  <tbody>\n",
       "    <tr>\n",
       "      <th>0</th>\n",
       "      <td>0.0</td>\n",
       "      <td>3.0</td>\n",
       "      <td>1.0</td>\n",
       "      <td>22.000000</td>\n",
       "      <td>1.0</td>\n",
       "      <td>0.0</td>\n",
       "      <td>7.2500</td>\n",
       "      <td>2.0</td>\n",
       "    </tr>\n",
       "    <tr>\n",
       "      <th>1</th>\n",
       "      <td>1.0</td>\n",
       "      <td>1.0</td>\n",
       "      <td>0.0</td>\n",
       "      <td>38.000000</td>\n",
       "      <td>1.0</td>\n",
       "      <td>0.0</td>\n",
       "      <td>71.2833</td>\n",
       "      <td>0.0</td>\n",
       "    </tr>\n",
       "    <tr>\n",
       "      <th>2</th>\n",
       "      <td>1.0</td>\n",
       "      <td>3.0</td>\n",
       "      <td>0.0</td>\n",
       "      <td>26.000000</td>\n",
       "      <td>0.0</td>\n",
       "      <td>0.0</td>\n",
       "      <td>7.9250</td>\n",
       "      <td>2.0</td>\n",
       "    </tr>\n",
       "    <tr>\n",
       "      <th>3</th>\n",
       "      <td>1.0</td>\n",
       "      <td>1.0</td>\n",
       "      <td>0.0</td>\n",
       "      <td>35.000000</td>\n",
       "      <td>1.0</td>\n",
       "      <td>0.0</td>\n",
       "      <td>53.1000</td>\n",
       "      <td>2.0</td>\n",
       "    </tr>\n",
       "    <tr>\n",
       "      <th>4</th>\n",
       "      <td>0.0</td>\n",
       "      <td>3.0</td>\n",
       "      <td>1.0</td>\n",
       "      <td>35.000000</td>\n",
       "      <td>0.0</td>\n",
       "      <td>0.0</td>\n",
       "      <td>8.0500</td>\n",
       "      <td>2.0</td>\n",
       "    </tr>\n",
       "    <tr>\n",
       "      <th>5</th>\n",
       "      <td>0.0</td>\n",
       "      <td>3.0</td>\n",
       "      <td>1.0</td>\n",
       "      <td>29.699118</td>\n",
       "      <td>0.0</td>\n",
       "      <td>0.0</td>\n",
       "      <td>8.4583</td>\n",
       "      <td>1.0</td>\n",
       "    </tr>\n",
       "  </tbody>\n",
       "</table>\n",
       "</div>"
      ],
      "text/plain": [
       "   Survived  Pclass  Sex        Age  SibSp  Parch     Fare  Embarked\n",
       "0       0.0     3.0  1.0  22.000000    1.0    0.0   7.2500       2.0\n",
       "1       1.0     1.0  0.0  38.000000    1.0    0.0  71.2833       0.0\n",
       "2       1.0     3.0  0.0  26.000000    0.0    0.0   7.9250       2.0\n",
       "3       1.0     1.0  0.0  35.000000    1.0    0.0  53.1000       2.0\n",
       "4       0.0     3.0  1.0  35.000000    0.0    0.0   8.0500       2.0\n",
       "5       0.0     3.0  1.0  29.699118    0.0    0.0   8.4583       1.0"
      ]
     },
     "execution_count": 11,
     "metadata": {},
     "output_type": "execute_result"
    }
   ],
   "source": [
    "from sklearn.impute import SimpleImputer\n",
    "simpleImp = SimpleImputer( missing_values = np.nan, strategy = 'mean' )\n",
    "\n",
    "# simpleImp = simpleImp.fit(dropTrainingData)\n",
    "# imputedTrainingData = simpleImp.transform(dropTrainingData)\n",
    "# --> this produces array whereas I want a DataFrame\n",
    "\n",
    "imputedTrainingData = pd.DataFrame( simpleImp.fit_transform(dropTrainingData), columns = dropTrainingData.columns )\n",
    "# from https://stackoverflow.com/questions/62191643/is-there-a-way-to-force-simpleimputer-to-return-a-pandas-dataframe \n",
    "# pd.DataFrame(SimpleImputer().fit_transform(df), columns = df.columns)\n",
    "\n",
    "# https://stackoverflow.com/questions/57797952/using-simple-imputer-with-pandas-dataframe\n",
    "# idf=pd.DataFrame(imp.fit_transform(df))\n",
    "\n",
    "imputedTrainingData.head(6)"
   ]
  },
  {
   "cell_type": "code",
   "execution_count": 12,
   "id": "double-wholesale",
   "metadata": {
    "execution": {
     "iopub.execute_input": "2022-09-26T12:02:15.537563Z",
     "iopub.status.busy": "2022-09-26T12:02:15.536882Z",
     "iopub.status.idle": "2022-09-26T12:02:15.543862Z",
     "shell.execute_reply": "2022-09-26T12:02:15.544346Z",
     "shell.execute_reply.started": "2022-09-26T11:32:14.394767Z"
    },
    "papermill": {
     "duration": 0.091591,
     "end_time": "2022-09-26T12:02:15.544530",
     "exception": false,
     "start_time": "2022-09-26T12:02:15.452939",
     "status": "completed"
    },
    "tags": []
   },
   "outputs": [
    {
     "data": {
      "text/plain": [
       "Survived    0\n",
       "Pclass      0\n",
       "Sex         0\n",
       "Age         0\n",
       "SibSp       0\n",
       "Parch       0\n",
       "Fare        0\n",
       "Embarked    0\n",
       "dtype: int64"
      ]
     },
     "execution_count": 12,
     "metadata": {},
     "output_type": "execute_result"
    }
   ],
   "source": [
    "# to check IF there is any NaN value. 0 value means there is no NaN value for a column / feature.\n",
    "imputedTrainingData.isnull().sum()"
   ]
  },
  {
   "cell_type": "code",
   "execution_count": 13,
   "id": "imperial-paris",
   "metadata": {
    "execution": {
     "iopub.execute_input": "2022-09-26T12:02:15.716939Z",
     "iopub.status.busy": "2022-09-26T12:02:15.716261Z",
     "iopub.status.idle": "2022-09-26T12:02:15.720755Z",
     "shell.execute_reply": "2022-09-26T12:02:15.720227Z",
     "shell.execute_reply.started": "2022-09-26T11:32:14.409195Z"
    },
    "papermill": {
     "duration": 0.095085,
     "end_time": "2022-09-26T12:02:15.720947",
     "exception": false,
     "start_time": "2022-09-26T12:02:15.625862",
     "status": "completed"
    },
    "tags": []
   },
   "outputs": [
    {
     "name": "stdout",
     "output_type": "stream",
     "text": [
      "Survived      342.000000\n",
      "Pclass       2057.000000\n",
      "Sex           577.000000\n",
      "Age         26461.913824\n",
      "SibSp         466.000000\n",
      "Parch         340.000000\n",
      "Fare        28693.949300\n",
      "Embarked     1371.000000\n",
      "dtype: float64 \n",
      " ---> sum of each column \n",
      "\n",
      "---> total of each column \n",
      " Survived    891\n",
      "Pclass      891\n",
      "Sex         891\n",
      "Age         891\n",
      "SibSp       891\n",
      "Parch       891\n",
      "Fare        891\n",
      "Embarked    891\n",
      "dtype: int64\n"
     ]
    }
   ],
   "source": [
    "print(imputedTrainingData.sum(), \"\\n ---> sum of each column \\n\")\n",
    "print(\"---> total of each column \\n\", imputedTrainingData.count())"
   ]
  },
  {
   "cell_type": "code",
   "execution_count": 14,
   "id": "sublime-thousand",
   "metadata": {
    "execution": {
     "iopub.execute_input": "2022-09-26T12:02:15.901540Z",
     "iopub.status.busy": "2022-09-26T12:02:15.890116Z",
     "iopub.status.idle": "2022-09-26T12:02:15.906231Z",
     "shell.execute_reply": "2022-09-26T12:02:15.905545Z",
     "shell.execute_reply.started": "2022-09-26T11:32:14.424155Z"
    },
    "papermill": {
     "duration": 0.103582,
     "end_time": "2022-09-26T12:02:15.906423",
     "exception": false,
     "start_time": "2022-09-26T12:02:15.802841",
     "status": "completed"
    },
    "tags": []
   },
   "outputs": [
    {
     "data": {
      "text/html": [
       "<div>\n",
       "<style scoped>\n",
       "    .dataframe tbody tr th:only-of-type {\n",
       "        vertical-align: middle;\n",
       "    }\n",
       "\n",
       "    .dataframe tbody tr th {\n",
       "        vertical-align: top;\n",
       "    }\n",
       "\n",
       "    .dataframe thead th {\n",
       "        text-align: right;\n",
       "    }\n",
       "</style>\n",
       "<table border=\"1\" class=\"dataframe\">\n",
       "  <thead>\n",
       "    <tr style=\"text-align: right;\">\n",
       "      <th></th>\n",
       "      <th>Survived</th>\n",
       "      <th>Pclass</th>\n",
       "      <th>Sex</th>\n",
       "      <th>Age</th>\n",
       "      <th>SibSp</th>\n",
       "      <th>Parch</th>\n",
       "      <th>Fare</th>\n",
       "      <th>Embarked</th>\n",
       "    </tr>\n",
       "  </thead>\n",
       "  <tbody>\n",
       "    <tr>\n",
       "      <th>Survived</th>\n",
       "      <td>1.000000</td>\n",
       "      <td>-0.338481</td>\n",
       "      <td>-0.543351</td>\n",
       "      <td>-0.069809</td>\n",
       "      <td>-0.035322</td>\n",
       "      <td>0.081629</td>\n",
       "      <td>0.257307</td>\n",
       "      <td>-0.163517</td>\n",
       "    </tr>\n",
       "    <tr>\n",
       "      <th>Pclass</th>\n",
       "      <td>-0.338481</td>\n",
       "      <td>1.000000</td>\n",
       "      <td>0.131900</td>\n",
       "      <td>-0.331339</td>\n",
       "      <td>0.083081</td>\n",
       "      <td>0.018443</td>\n",
       "      <td>-0.549500</td>\n",
       "      <td>0.157112</td>\n",
       "    </tr>\n",
       "    <tr>\n",
       "      <th>Sex</th>\n",
       "      <td>-0.543351</td>\n",
       "      <td>0.131900</td>\n",
       "      <td>1.000000</td>\n",
       "      <td>0.084153</td>\n",
       "      <td>-0.114631</td>\n",
       "      <td>-0.245489</td>\n",
       "      <td>-0.182333</td>\n",
       "      <td>0.104057</td>\n",
       "    </tr>\n",
       "    <tr>\n",
       "      <th>Age</th>\n",
       "      <td>-0.069809</td>\n",
       "      <td>-0.331339</td>\n",
       "      <td>0.084153</td>\n",
       "      <td>1.000000</td>\n",
       "      <td>-0.232625</td>\n",
       "      <td>-0.179191</td>\n",
       "      <td>0.091566</td>\n",
       "      <td>-0.022239</td>\n",
       "    </tr>\n",
       "    <tr>\n",
       "      <th>SibSp</th>\n",
       "      <td>-0.035322</td>\n",
       "      <td>0.083081</td>\n",
       "      <td>-0.114631</td>\n",
       "      <td>-0.232625</td>\n",
       "      <td>1.000000</td>\n",
       "      <td>0.414838</td>\n",
       "      <td>0.159651</td>\n",
       "      <td>0.066654</td>\n",
       "    </tr>\n",
       "    <tr>\n",
       "      <th>Parch</th>\n",
       "      <td>0.081629</td>\n",
       "      <td>0.018443</td>\n",
       "      <td>-0.245489</td>\n",
       "      <td>-0.179191</td>\n",
       "      <td>0.414838</td>\n",
       "      <td>1.000000</td>\n",
       "      <td>0.216225</td>\n",
       "      <td>0.038322</td>\n",
       "    </tr>\n",
       "    <tr>\n",
       "      <th>Fare</th>\n",
       "      <td>0.257307</td>\n",
       "      <td>-0.549500</td>\n",
       "      <td>-0.182333</td>\n",
       "      <td>0.091566</td>\n",
       "      <td>0.159651</td>\n",
       "      <td>0.216225</td>\n",
       "      <td>1.000000</td>\n",
       "      <td>-0.221226</td>\n",
       "    </tr>\n",
       "    <tr>\n",
       "      <th>Embarked</th>\n",
       "      <td>-0.163517</td>\n",
       "      <td>0.157112</td>\n",
       "      <td>0.104057</td>\n",
       "      <td>-0.022239</td>\n",
       "      <td>0.066654</td>\n",
       "      <td>0.038322</td>\n",
       "      <td>-0.221226</td>\n",
       "      <td>1.000000</td>\n",
       "    </tr>\n",
       "  </tbody>\n",
       "</table>\n",
       "</div>"
      ],
      "text/plain": [
       "          Survived    Pclass       Sex       Age     SibSp     Parch  \\\n",
       "Survived  1.000000 -0.338481 -0.543351 -0.069809 -0.035322  0.081629   \n",
       "Pclass   -0.338481  1.000000  0.131900 -0.331339  0.083081  0.018443   \n",
       "Sex      -0.543351  0.131900  1.000000  0.084153 -0.114631 -0.245489   \n",
       "Age      -0.069809 -0.331339  0.084153  1.000000 -0.232625 -0.179191   \n",
       "SibSp    -0.035322  0.083081 -0.114631 -0.232625  1.000000  0.414838   \n",
       "Parch     0.081629  0.018443 -0.245489 -0.179191  0.414838  1.000000   \n",
       "Fare      0.257307 -0.549500 -0.182333  0.091566  0.159651  0.216225   \n",
       "Embarked -0.163517  0.157112  0.104057 -0.022239  0.066654  0.038322   \n",
       "\n",
       "              Fare  Embarked  \n",
       "Survived  0.257307 -0.163517  \n",
       "Pclass   -0.549500  0.157112  \n",
       "Sex      -0.182333  0.104057  \n",
       "Age       0.091566 -0.022239  \n",
       "SibSp     0.159651  0.066654  \n",
       "Parch     0.216225  0.038322  \n",
       "Fare      1.000000 -0.221226  \n",
       "Embarked -0.221226  1.000000  "
      ]
     },
     "execution_count": 14,
     "metadata": {},
     "output_type": "execute_result"
    }
   ],
   "source": [
    "# The Correlation matrix for the selected columns / features. \n",
    "\n",
    "imputedTrainingData.corr()\n",
    "# --> dataframe.corr() --> a Pandas library "
   ]
  },
  {
   "cell_type": "code",
   "execution_count": 15,
   "id": "private-expression",
   "metadata": {
    "execution": {
     "iopub.execute_input": "2022-09-26T12:02:16.079010Z",
     "iopub.status.busy": "2022-09-26T12:02:16.078220Z",
     "iopub.status.idle": "2022-09-26T12:02:16.709430Z",
     "shell.execute_reply": "2022-09-26T12:02:16.708684Z",
     "shell.execute_reply.started": "2022-09-26T11:32:14.454325Z"
    },
    "papermill": {
     "duration": 0.719388,
     "end_time": "2022-09-26T12:02:16.709579",
     "exception": false,
     "start_time": "2022-09-26T12:02:15.990191",
     "status": "completed"
    },
    "tags": []
   },
   "outputs": [
    {
     "data": {
      "image/png": "[encoded data removed]",
      "text/plain": [
       "<Figure size 864x648 with 2 Axes>"
      ]
     },
     "metadata": {
      "needs_background": "light"
     },
     "output_type": "display_data"
    }
   ],
   "source": [
    "# Visualisation of the Correlation Matrix for the selected columns / features. \n",
    "# Refer to https://seaborn.pydata.org/generated/seaborn.heatmap.html for explanation of Heatmap\n",
    "\n",
    "corrmat = imputedTrainingData.corr()\n",
    "f, ax = plt.subplots(figsize=(12, 9))\n",
    "sns.heatmap(corrmat, annot = True, square=True);"
   ]
  },
  {
   "cell_type": "code",
   "execution_count": 16,
   "id": "appointed-camera",
   "metadata": {
    "execution": {
     "iopub.execute_input": "2022-09-26T12:02:16.886938Z",
     "iopub.status.busy": "2022-09-26T12:02:16.885629Z",
     "iopub.status.idle": "2022-09-26T12:02:25.563888Z",
     "shell.execute_reply": "2022-09-26T12:02:25.564398Z",
     "shell.execute_reply.started": "2022-09-26T11:32:14.942493Z"
    },
    "papermill": {
     "duration": 8.769516,
     "end_time": "2022-09-26T12:02:25.564585",
     "exception": false,
     "start_time": "2022-09-26T12:02:16.795069",
     "status": "completed"
    },
    "tags": []
   },
   "outputs": [
    {
     "data": {
      "image/png": "[encoded data removed]",
      "text/plain": [
       "<Figure size 1440x1440 with 44 Axes>"
      ]
     },
     "metadata": {
      "needs_background": "light"
     },
     "output_type": "display_data"
    }
   ],
   "source": [
    "# Pairplot matrix for the selected columns / features. \n",
    "# https://seaborn.pydata.org/generated/seaborn.pairplot.html#seaborn.pairplot\n",
    "\n",
    "sns.pairplot(imputedTrainingData, height=2.5, corner=True)\n",
    "plt.tight_layout()\n",
    "plt.show()"
   ]
  },
  {
   "cell_type": "code",
   "execution_count": 17,
   "id": "looking-knitting",
   "metadata": {
    "execution": {
     "iopub.execute_input": "2022-09-26T12:02:25.748328Z",
     "iopub.status.busy": "2022-09-26T12:02:25.742500Z",
     "iopub.status.idle": "2022-09-26T12:02:25.997543Z",
     "shell.execute_reply": "2022-09-26T12:02:25.996894Z",
     "shell.execute_reply.started": "2022-09-26T11:32:22.584691Z"
    },
    "papermill": {
     "duration": 0.345832,
     "end_time": "2022-09-26T12:02:25.997687",
     "exception": false,
     "start_time": "2022-09-26T12:02:25.651855",
     "status": "completed"
    },
    "tags": []
   },
   "outputs": [
    {
     "data": {
      "text/plain": [
       "<AxesSubplot:xlabel='Age', ylabel='Survived'>"
      ]
     },
     "execution_count": 17,
     "metadata": {},
     "output_type": "execute_result"
    },
    {
     "data": {
      "image/png": "[encoded data removed]",
      "text/plain": [
       "<Figure size 432x288 with 1 Axes>"
      ]
     },
     "metadata": {
      "needs_background": "light"
     },
     "output_type": "display_data"
    }
   ],
   "source": [
    "# Scatterplot matrix for \"Survived\" vs \"Age\" columns / features with \"Sex\" as the identifier. \n",
    "# https://seaborn.pydata.org/generated/seaborn.scatterplot.html#seaborn.scatterplot\n",
    "\n",
    "sns.scatterplot( data = imputedTrainingData, x = 'Age', y = 'Survived', hue = 'Sex' )"
   ]
  },
  {
   "cell_type": "code",
   "execution_count": 18,
   "id": "conceptual-norwegian",
   "metadata": {
    "execution": {
     "iopub.execute_input": "2022-09-26T12:02:26.184859Z",
     "iopub.status.busy": "2022-09-26T12:02:26.183790Z",
     "iopub.status.idle": "2022-09-26T12:02:26.420240Z",
     "shell.execute_reply": "2022-09-26T12:02:26.419533Z",
     "shell.execute_reply.started": "2022-09-26T11:32:22.805517Z"
    },
    "papermill": {
     "duration": 0.334895,
     "end_time": "2022-09-26T12:02:26.420396",
     "exception": false,
     "start_time": "2022-09-26T12:02:26.085501",
     "status": "completed"
    },
    "tags": []
   },
   "outputs": [
    {
     "data": {
      "text/plain": [
       "<AxesSubplot:xlabel='Fare', ylabel='Survived'>"
      ]
     },
     "execution_count": 18,
     "metadata": {},
     "output_type": "execute_result"
    },
    {
     "data": {
      "image/png": "[encoded data removed]",
      "text/plain": [
       "<Figure size 432x288 with 1 Axes>"
      ]
     },
     "metadata": {
      "needs_background": "light"
     },
     "output_type": "display_data"
    }
   ],
   "source": [
    "sns.scatterplot( data = imputedTrainingData, x = 'Fare', y = 'Survived', hue = 'Sex' )"
   ]
  },
  {
   "cell_type": "markdown",
   "id": "assumed-jacket",
   "metadata": {
    "papermill": {
     "duration": 0.088663,
     "end_time": "2022-09-26T12:02:26.597865",
     "exception": false,
     "start_time": "2022-09-26T12:02:26.509202",
     "status": "completed"
    },
    "tags": []
   },
   "source": [
    "## Creating Pipeline\n",
    "[top](#Contents)"
   ]
  },
  {
   "cell_type": "markdown",
   "id": "professional-quebec",
   "metadata": {
    "papermill": {
     "duration": 0.090171,
     "end_time": "2022-09-26T12:02:26.777331",
     "exception": false,
     "start_time": "2022-09-26T12:02:26.687160",
     "status": "completed"
    },
    "tags": []
   },
   "source": [
    "### Long hand approach for Pipeline for Logistic Regression model\n",
    "[top](#Contents)"
   ]
  },
  {
   "cell_type": "code",
   "execution_count": 19,
   "id": "sized-mounting",
   "metadata": {
    "execution": {
     "iopub.execute_input": "2022-09-26T12:02:26.962790Z",
     "iopub.status.busy": "2022-09-26T12:02:26.961791Z",
     "iopub.status.idle": "2022-09-26T12:02:26.964826Z",
     "shell.execute_reply": "2022-09-26T12:02:26.964290Z",
     "shell.execute_reply.started": "2022-09-26T11:32:23.011774Z"
    },
    "papermill": {
     "duration": 0.098799,
     "end_time": "2022-09-26T12:02:26.965021",
     "exception": false,
     "start_time": "2022-09-26T12:02:26.866222",
     "status": "completed"
    },
    "tags": []
   },
   "outputs": [],
   "source": [
    "target = imputedTrainingData['Survived']\n",
    "data = imputedTrainingData.drop(['Survived'],axis = 1)"
   ]
  },
  {
   "cell_type": "code",
   "execution_count": 20,
   "id": "accompanied-trash",
   "metadata": {
    "execution": {
     "iopub.execute_input": "2022-09-26T12:02:27.153357Z",
     "iopub.status.busy": "2022-09-26T12:02:27.152571Z",
     "iopub.status.idle": "2022-09-26T12:02:27.157375Z",
     "shell.execute_reply": "2022-09-26T12:02:27.156752Z",
     "shell.execute_reply.started": "2022-09-26T11:32:23.020314Z"
    },
    "papermill": {
     "duration": 0.102085,
     "end_time": "2022-09-26T12:02:27.157553",
     "exception": false,
     "start_time": "2022-09-26T12:02:27.055468",
     "status": "completed"
    },
    "tags": []
   },
   "outputs": [],
   "source": [
    "# splitting modified Titanic_train_data into training and test datasets\n",
    "# for reproduction, I used random_state = 5. \n",
    "\n",
    "from sklearn.model_selection import train_test_split\n",
    "X_train, X_test, y_train, y_test = train_test_split(data,target, test_size=0.3, random_state=5)"
   ]
  },
  {
   "cell_type": "code",
   "execution_count": 21,
   "id": "operating-cutting",
   "metadata": {
    "execution": {
     "iopub.execute_input": "2022-09-26T12:02:27.349857Z",
     "iopub.status.busy": "2022-09-26T12:02:27.349032Z",
     "iopub.status.idle": "2022-09-26T12:02:27.383770Z",
     "shell.execute_reply": "2022-09-26T12:02:27.383015Z",
     "shell.execute_reply.started": "2022-09-26T11:32:23.033519Z"
    },
    "papermill": {
     "duration": 0.134374,
     "end_time": "2022-09-26T12:02:27.383949",
     "exception": false,
     "start_time": "2022-09-26T12:02:27.249575",
     "status": "completed"
    },
    "tags": []
   },
   "outputs": [],
   "source": [
    "# to investigate the usefulness of the selected model\n",
    "from sklearn.linear_model import LogisticRegression\n",
    "LRC = LogisticRegression(random_state = 5, solver='lbfgs' )\n",
    "# , max_iter=10000\n",
    "LRC.fit(X_train,y_train)\n",
    "predictedLRC_test = LRC.predict(X_test)"
   ]
  },
  {
   "cell_type": "code",
   "execution_count": 22,
   "id": "forty-girlfriend",
   "metadata": {
    "execution": {
     "iopub.execute_input": "2022-09-26T12:02:27.571199Z",
     "iopub.status.busy": "2022-09-26T12:02:27.570153Z",
     "iopub.status.idle": "2022-09-26T12:02:27.577362Z",
     "shell.execute_reply": "2022-09-26T12:02:27.576755Z",
     "shell.execute_reply.started": "2022-09-26T11:32:23.071267Z"
    },
    "papermill": {
     "duration": 0.103269,
     "end_time": "2022-09-26T12:02:27.577532",
     "exception": false,
     "start_time": "2022-09-26T12:02:27.474263",
     "status": "completed"
    },
    "tags": []
   },
   "outputs": [
    {
     "data": {
      "text/plain": [
       "array([0., 1.])"
      ]
     },
     "execution_count": 22,
     "metadata": {},
     "output_type": "execute_result"
    }
   ],
   "source": [
    "LRC.classes_"
   ]
  },
  {
   "cell_type": "code",
   "execution_count": 23,
   "id": "composed-integrity",
   "metadata": {
    "execution": {
     "iopub.execute_input": "2022-09-26T12:02:27.772117Z",
     "iopub.status.busy": "2022-09-26T12:02:27.771132Z",
     "iopub.status.idle": "2022-09-26T12:02:27.776130Z",
     "shell.execute_reply": "2022-09-26T12:02:27.775437Z",
     "shell.execute_reply.started": "2022-09-26T11:32:23.080531Z"
    },
    "papermill": {
     "duration": 0.105247,
     "end_time": "2022-09-26T12:02:27.776302",
     "exception": false,
     "start_time": "2022-09-26T12:02:27.671055",
     "status": "completed"
    },
    "tags": []
   },
   "outputs": [
    {
     "data": {
      "text/plain": [
       "array([[-1.14446197e+00, -2.63532426e+00, -3.53975573e-02,\n",
       "        -2.96978896e-01, -7.29815828e-02, -1.52314115e-03,\n",
       "        -1.94996886e-01]])"
      ]
     },
     "execution_count": 23,
     "metadata": {},
     "output_type": "execute_result"
    }
   ],
   "source": [
    "LRC.coef_"
   ]
  },
  {
   "cell_type": "code",
   "execution_count": 24,
   "id": "competent-representative",
   "metadata": {
    "execution": {
     "iopub.execute_input": "2022-09-26T12:02:27.970667Z",
     "iopub.status.busy": "2022-09-26T12:02:27.969922Z",
     "iopub.status.idle": "2022-09-26T12:02:27.974230Z",
     "shell.execute_reply": "2022-09-26T12:02:27.973598Z",
     "shell.execute_reply.started": "2022-09-26T11:32:23.093621Z"
    },
    "papermill": {
     "duration": 0.104844,
     "end_time": "2022-09-26T12:02:27.974407",
     "exception": false,
     "start_time": "2022-09-26T12:02:27.869563",
     "status": "completed"
    },
    "tags": []
   },
   "outputs": [
    {
     "data": {
      "text/plain": [
       "array([5.2299428])"
      ]
     },
     "execution_count": 24,
     "metadata": {},
     "output_type": "execute_result"
    }
   ],
   "source": [
    "LRC.intercept_"
   ]
  },
  {
   "cell_type": "code",
   "execution_count": 25,
   "id": "portable-immunology",
   "metadata": {
    "execution": {
     "iopub.execute_input": "2022-09-26T12:02:28.163188Z",
     "iopub.status.busy": "2022-09-26T12:02:28.162500Z",
     "iopub.status.idle": "2022-09-26T12:02:28.171980Z",
     "shell.execute_reply": "2022-09-26T12:02:28.172573Z",
     "shell.execute_reply.started": "2022-09-26T11:32:23.459008Z"
    },
    "papermill": {
     "duration": 0.105607,
     "end_time": "2022-09-26T12:02:28.172792",
     "exception": false,
     "start_time": "2022-09-26T12:02:28.067185",
     "status": "completed"
    },
    "tags": []
   },
   "outputs": [
    {
     "name": "stdout",
     "output_type": "stream",
     "text": [
      "              precision    recall  f1-score   support\n",
      "\n",
      "         0.0       0.83      0.90      0.87       167\n",
      "         1.0       0.81      0.69      0.75       101\n",
      "\n",
      "    accuracy                           0.82       268\n",
      "   macro avg       0.82      0.80      0.81       268\n",
      "weighted avg       0.82      0.82      0.82       268\n",
      "\n"
     ]
    }
   ],
   "source": [
    "from sklearn.metrics import classification_report\n",
    "print( classification_report(y_test,predictedLRC_test) )"
   ]
  },
  {
   "cell_type": "code",
   "execution_count": 26,
   "id": "mobile-boring",
   "metadata": {
    "execution": {
     "iopub.execute_input": "2022-09-26T12:02:28.363201Z",
     "iopub.status.busy": "2022-09-26T12:02:28.362412Z",
     "iopub.status.idle": "2022-09-26T12:02:28.377988Z",
     "shell.execute_reply": "2022-09-26T12:02:28.378548Z",
     "shell.execute_reply.started": "2022-09-26T11:32:23.473440Z"
    },
    "papermill": {
     "duration": 0.114221,
     "end_time": "2022-09-26T12:02:28.378760",
     "exception": false,
     "start_time": "2022-09-26T12:02:28.264539",
     "status": "completed"
    },
    "tags": []
   },
   "outputs": [
    {
     "name": "stdout",
     "output_type": "stream",
     "text": [
      "LRC.score: 0.8246268656716418\n",
      "LRC accuracy_score: 0.8246268656716418\n",
      "Both values show that the Logistic Regression model classified accurately 0.8246268656716418 of fraction of the (actual) y_test values\n",
      "The number of correctly classified y_test is 221\n"
     ]
    }
   ],
   "source": [
    "from sklearn.metrics import accuracy_score\n",
    "\n",
    "# default classification accuracy score\n",
    "print ( \"LRC.score:\" , LRC.score(X_test,y_test) )\n",
    "\n",
    "print ( \"LRC accuracy_score:\" , accuracy_score (y_test, LRC.predict(X_test) ) )\n",
    "print (\"Both values show that the Logistic Regression model classified accurately\", LRC.score(X_test,y_test), \"of fraction of the (actual) y_test values\")\n",
    "print('The number of correctly classified y_test is' , accuracy_score(y_test, LRC.predict(X_test), normalize = False) )"
   ]
  },
  {
   "cell_type": "markdown",
   "id": "forbidden-ethernet",
   "metadata": {
    "papermill": {
     "duration": 0.09173,
     "end_time": "2022-09-26T12:02:28.562919",
     "exception": false,
     "start_time": "2022-09-26T12:02:28.471189",
     "status": "completed"
    },
    "tags": []
   },
   "source": [
    "### **Hint of model.score(X,y) and accuracy_score(y_true,y_predicted)**\n",
    "[top](#Contents)\n",
    "\n",
    "The reason that the LRC.score and LRC accuracy_score values are the same is because the function inside `LRC.score(X_test, y_test)` is the `accuracy_score(y_test, LRC.predict(X_test))`. <br>\n",
    "\n",
    "See the actual codes in the GitHub: https://github.com/scikit-learn/scikit-learn/blob/baf0ea25d/sklearn/base.py#L640 <br>"
   ]
  },
  {
   "cell_type": "markdown",
   "id": "overhead-baker",
   "metadata": {
    "papermill": {
     "duration": 0.090674,
     "end_time": "2022-09-26T12:02:28.744884",
     "exception": false,
     "start_time": "2022-09-26T12:02:28.654210",
     "status": "completed"
    },
    "tags": []
   },
   "source": [
    "### Short hand approach for Pipeline for Logistic Regression model\n",
    "[top](#Contents)"
   ]
  },
  {
   "cell_type": "code",
   "execution_count": 27,
   "id": "frank-holly",
   "metadata": {
    "execution": {
     "iopub.execute_input": "2022-09-26T12:02:28.939761Z",
     "iopub.status.busy": "2022-09-26T12:02:28.938710Z",
     "iopub.status.idle": "2022-09-26T12:02:28.977461Z",
     "shell.execute_reply": "2022-09-26T12:02:28.976716Z",
     "shell.execute_reply.started": "2022-09-26T11:32:23.496285Z"
    },
    "papermill": {
     "duration": 0.140181,
     "end_time": "2022-09-26T12:02:28.977665",
     "exception": false,
     "start_time": "2022-09-26T12:02:28.837484",
     "status": "completed"
    },
    "tags": []
   },
   "outputs": [
    {
     "name": "stdout",
     "output_type": "stream",
     "text": [
      "Test Accuracy: 0.8246268656716418\n"
     ]
    }
   ],
   "source": [
    "# Pipeline\n",
    "\n",
    "# to replicate the above process using Pipeline\n",
    "\n",
    "# must use the DataFrame after dropping column, labelling categorical column/feature, and filling NaN \n",
    "targetPipeline = imputedTrainingData['Survived']\n",
    "dataPipeline = imputedTrainingData.drop(['Survived'],axis = 1)\n",
    "\n",
    "from sklearn.model_selection import train_test_split\n",
    "X_train_pipe, X_test_pipe, y_train_pipe, y_test_pipe = train_test_split(dataPipeline, targetPipeline, test_size = 0.3, random_state = 5)\n",
    "\n",
    "# a useful wrapper tool\n",
    "from sklearn.pipeline import make_pipeline \n",
    "\n",
    "# I do not need to write this again as it has been done above. However, this action assumes I only define Pipeline. \n",
    "from sklearn.linear_model import LogisticRegression\n",
    "\n",
    "pipeline_LR = make_pipeline( LogisticRegression(random_state = 5, solver='lbfgs' ) )\n",
    "# , max_iter=10000\n",
    "pipeline_LR.fit(X_train_pipe,y_train_pipe)\n",
    "y_preds_Pipe_logReg = pipeline_LR.predict(X_test_pipe)\n",
    "print( 'Test Accuracy: %.16f' % pipeline_LR.score(X_test_pipe,y_test_pipe) )"
   ]
  },
  {
   "cell_type": "code",
   "execution_count": 28,
   "id": "decreased-student",
   "metadata": {
    "execution": {
     "iopub.execute_input": "2022-09-26T12:02:29.168795Z",
     "iopub.status.busy": "2022-09-26T12:02:29.168082Z",
     "iopub.status.idle": "2022-09-26T12:02:29.178592Z",
     "shell.execute_reply": "2022-09-26T12:02:29.177800Z",
     "shell.execute_reply.started": "2022-09-26T11:32:23.538678Z"
    },
    "papermill": {
     "duration": 0.107309,
     "end_time": "2022-09-26T12:02:29.178806",
     "exception": false,
     "start_time": "2022-09-26T12:02:29.071497",
     "status": "completed"
    },
    "tags": []
   },
   "outputs": [
    {
     "name": "stdout",
     "output_type": "stream",
     "text": [
      "              precision    recall  f1-score   support\n",
      "\n",
      "         0.0       0.83      0.90      0.87       167\n",
      "         1.0       0.81      0.69      0.75       101\n",
      "\n",
      "    accuracy                           0.82       268\n",
      "   macro avg       0.82      0.80      0.81       268\n",
      "weighted avg       0.82      0.82      0.82       268\n",
      "\n"
     ]
    }
   ],
   "source": [
    "from sklearn.metrics import classification_report\n",
    "print( classification_report(y_test_pipe,y_preds_Pipe_logReg) )"
   ]
  },
  {
   "cell_type": "markdown",
   "id": "reasonable-sherman",
   "metadata": {
    "papermill": {
     "duration": 0.091655,
     "end_time": "2022-09-26T12:02:29.371463",
     "exception": false,
     "start_time": "2022-09-26T12:02:29.279808",
     "status": "completed"
    },
    "tags": []
   },
   "source": [
    "### Long hand for Cross Validation for Logistic Regression model\n",
    "[top](#Contents)"
   ]
  },
  {
   "cell_type": "code",
   "execution_count": 29,
   "id": "civic-toilet",
   "metadata": {
    "execution": {
     "iopub.execute_input": "2022-09-26T12:02:29.558035Z",
     "iopub.status.busy": "2022-09-26T12:02:29.557355Z",
     "iopub.status.idle": "2022-09-26T12:02:29.888933Z",
     "shell.execute_reply": "2022-09-26T12:02:29.888280Z",
     "shell.execute_reply.started": "2022-09-26T11:32:23.553072Z"
    },
    "papermill": {
     "duration": 0.426036,
     "end_time": "2022-09-26T12:02:29.889078",
     "exception": false,
     "start_time": "2022-09-26T12:02:29.463042",
     "status": "completed"
    },
    "tags": []
   },
   "outputs": [
    {
     "name": "stderr",
     "output_type": "stream",
     "text": [
      "/opt/conda/lib/python3.7/site-packages/sklearn/linear_model/_logistic.py:765: ConvergenceWarning: lbfgs failed to converge (status=1):\n",
      "STOP: TOTAL NO. of ITERATIONS REACHED LIMIT.\n",
      "\n",
      "Increase the number of iterations (max_iter) or scale the data as shown in:\n",
      "    https://scikit-learn.org/stable/modules/preprocessing.html\n",
      "Please also refer to the documentation for alternative solver options:\n",
      "    https://scikit-learn.org/stable/modules/linear_model.html#logistic-regression\n",
      "  extra_warning_msg=_LOGISTIC_SOLVER_CONVERGENCE_MSG)\n"
     ]
    },
    {
     "name": "stdout",
     "output_type": "stream",
     "text": [
      "CV accuracy scores: [0.80952381 0.84126984 0.85714286 0.79032258 0.82258065 0.74193548\n",
      " 0.83870968 0.75806452 0.69354839 0.74193548]\n",
      "CV accuracy:  0.7895 +/-  0.0509 \n"
     ]
    },
    {
     "name": "stderr",
     "output_type": "stream",
     "text": [
      "/opt/conda/lib/python3.7/site-packages/sklearn/linear_model/_logistic.py:765: ConvergenceWarning: lbfgs failed to converge (status=1):\n",
      "STOP: TOTAL NO. of ITERATIONS REACHED LIMIT.\n",
      "\n",
      "Increase the number of iterations (max_iter) or scale the data as shown in:\n",
      "    https://scikit-learn.org/stable/modules/preprocessing.html\n",
      "Please also refer to the documentation for alternative solver options:\n",
      "    https://scikit-learn.org/stable/modules/linear_model.html#logistic-regression\n",
      "  extra_warning_msg=_LOGISTIC_SOLVER_CONVERGENCE_MSG)\n"
     ]
    }
   ],
   "source": [
    "# Cross Validation (CV) for the Logistic Regression with Folds = 10\n",
    "\n",
    "from sklearn.model_selection import cross_val_score\n",
    "scores_LR = cross_val_score( LRC, X_train, y_train, cv = 10 )\n",
    "\n",
    "print('CV accuracy scores: %s' % scores_LR)\n",
    "\n",
    "# print( 'CV accuracy: %.4f +/- %.4f' % ( np.mean(scores_LR), np.std(scores_LR) )  )\n",
    "\n",
    "print( f'CV accuracy: {np.mean(scores_LR): .4f} +/- {np.std(scores_LR): .4f} ' )"
   ]
  },
  {
   "cell_type": "markdown",
   "id": "comparable-norwegian",
   "metadata": {
    "papermill": {
     "duration": 0.09284,
     "end_time": "2022-09-26T12:02:30.074516",
     "exception": false,
     "start_time": "2022-09-26T12:02:29.981676",
     "status": "completed"
    },
    "tags": []
   },
   "source": [
    "### Short hand for Cross Validation for Logistic Regression model\n",
    "[top](#Contents)"
   ]
  },
  {
   "cell_type": "code",
   "execution_count": 30,
   "id": "completed-philosophy",
   "metadata": {
    "execution": {
     "iopub.execute_input": "2022-09-26T12:02:30.268120Z",
     "iopub.status.busy": "2022-09-26T12:02:30.267399Z",
     "iopub.status.idle": "2022-09-26T12:02:30.599898Z",
     "shell.execute_reply": "2022-09-26T12:02:30.600596Z",
     "shell.execute_reply.started": "2022-09-26T11:32:23.835076Z"
    },
    "papermill": {
     "duration": 0.433571,
     "end_time": "2022-09-26T12:02:30.600839",
     "exception": false,
     "start_time": "2022-09-26T12:02:30.167268",
     "status": "completed"
    },
    "tags": []
   },
   "outputs": [
    {
     "name": "stderr",
     "output_type": "stream",
     "text": [
      "/opt/conda/lib/python3.7/site-packages/sklearn/linear_model/_logistic.py:765: ConvergenceWarning: lbfgs failed to converge (status=1):\n",
      "STOP: TOTAL NO. of ITERATIONS REACHED LIMIT.\n",
      "\n",
      "Increase the number of iterations (max_iter) or scale the data as shown in:\n",
      "    https://scikit-learn.org/stable/modules/preprocessing.html\n",
      "Please also refer to the documentation for alternative solver options:\n",
      "    https://scikit-learn.org/stable/modules/linear_model.html#logistic-regression\n",
      "  extra_warning_msg=_LOGISTIC_SOLVER_CONVERGENCE_MSG)\n"
     ]
    },
    {
     "name": "stdout",
     "output_type": "stream",
     "text": [
      "CV accuracy scores: [0.80952381 0.84126984 0.85714286 0.79032258 0.82258065 0.74193548\n",
      " 0.83870968 0.75806452 0.69354839 0.74193548]\n",
      "CV accuracy: 0.7895 +/- 0.0509\n"
     ]
    },
    {
     "name": "stderr",
     "output_type": "stream",
     "text": [
      "/opt/conda/lib/python3.7/site-packages/sklearn/linear_model/_logistic.py:765: ConvergenceWarning: lbfgs failed to converge (status=1):\n",
      "STOP: TOTAL NO. of ITERATIONS REACHED LIMIT.\n",
      "\n",
      "Increase the number of iterations (max_iter) or scale the data as shown in:\n",
      "    https://scikit-learn.org/stable/modules/preprocessing.html\n",
      "Please also refer to the documentation for alternative solver options:\n",
      "    https://scikit-learn.org/stable/modules/linear_model.html#logistic-regression\n",
      "  extra_warning_msg=_LOGISTIC_SOLVER_CONVERGENCE_MSG)\n"
     ]
    }
   ],
   "source": [
    "# Cross Validation (CV) for the Pipeline with Folds = 10\n",
    "\n",
    "from sklearn.model_selection import cross_val_score\n",
    "scores_LR_pipe = cross_val_score( pipeline_LR, X_train_pipe, y_train_pipe, cv = 10 )\n",
    "\n",
    "print('CV accuracy scores: %s' % scores_LR_pipe)\n",
    "print( 'CV accuracy: %.4f +/- %.4f' % ( np.mean(scores_LR_pipe), np.std(scores_LR_pipe) )  )"
   ]
  },
  {
   "cell_type": "markdown",
   "id": "necessary-tradition",
   "metadata": {
    "papermill": {
     "duration": 0.095461,
     "end_time": "2022-09-26T12:02:30.793447",
     "exception": false,
     "start_time": "2022-09-26T12:02:30.697986",
     "status": "completed"
    },
    "tags": []
   },
   "source": [
    "#### **Observation on the numbers**\n",
    "[top](#Contents)\n",
    "\n",
    "Good thing is Cross Validation (CV) score and its average are the same for both Logistic Regression model, and its equivalent Pipeline. <br>\n",
    "\n",
    "Note that the average CV score band limit includes the score without CV. <br>\n",
    "With 10 folds, the average CV score is 0.7895 plus / minus 0.0509 or from 0.7386 to 0.8404. So, the score without the CV, which is 0.8246268656716418, is included in the band limit. <br>"
   ]
  },
  {
   "cell_type": "markdown",
   "id": "hollow-restriction",
   "metadata": {
    "papermill": {
     "duration": 0.09401,
     "end_time": "2022-09-26T12:02:30.982270",
     "exception": false,
     "start_time": "2022-09-26T12:02:30.888260",
     "status": "completed"
    },
    "tags": []
   },
   "source": [
    "### **Great! The skeleton Pipeline works as expected.**\n",
    "[top](#Contents)\n",
    "\n",
    "This is because the Score, Classification Report values, and CV values from the Pipeline match with the single Logistic Regression model.  "
   ]
  },
  {
   "cell_type": "markdown",
   "id": "attended-subscription",
   "metadata": {
    "papermill": {
     "duration": 0.093374,
     "end_time": "2022-09-26T12:02:31.170172",
     "exception": false,
     "start_time": "2022-09-26T12:02:31.076798",
     "status": "completed"
    },
    "tags": []
   },
   "source": [
    "### Long hand for adding Scaling to the Logistic Regression model\n",
    "[top](#Contents)"
   ]
  },
  {
   "cell_type": "code",
   "execution_count": 31,
   "id": "sticky-orbit",
   "metadata": {
    "execution": {
     "iopub.execute_input": "2022-09-26T12:02:31.368015Z",
     "iopub.status.busy": "2022-09-26T12:02:31.367327Z",
     "iopub.status.idle": "2022-09-26T12:02:31.382054Z",
     "shell.execute_reply": "2022-09-26T12:02:31.382664Z",
     "shell.execute_reply.started": "2022-09-26T11:32:24.105878Z"
    },
    "papermill": {
     "duration": 0.117291,
     "end_time": "2022-09-26T12:02:31.382866",
     "exception": false,
     "start_time": "2022-09-26T12:02:31.265575",
     "status": "completed"
    },
    "tags": []
   },
   "outputs": [
    {
     "name": "stdout",
     "output_type": "stream",
     "text": [
      "Accuracy: 0.8208955223880597\n"
     ]
    }
   ],
   "source": [
    "from sklearn.preprocessing import StandardScaler\n",
    "from sklearn.linear_model import LogisticRegression\n",
    "\n",
    "standardScaler = StandardScaler()\n",
    "\n",
    "# this is a shortcut to fit(X_train) and then transform (X_train)\n",
    "# p = standardScaler.fit_transform(X_train) \n",
    "\n",
    "p1 = standardScaler.fit(X_train) \n",
    "p2 = p1.transform(X_train)\n",
    "\n",
    "LRC_Scale = LogisticRegression(random_state = 5, solver='lbfgs' )\n",
    "\n",
    "# if use p = standardScaler.fit_transform(X_train), then use the below code\n",
    "# LRC_Scale.fit( p, y_train )\n",
    "\n",
    "LRC_Scale.fit( p2, y_train )\n",
    "\n",
    "q = standardScaler.transform(X_test)\n",
    "predictedLRC_scaling_test = LRC_Scale.predict(q)\n",
    "\n",
    "print( 'Accuracy: %.16f' % LRC_Scale.score( q, y_test ) )"
   ]
  },
  {
   "cell_type": "markdown",
   "id": "physical-chapel",
   "metadata": {
    "papermill": {
     "duration": 0.094166,
     "end_time": "2022-09-26T12:02:31.571257",
     "exception": false,
     "start_time": "2022-09-26T12:02:31.477091",
     "status": "completed"
    },
    "tags": []
   },
   "source": [
    "### Short hand for adding Scaling to the Pipeline for Logistic Regression model\n",
    "[top](#Contents)"
   ]
  },
  {
   "cell_type": "code",
   "execution_count": 32,
   "id": "indirect-indonesia",
   "metadata": {
    "execution": {
     "iopub.execute_input": "2022-09-26T12:02:31.773394Z",
     "iopub.status.busy": "2022-09-26T12:02:31.772650Z",
     "iopub.status.idle": "2022-09-26T12:02:31.786650Z",
     "shell.execute_reply": "2022-09-26T12:02:31.785768Z",
     "shell.execute_reply.started": "2022-09-26T11:32:24.134583Z"
    },
    "papermill": {
     "duration": 0.121188,
     "end_time": "2022-09-26T12:02:31.786865",
     "exception": false,
     "start_time": "2022-09-26T12:02:31.665677",
     "status": "completed"
    },
    "tags": []
   },
   "outputs": [
    {
     "name": "stdout",
     "output_type": "stream",
     "text": [
      "Accuracy_LogisticRegression_Pipeline: 0.8208955223880597\n"
     ]
    }
   ],
   "source": [
    "# adding Scaling to the skeleton Pipeline\n",
    "\n",
    "from sklearn.preprocessing import StandardScaler\n",
    "\n",
    "pipeline_LR_upd = make_pipeline( StandardScaler(), LogisticRegression(random_state = 5, solver='lbfgs' ) )\n",
    "# , max_iter=10000\n",
    "pipeline_LR_upd.fit(X_train_pipe,y_train_pipe)\n",
    "y_preds_Pipe_logReg_upd = pipeline_LR_upd.predict(X_test_pipe)\n",
    "\n",
    "print( 'Accuracy_LogisticRegression_Pipeline: %.16f' % pipeline_LR_upd.score(X_test_pipe,y_test_pipe) )"
   ]
  },
  {
   "cell_type": "code",
   "execution_count": 33,
   "id": "federal-hours",
   "metadata": {
    "execution": {
     "iopub.execute_input": "2022-09-26T12:02:31.982163Z",
     "iopub.status.busy": "2022-09-26T12:02:31.981452Z",
     "iopub.status.idle": "2022-09-26T12:02:32.000567Z",
     "shell.execute_reply": "2022-09-26T12:02:32.001215Z",
     "shell.execute_reply.started": "2022-09-26T11:32:24.163474Z"
    },
    "papermill": {
     "duration": 0.118429,
     "end_time": "2022-09-26T12:02:32.001397",
     "exception": false,
     "start_time": "2022-09-26T12:02:31.882968",
     "status": "completed"
    },
    "tags": []
   },
   "outputs": [
    {
     "name": "stdout",
     "output_type": "stream",
     "text": [
      "pipeline_LR_upd.score: 0.8208955223880597\n",
      "pipeline_LR_upd accuracy_score: 0.8208955223880597\n",
      "Both values show that the Logistic Regression model classified accurately 0.8208955223880597 of fraction of the (actual) y_test values\n",
      "The number of correctly classified y_test is 220\n"
     ]
    }
   ],
   "source": [
    "# Accuracy for the pipeline_LR_upd\n",
    "\n",
    "from sklearn.metrics import accuracy_score\n",
    "\n",
    "# default classification accuracy score\n",
    "print ( \"pipeline_LR_upd.score:\" , pipeline_LR_upd.score(X_test_pipe,y_test_pipe) )\n",
    "\n",
    "print ( \"pipeline_LR_upd accuracy_score:\" , accuracy_score (y_test, pipeline_LR_upd.predict(X_test_pipe) ) )\n",
    "print (\"Both values show that the Logistic Regression model classified accurately\", pipeline_LR_upd.score(X_test_pipe,y_test_pipe), \"of fraction of the (actual) y_test values\")\n",
    "print('The number of correctly classified y_test is' , accuracy_score(y_test, pipeline_LR_upd.predict(X_test_pipe), normalize = False) )"
   ]
  },
  {
   "cell_type": "markdown",
   "id": "passing-arrow",
   "metadata": {
    "papermill": {
     "duration": 0.09913,
     "end_time": "2022-09-26T12:02:32.199172",
     "exception": false,
     "start_time": "2022-09-26T12:02:32.100042",
     "status": "completed"
    },
    "tags": []
   },
   "source": [
    "### Repeating the above steps for Random Forest Classifier model\n",
    "[top](#Contents)"
   ]
  },
  {
   "cell_type": "code",
   "execution_count": 34,
   "id": "earned-integer",
   "metadata": {
    "execution": {
     "iopub.execute_input": "2022-09-26T12:02:32.391314Z",
     "iopub.status.busy": "2022-09-26T12:02:32.390604Z",
     "iopub.status.idle": "2022-09-26T12:02:32.816864Z",
     "shell.execute_reply": "2022-09-26T12:02:32.816076Z",
     "shell.execute_reply.started": "2022-09-26T11:32:24.187597Z"
    },
    "papermill": {
     "duration": 0.522813,
     "end_time": "2022-09-26T12:02:32.817062",
     "exception": false,
     "start_time": "2022-09-26T12:02:32.294249",
     "status": "completed"
    },
    "tags": []
   },
   "outputs": [
    {
     "name": "stdout",
     "output_type": "stream",
     "text": [
      "Pipeline(steps=[('standardscaler', StandardScaler()),\n",
      "                ('randomforestclassifier',\n",
      "                 RandomForestClassifier(random_state=5))]) ---> pipeline_RFC.fit(X_train,y_train)\n",
      "Accuracy_RandomForestClassifier_Pipeline: 0.8208955223880597\n"
     ]
    }
   ],
   "source": [
    "# Create Pipeline\n",
    "\n",
    "pipeline_RFC = make_pipeline( StandardScaler(), RandomForestClassifier(n_estimators = 100, random_state = 5) )\n",
    "pipeline_RFC.fit(X_train_pipe,y_train_pipe)\n",
    "print(pipeline_RFC.fit(X_train_pipe,y_train_pipe), \"---> pipeline_RFC.fit(X_train,y_train)\")\n",
    "y_preds_Pipe_RdmForClasf = pipeline_RFC.predict(X_test_pipe)\n",
    "print( 'Accuracy_RandomForestClassifier_Pipeline: %.16f' % pipeline_RFC.score(X_test_pipe,y_test_pipe) )"
   ]
  },
  {
   "cell_type": "markdown",
   "id": "communist-arrangement",
   "metadata": {
    "papermill": {
     "duration": 0.094176,
     "end_time": "2022-09-26T12:02:33.007590",
     "exception": false,
     "start_time": "2022-09-26T12:02:32.913414",
     "status": "completed"
    },
    "tags": []
   },
   "source": [
    "#### **Observation**\n",
    "[top](#Contents)\n",
    "\n",
    "The accuracy of the Pipeline containing RandomForestClassifier model, and Standard Scaler is the same as the accuracy of the Pipeline containing LogisticRegression model, and Standard Scaler. <br>\n",
    "\n",
    "I may have made a mistake somewhere. So I checked if the predictions of y test values are the same for both RandomForestClassifier model, and LogisticRegression model. <br>\n",
    "\n",
    "Below shows there are some values that do not match. However, this is not a strong validation of the calculation of the accuracy. <br>\n",
    "\n",
    "The next cell describes how the 2 models behave in terms of `model.predict_proba(X)` method. <br> \n",
    "\n",
    "The outcome is conclusive where it shows that the all of the probability estimates for Class 1 calculated from the RandomForestClassifier model do not match with ones from the LogisticRegression model. <br>\n",
    "\n",
    "This means that the calculation for both accuracies of these models is correct. <br>"
   ]
  },
  {
   "cell_type": "code",
   "execution_count": 35,
   "id": "respective-state",
   "metadata": {
    "execution": {
     "iopub.execute_input": "2022-09-26T12:02:33.211232Z",
     "iopub.status.busy": "2022-09-26T12:02:33.210235Z",
     "iopub.status.idle": "2022-09-26T12:02:33.214273Z",
     "shell.execute_reply": "2022-09-26T12:02:33.214922Z",
     "shell.execute_reply.started": "2022-09-26T11:32:24.558956Z"
    },
    "papermill": {
     "duration": 0.107335,
     "end_time": "2022-09-26T12:02:33.215099",
     "exception": false,
     "start_time": "2022-09-26T12:02:33.107764",
     "status": "completed"
    },
    "tags": []
   },
   "outputs": [
    {
     "data": {
      "text/plain": [
       "array([ True,  True,  True,  True, False,  True,  True,  True,  True,\n",
       "        True,  True,  True,  True,  True,  True,  True,  True, False,\n",
       "        True,  True,  True,  True,  True,  True, False, False,  True,\n",
       "       False,  True,  True,  True,  True,  True,  True,  True,  True,\n",
       "        True,  True,  True,  True,  True,  True,  True,  True,  True,\n",
       "        True,  True,  True, False,  True,  True,  True,  True,  True,\n",
       "        True,  True, False,  True,  True,  True,  True,  True, False,\n",
       "        True,  True,  True,  True,  True,  True,  True,  True,  True,\n",
       "        True,  True,  True,  True,  True, False,  True,  True,  True,\n",
       "        True,  True,  True,  True,  True,  True,  True,  True,  True,\n",
       "        True,  True,  True,  True,  True,  True,  True,  True,  True,\n",
       "        True, False,  True,  True,  True,  True,  True,  True,  True,\n",
       "        True, False,  True,  True, False,  True,  True,  True,  True,\n",
       "        True,  True,  True, False,  True,  True,  True,  True,  True,\n",
       "        True,  True,  True,  True,  True,  True,  True,  True,  True,\n",
       "        True,  True,  True,  True,  True,  True,  True,  True,  True,\n",
       "       False,  True,  True,  True,  True, False,  True,  True,  True,\n",
       "        True,  True,  True, False,  True,  True,  True,  True,  True,\n",
       "        True,  True,  True,  True,  True,  True,  True,  True,  True,\n",
       "        True, False,  True,  True,  True,  True,  True,  True,  True,\n",
       "        True,  True,  True,  True,  True,  True,  True,  True,  True,\n",
       "        True,  True,  True,  True,  True,  True,  True,  True,  True,\n",
       "        True,  True,  True,  True,  True,  True,  True,  True,  True,\n",
       "       False,  True,  True,  True,  True,  True,  True,  True,  True,\n",
       "        True,  True,  True,  True,  True,  True,  True, False,  True,\n",
       "        True, False,  True, False,  True,  True,  True,  True,  True,\n",
       "        True,  True,  True, False, False, False,  True,  True,  True,\n",
       "        True,  True,  True,  True,  True, False,  True,  True,  True,\n",
       "        True, False, False, False,  True,  True,  True,  True,  True,\n",
       "        True,  True,  True,  True, False,  True, False])"
      ]
     },
     "execution_count": 35,
     "metadata": {},
     "output_type": "execute_result"
    }
   ],
   "source": [
    "# y_preds_Pipe_RdmForClasf = pipeline_RFC.predict(X_test_pipe) \n",
    "# y_preds_Pipe_logReg_upd = pipeline_LR_upd.predict(X_test_pipe) \n",
    "\n",
    "# https://scikit-learn.org/stable/glossary.html#methods. \n",
    "# This explains both the machineLearningModel.predict(X) method and machineLearningModel.predict_proba(X)\n",
    "\n",
    "y_preds_Pipe_RdmForClasf == y_preds_Pipe_logReg_upd"
   ]
  },
  {
   "cell_type": "code",
   "execution_count": 36,
   "id": "coordinate-judge",
   "metadata": {
    "execution": {
     "iopub.execute_input": "2022-09-26T12:02:33.411358Z",
     "iopub.status.busy": "2022-09-26T12:02:33.410363Z",
     "iopub.status.idle": "2022-09-26T12:02:33.438401Z",
     "shell.execute_reply": "2022-09-26T12:02:33.438981Z",
     "shell.execute_reply.started": "2022-09-26T11:32:24.568226Z"
    },
    "papermill": {
     "duration": 0.128898,
     "end_time": "2022-09-26T12:02:33.439163",
     "exception": false,
     "start_time": "2022-09-26T12:02:33.310265",
     "status": "completed"
    },
    "tags": []
   },
   "outputs": [
    {
     "data": {
      "text/plain": [
       "array([False, False, False, False, False, False, False, False, False,\n",
       "       False, False, False, False, False, False, False, False, False,\n",
       "       False, False, False, False, False, False, False, False, False,\n",
       "       False, False, False, False, False, False, False, False, False,\n",
       "       False, False, False, False, False, False, False, False, False,\n",
       "       False, False, False, False, False, False, False, False, False,\n",
       "       False, False, False, False, False, False, False, False, False,\n",
       "       False, False, False, False, False, False, False, False, False,\n",
       "       False, False, False, False, False, False, False, False, False,\n",
       "       False, False, False, False, False, False, False, False, False,\n",
       "       False, False, False, False, False, False, False, False, False,\n",
       "       False, False, False, False, False, False, False, False, False,\n",
       "       False, False, False, False, False, False, False, False, False,\n",
       "       False, False, False, False, False, False, False, False, False,\n",
       "       False, False, False, False, False, False, False, False, False,\n",
       "       False, False, False, False, False, False, False, False, False,\n",
       "       False, False, False, False, False, False, False, False, False,\n",
       "       False, False, False, False, False, False, False, False, False,\n",
       "       False, False, False, False, False, False, False, False, False,\n",
       "       False, False, False, False, False, False, False, False, False,\n",
       "       False, False, False, False, False, False, False, False, False,\n",
       "       False, False, False, False, False, False, False, False, False,\n",
       "       False, False, False, False, False, False, False, False, False,\n",
       "       False, False, False, False, False, False, False, False, False,\n",
       "       False, False, False, False, False, False, False, False, False,\n",
       "       False, False, False, False, False, False, False, False, False,\n",
       "       False, False, False, False, False, False, False, False, False,\n",
       "       False, False, False, False, False, False, False, False, False,\n",
       "       False, False, False, False, False, False, False, False, False,\n",
       "       False, False, False, False, False, False, False])"
      ]
     },
     "execution_count": 36,
     "metadata": {},
     "output_type": "execute_result"
    }
   ],
   "source": [
    "pipeline_RFC.predict_proba( X_test_pipe )[ : , 1] == pipeline_LR_upd.predict_proba( X_test_pipe )[ : , 1]"
   ]
  },
  {
   "cell_type": "code",
   "execution_count": 37,
   "id": "prescribed-learning",
   "metadata": {
    "execution": {
     "iopub.execute_input": "2022-09-26T12:02:33.636953Z",
     "iopub.status.busy": "2022-09-26T12:02:33.636287Z",
     "iopub.status.idle": "2022-09-26T12:02:33.647633Z",
     "shell.execute_reply": "2022-09-26T12:02:33.647086Z",
     "shell.execute_reply.started": "2022-09-26T11:32:24.606235Z"
    },
    "papermill": {
     "duration": 0.110621,
     "end_time": "2022-09-26T12:02:33.647830",
     "exception": false,
     "start_time": "2022-09-26T12:02:33.537209",
     "status": "completed"
    },
    "tags": []
   },
   "outputs": [
    {
     "name": "stdout",
     "output_type": "stream",
     "text": [
      "              precision    recall  f1-score   support\n",
      "\n",
      "         0.0       0.83      0.90      0.86       167\n",
      "         1.0       0.80      0.69      0.74       101\n",
      "\n",
      "    accuracy                           0.82       268\n",
      "   macro avg       0.82      0.80      0.80       268\n",
      "weighted avg       0.82      0.82      0.82       268\n",
      "\n"
     ]
    }
   ],
   "source": [
    "# Create Classification Report\n",
    "\n",
    "print( classification_report(y_test_pipe, y_preds_Pipe_RdmForClasf) )"
   ]
  },
  {
   "cell_type": "code",
   "execution_count": 38,
   "id": "entire-domain",
   "metadata": {
    "execution": {
     "iopub.execute_input": "2022-09-26T12:02:33.849265Z",
     "iopub.status.busy": "2022-09-26T12:02:33.848310Z",
     "iopub.status.idle": "2022-09-26T12:02:35.867115Z",
     "shell.execute_reply": "2022-09-26T12:02:35.866294Z",
     "shell.execute_reply.started": "2022-09-26T11:32:24.621201Z"
    },
    "papermill": {
     "duration": 2.121089,
     "end_time": "2022-09-26T12:02:35.867332",
     "exception": false,
     "start_time": "2022-09-26T12:02:33.746243",
     "status": "completed"
    },
    "tags": []
   },
   "outputs": [
    {
     "name": "stdout",
     "output_type": "stream",
     "text": [
      "CV accuracy scores: [0.82539683 0.85714286 0.85714286 0.80645161 0.82258065 0.80645161\n",
      " 0.90322581 0.75806452 0.72580645 0.82258065]\n",
      "CV accuracy: 0.8185 +/- 0.0477\n"
     ]
    }
   ],
   "source": [
    "# Create Cross Validation\n",
    "\n",
    "scores_RFC = cross_val_score(pipeline_RFC, X_train_pipe, y_train_pipe, cv=10)\n",
    "\n",
    "print('CV accuracy scores: %s' % scores_RFC)\n",
    "print( 'CV accuracy: %.4f +/- %.4f' % ( np.mean(scores_RFC), np.std(scores_RFC) )  )"
   ]
  },
  {
   "cell_type": "markdown",
   "id": "invalid-price",
   "metadata": {
    "papermill": {
     "duration": 0.09885,
     "end_time": "2022-09-26T12:02:36.063645",
     "exception": false,
     "start_time": "2022-09-26T12:02:35.964795",
     "status": "completed"
    },
    "tags": []
   },
   "source": [
    "## Performance metrics for Classification classifiers\n",
    "[top](#Contents)"
   ]
  },
  {
   "cell_type": "markdown",
   "id": "functional-drawing",
   "metadata": {
    "papermill": {
     "duration": 0.096839,
     "end_time": "2022-09-26T12:02:36.259979",
     "exception": false,
     "start_time": "2022-09-26T12:02:36.163140",
     "status": "completed"
    },
    "tags": []
   },
   "source": [
    "### Long hand for Performance metrics for Logistic Regression model\n",
    "[top](#Contents)"
   ]
  },
  {
   "cell_type": "code",
   "execution_count": 39,
   "id": "golden-width",
   "metadata": {
    "execution": {
     "iopub.execute_input": "2022-09-26T12:02:36.461965Z",
     "iopub.status.busy": "2022-09-26T12:02:36.461259Z",
     "iopub.status.idle": "2022-09-26T12:02:36.470536Z",
     "shell.execute_reply": "2022-09-26T12:02:36.470001Z",
     "shell.execute_reply.started": "2022-09-26T11:32:26.298455Z"
    },
    "papermill": {
     "duration": 0.113302,
     "end_time": "2022-09-26T12:02:36.470691",
     "exception": false,
     "start_time": "2022-09-26T12:02:36.357389",
     "status": "completed"
    },
    "tags": []
   },
   "outputs": [
    {
     "name": "stdout",
     "output_type": "stream",
     "text": [
      "Logistic Regression model train / test accuracies 0.7961 / 0.8209\n"
     ]
    }
   ],
   "source": [
    "# Investigate how the model correctly classifies Training and Test data\n",
    "\n",
    "y_preds_Pipe_logReg_upd_train = pipeline_LR_upd.predict(X_train_pipe)\n",
    "y_preds_Pipe_logReg_upd_test = pipeline_LR_upd.predict(X_test_pipe)\n",
    "\n",
    "LRC_train_accuracy_score = accuracy_score( y_train, y_preds_Pipe_logReg_upd_train )\n",
    "LRC_test_accuracy_score = accuracy_score( y_test, y_preds_Pipe_logReg_upd_test )\n",
    "\n",
    "print( \"Logistic Regression model train / test accuracies %.4f / %.4f\" % (LRC_train_accuracy_score, LRC_test_accuracy_score) )"
   ]
  },
  {
   "cell_type": "markdown",
   "id": "healthy-customer",
   "metadata": {
    "papermill": {
     "duration": 0.095981,
     "end_time": "2022-09-26T12:02:36.664116",
     "exception": false,
     "start_time": "2022-09-26T12:02:36.568135",
     "status": "completed"
    },
    "tags": []
   },
   "source": [
    "The train / test accuracies 0.7961 / 0.8209 indicates that the Logistic Regression model is better at predicting correctly unknown dataset (Test dataset) than in the known dataset (Training dataset). <br>\n",
    "\n",
    "It seems that the Logistic Regression model has less variance based on these 2 accuracies values. <br>"
   ]
  },
  {
   "cell_type": "code",
   "execution_count": 40,
   "id": "equal-quebec",
   "metadata": {
    "execution": {
     "iopub.execute_input": "2022-09-26T12:02:36.864599Z",
     "iopub.status.busy": "2022-09-26T12:02:36.863589Z",
     "iopub.status.idle": "2022-09-26T12:02:36.873550Z",
     "shell.execute_reply": "2022-09-26T12:02:36.874088Z",
     "shell.execute_reply.started": "2022-09-26T11:32:26.312211Z"
    },
    "papermill": {
     "duration": 0.113922,
     "end_time": "2022-09-26T12:02:36.874280",
     "exception": false,
     "start_time": "2022-09-26T12:02:36.760358",
     "status": "completed"
    },
    "tags": []
   },
   "outputs": [
    {
     "name": "stdout",
     "output_type": "stream",
     "text": [
      "              precision    recall  f1-score   support\n",
      "\n",
      "         0.0       0.83      0.90      0.86       167\n",
      "         1.0       0.81      0.68      0.74       101\n",
      "\n",
      "    accuracy                           0.82       268\n",
      "   macro avg       0.82      0.79      0.80       268\n",
      "weighted avg       0.82      0.82      0.82       268\n",
      "\n"
     ]
    }
   ],
   "source": [
    "# Create Classification Report to obtain Precision, Recall, and F1-score values on the test dataset\n",
    "\n",
    "from sklearn.metrics import classification_report\n",
    "print( classification_report(y_test, y_preds_Pipe_logReg_upd_test) )"
   ]
  },
  {
   "cell_type": "code",
   "execution_count": 41,
   "id": "higher-voice",
   "metadata": {
    "execution": {
     "iopub.execute_input": "2022-09-26T12:02:37.072617Z",
     "iopub.status.busy": "2022-09-26T12:02:37.071975Z",
     "iopub.status.idle": "2022-09-26T12:02:37.083557Z",
     "shell.execute_reply": "2022-09-26T12:02:37.084227Z",
     "shell.execute_reply.started": "2022-09-26T11:32:26.332682Z"
    },
    "papermill": {
     "duration": 0.112898,
     "end_time": "2022-09-26T12:02:37.084408",
     "exception": false,
     "start_time": "2022-09-26T12:02:36.971510",
     "status": "completed"
    },
    "tags": []
   },
   "outputs": [
    {
     "name": "stdout",
     "output_type": "stream",
     "text": [
      "Precision: 0.8117647058823529\n",
      "Recall: 0.6831683168316832\n",
      "F1: 0.7419354838709677\n"
     ]
    }
   ],
   "source": [
    "# Other methods to get Precision, Recall, and F1-score values\n",
    "# here the focus is on Class 1\n",
    "\n",
    "from sklearn.metrics import precision_score\n",
    "from sklearn.metrics import recall_score, f1_score\n",
    "\n",
    "print('Precision: %.16f' % precision_score(y_test, y_preds_Pipe_logReg_upd_test, pos_label = 1 ) ) # default pos_label = 1\n",
    "print('Recall: %.16f' % recall_score(y_test, y_preds_Pipe_logReg_upd_test, pos_label = 1 ) ) # default pos_label = 1\n",
    "print('F1: %.16f' % f1_score(y_test, y_preds_Pipe_logReg_upd_test, pos_label = 1 ) ) # default pos_label = 1"
   ]
  },
  {
   "cell_type": "code",
   "execution_count": 42,
   "id": "ruled-scroll",
   "metadata": {
    "execution": {
     "iopub.execute_input": "2022-09-26T12:02:37.287185Z",
     "iopub.status.busy": "2022-09-26T12:02:37.286492Z",
     "iopub.status.idle": "2022-09-26T12:02:37.300110Z",
     "shell.execute_reply": "2022-09-26T12:02:37.299355Z",
     "shell.execute_reply.started": "2022-09-26T11:32:26.350895Z"
    },
    "papermill": {
     "duration": 0.117464,
     "end_time": "2022-09-26T12:02:37.300270",
     "exception": false,
     "start_time": "2022-09-26T12:02:37.182806",
     "status": "completed"
    },
    "tags": []
   },
   "outputs": [
    {
     "name": "stdout",
     "output_type": "stream",
     "text": [
      "Precision: 0.8251366120218580\n",
      "Recall: 0.9041916167664671\n",
      "F1: 0.8628571428571429\n"
     ]
    }
   ],
   "source": [
    "# Other methods to get Precision, Recall, and F1-score values\n",
    "# here the focus is on Class 0\n",
    "\n",
    "from sklearn.metrics import precision_score\n",
    "from sklearn.metrics import recall_score, f1_score\n",
    "\n",
    "print('Precision: %.16f' % precision_score(y_test, y_preds_Pipe_logReg_upd_test, pos_label = 0 ) ) # default pos_label = 1\n",
    "print('Recall: %.16f' % recall_score(y_test, y_preds_Pipe_logReg_upd_test, pos_label = 0 ) ) # default pos_label = 1\n",
    "print('F1: %.16f' % f1_score(y_test, y_preds_Pipe_logReg_upd_test, pos_label = 0 ) ) # default pos_label = 1"
   ]
  },
  {
   "cell_type": "code",
   "execution_count": 43,
   "id": "constitutional-occurrence",
   "metadata": {
    "execution": {
     "iopub.execute_input": "2022-09-26T12:02:37.505365Z",
     "iopub.status.busy": "2022-09-26T12:02:37.504629Z",
     "iopub.status.idle": "2022-09-26T12:02:37.510744Z",
     "shell.execute_reply": "2022-09-26T12:02:37.510078Z",
     "shell.execute_reply.started": "2022-09-26T11:32:26.368946Z"
    },
    "papermill": {
     "duration": 0.111278,
     "end_time": "2022-09-26T12:02:37.510894",
     "exception": false,
     "start_time": "2022-09-26T12:02:37.399616",
     "status": "completed"
    },
    "tags": []
   },
   "outputs": [
    {
     "name": "stdout",
     "output_type": "stream",
     "text": [
      "[[151  16]\n",
      " [ 32  69]]\n"
     ]
    }
   ],
   "source": [
    "# Create Confusion Matrix\n",
    "\n",
    "from sklearn.metrics import confusion_matrix\n",
    "confMat = confusion_matrix(y_test, y_preds_Pipe_logReg_upd_test)\n",
    "print(confMat)"
   ]
  },
  {
   "cell_type": "markdown",
   "id": "wrong-surface",
   "metadata": {
    "papermill": {
     "duration": 0.097316,
     "end_time": "2022-09-26T12:02:37.705629",
     "exception": false,
     "start_time": "2022-09-26T12:02:37.608313",
     "status": "completed"
    },
    "tags": []
   },
   "source": [
    "### **Note on the Confusion Matrix**\n",
    "[top](#Contents)\n",
    "\n",
    "Here is the [User Guide of Scikit-Learn on the Confusion Matrix.](https://scikit-learn.org/stable/modules/generated/sklearn.metrics.confusion_matrix.html) <br>\n",
    "This is my take on the POSITIVE, and NEGATIVE classes that are used in the Confusion Matrix. <br>\n",
    "It took me a long time to grasp this topic and I think I unblocked the impasse in the understanding. <br>\n",
    "\n",
    "To start with, Scikit-Learn provides the composition of the Confusion Matrix: <br>\n",
    "\n",
    "In binary classification, the count of <br> \n",
    "true negatives is `C_{0,0}`, <br> \n",
    "false positives is `C_{0,1}`, <br>\n",
    "false negatives is `C_{1,0}`, <br> \n",
    "true positives is `C_{1,1}` <br> \n",
    "\n",
    "$Cij$ means the location of the cell in the $ith$ row and $jth$ column when ACTUAL (or the GROUND TRUTH) values are on the rows of the Confusion Matrix, and PREDICTED values are in the columns. <br> \n",
    "The explanation from the source code is found here: https://github.com/scikit-learn/scikit-learn/blob/baf0ea25d/sklearn/metrics/_classification.py#L222 <br>\n",
    "\n",
    "\n",
    "\n",
    "Binary classification happens when there are two unique values A, and B in the Dependent variable (*y*). <br>\n",
    "When the y (*label*) values contain 0s and 1s, Scikit-Learn assigns automatically 1s as the POSITIVE class, and by default 0s as NEGATIVE class in the Confusion Matrix. <br>\n",
    "If the label values contain other values such as As, and Bs, then you can able to assigned which class is POSITIVE or NEGATIVE class by `pos_label`. <br>\n"
   ]
  },
  {
   "cell_type": "code",
   "execution_count": 44,
   "id": "stuffed-monthly",
   "metadata": {
    "execution": {
     "iopub.execute_input": "2022-09-26T12:02:37.905909Z",
     "iopub.status.busy": "2022-09-26T12:02:37.905260Z",
     "iopub.status.idle": "2022-09-26T12:02:38.332600Z",
     "shell.execute_reply": "2022-09-26T12:02:38.332030Z",
     "shell.execute_reply.started": "2022-09-26T11:32:26.377938Z"
    },
    "papermill": {
     "duration": 0.529169,
     "end_time": "2022-09-26T12:02:38.332794",
     "exception": false,
     "start_time": "2022-09-26T12:02:37.803625",
     "status": "completed"
    },
    "tags": []
   },
   "outputs": [
    {
     "data": {
      "text/plain": [
       "<sklearn.metrics._plot.confusion_matrix.ConfusionMatrixDisplay at 0x7f63d04fa590>"
      ]
     },
     "execution_count": 44,
     "metadata": {},
     "output_type": "execute_result"
    },
    {
     "data": {
      "image/png": "[encoded data removed]",
      "text/plain": [
       "<Figure size 432x288 with 2 Axes>"
      ]
     },
     "metadata": {
      "needs_background": "light"
     },
     "output_type": "display_data"
    }
   ],
   "source": [
    "# For better visualisation of the Confusion Matrix\n",
    "\n",
    "from sklearn.metrics import ConfusionMatrixDisplay\n",
    "disp = ConfusionMatrixDisplay( confusion_matrix = confMat, display_labels = LRC.classes_ )\n",
    "disp.plot()"
   ]
  },
  {
   "cell_type": "markdown",
   "id": "historical-first",
   "metadata": {
    "papermill": {
     "duration": 0.098167,
     "end_time": "2022-09-26T12:02:38.530602",
     "exception": false,
     "start_time": "2022-09-26T12:02:38.432435",
     "status": "completed"
    },
    "tags": []
   },
   "source": [
    "#### **Explanation on the numbers in the Confusion Matrix**\n",
    "[top](#Contents)"
   ]
  },
  {
   "cell_type": "markdown",
   "id": "disturbed-teach",
   "metadata": {
    "papermill": {
     "duration": 0.097966,
     "end_time": "2022-09-26T12:02:38.726946",
     "exception": false,
     "start_time": "2022-09-26T12:02:38.628980",
     "status": "completed"
    },
    "tags": []
   },
   "source": [
    "##### *Focus on class 1*\n",
    "[top](#Contents)\n",
    "\n",
    "Class 1 is for survived, and Class 0 is for deceased. <br>\n",
    "Link: https://www.kaggle.com/competitions/titanic/overview/evaluation <br>\n",
    "Scikit-Learn assigns Class 0 as NEGATIVE Class, and Class 1 as POSITIVE Class. <br>\n",
    "\n",
    "From the Confusion Matrix and the Classification Report: <br>\n",
    "True Negatives (TN)  = 151, <br>\n",
    "False Positives (FP) = 16, <br>\n",
    "False Negatives (FN) = 32, <br>\n",
    "True Positives (TP) = 69 <br>\n",
    "<br>\n",
    "where in the Confusion Matrix: <br>\n",
    "ROWS = ACTUAL values, and COLUMNS = PREDICTED values <br>\n",
    "Row 1 = Class 0 = NEGATIVE Class <br>\n",
    "Row 2 = Class 1 = POSITIVE Class <br>\n",
    "Column 1 = Class 0 = NEGATIVE Class <br>\n",
    "Column 2 = Class 1 = POSITIVE Class <br>"
   ]
  },
  {
   "cell_type": "code",
   "execution_count": 45,
   "id": "earned-april",
   "metadata": {
    "execution": {
     "iopub.execute_input": "2022-09-26T12:02:38.938632Z",
     "iopub.status.busy": "2022-09-26T12:02:38.937907Z",
     "iopub.status.idle": "2022-09-26T12:02:38.953128Z",
     "shell.execute_reply": "2022-09-26T12:02:38.952411Z",
     "shell.execute_reply.started": "2022-09-26T11:32:26.545824Z"
    },
    "papermill": {
     "duration": 0.125815,
     "end_time": "2022-09-26T12:02:38.953282",
     "exception": false,
     "start_time": "2022-09-26T12:02:38.827467",
     "status": "completed"
    },
    "tags": []
   },
   "outputs": [
    {
     "name": "stdout",
     "output_type": "stream",
     "text": [
      "here the FOCUS is on class 1 \n",
      "\n",
      "Number of true negatives  (tn) =  151\n",
      "Number of true positives  (tp) =  69\n",
      "Total number of correct classification is = (tn + tp) = 220 \n",
      "\n",
      "Number of false negatives (fn) =  32\n",
      "Number of false positives (fp) =  16\n",
      "\n",
      "Fall out or false positive rate (FPR) = fp / N = fp / (fp + tn) = 0.09580838323353294\n",
      "Recall (REC) or sensitivity or true positive rate (TPR) = tp / P = tp / (fn + tp) = 0.6831683168316832\n",
      "Precision (PRE) = tp / (tp + fp) = 0.8117647058823529\n",
      "\n",
      "F1-score = 2 x (PRE x REC) / (PRE + REC) = tp / ( tp + (fn + fp)/2 ) = 0.7419354838709677\n",
      "\n",
      "Specificity or true negative rate  = tn / (tn + fp) = 0.9041916167664671\n",
      "Miss rate or false negative rate = fn / (fn + tp) = 0.31683168316831684\n",
      "\n",
      "Prediction Error (ERR) = (fp + fn) / (fp + fn + tp + tn) =  0.1791044776119403 \n",
      "Prediction Accuracy (ACC) = (tp + tn) / (fp + fn + tp + tn) = 1 - ERR = 0.8208955223880597 \n",
      "\n",
      "ACC matches with the = ** pipeline_LR_upd.score(X_test,y_test) ** = 0.8208955223880597 \n",
      "ACC also matches with the = ** accuracy_score( y_test, pipeline_LR_upd.predict(X_test_pipe) ) ** = 0.8208955223880597 \n"
     ]
    }
   ],
   "source": [
    "# the original is found on the https://www.kaggle.com/code/carlmcbrideellis/titanic-in-all-the-confusion\n",
    "print (\"here the FOCUS is on class 1 \" )\n",
    "print()\n",
    "\n",
    "tn, fp, fn, tp = confMat.ravel()\n",
    "\n",
    "print(\"Number of true negatives  (tn) = \",tn)\n",
    "print(\"Number of true positives  (tp) = \",tp)\n",
    "print( f'Total number of correct classification is = (tn + tp) = {tn + tp} ' )\n",
    "print()\n",
    "\n",
    "print(\"Number of false negatives (fn) = \",fn)\n",
    "print(\"Number of false positives (fp) = \",fp)\n",
    "print()\n",
    "\n",
    "print(\"Fall out or false positive rate (FPR) = fp / N = fp / (fp + tn) =\", fp / (fp + tn))\n",
    "print(\"Recall (REC) or sensitivity or true positive rate (TPR) = tp / P = tp / (fn + tp) =\", tp / (fn + tp))\n",
    "print(\"Precision (PRE) = tp / (tp + fp) =\", tp / (tp + fp))\n",
    "print()\n",
    "\n",
    "print(\"F1-score = 2 x (PRE x REC) / (PRE + REC) = tp / ( tp + (fn + fp)/2 ) =\", tp / ( tp + (fn + fp)/2 ) )\n",
    "print()\n",
    "\n",
    "print(\"Specificity or true negative rate  = tn / (tn + fp) =\", tn / (tn + fp))\n",
    "print(\"Miss rate or false negative rate = fn / (fn + tp) =\", fn / (fn + tp))\n",
    "print()\n",
    "\n",
    "print(f\"Prediction Error (ERR) = (fp + fn) / (fp + fn + tp + tn) =  { (fp + fn) / (fp + fn + tp + tn) } \" )\n",
    "print(f\"Prediction Accuracy (ACC) = (tp + tn) / (fp + fn + tp + tn) = 1 - ERR = { (tp + tn) / (fp + fn + tp + tn) } \" )\n",
    "print()\n",
    "\n",
    "print(f\"ACC matches with the = ** pipeline_LR_upd.score(X_test,y_test) ** = { pipeline_LR_upd.score(X_test,y_test) } \" )\n",
    "print(f\"ACC also matches with the = ** accuracy_score( y_test, pipeline_LR_upd.predict(X_test_pipe) ) ** = { accuracy_score( y_test, pipeline_LR_upd.predict(X_test_pipe) ) } \" )"
   ]
  },
  {
   "cell_type": "markdown",
   "id": "surprising-latest",
   "metadata": {
    "papermill": {
     "duration": 0.099426,
     "end_time": "2022-09-26T12:02:39.152688",
     "exception": false,
     "start_time": "2022-09-26T12:02:39.053262",
     "status": "completed"
    },
    "tags": []
   },
   "source": [
    "##### *Focus on class 0*\n",
    "[top](#Contents)\n",
    "\n",
    "Class 1 is for survived, and Class 0 is for deceased. <br>\n",
    "Link: https://www.kaggle.com/competitions/titanic/overview/evaluation <br>\n",
    "Scikit-Learn assigns Class 0 as NEGATIVE Class, and Class 1 as POSITIVE Class. <br>\n",
    "\n",
    "From the Confusion Matrix and the Classification Report: <br>\n",
    "True Positives (TP) = 151, <br>\n",
    "False Negatives (FN) = 16, <br>\n",
    "False Positives (FP) = 32, <br>\n",
    "True Negatives (TN) = 69 <br>\n",
    "<br>\n",
    "where in the Confusion Matrix: <br>\n",
    "ROWS = ACTUAL values, and COLUMNS = PREDICTED values <br>\n",
    "Row 1 = Class 1 = POSITIVE Class <br>\n",
    "Row 2 = Class 0 = NEGATIVE Class <br>\n",
    "Column 1 = Class 1 = POSITIVE Class <br>\n",
    "Column 2 = Class 0 = NEGATIVE Class <br>"
   ]
  },
  {
   "cell_type": "code",
   "execution_count": 46,
   "id": "legal-reception",
   "metadata": {
    "execution": {
     "iopub.execute_input": "2022-09-26T12:02:39.361493Z",
     "iopub.status.busy": "2022-09-26T12:02:39.360713Z",
     "iopub.status.idle": "2022-09-26T12:02:39.377617Z",
     "shell.execute_reply": "2022-09-26T12:02:39.378209Z",
     "shell.execute_reply.started": "2022-09-26T11:32:26.568885Z"
    },
    "papermill": {
     "duration": 0.12666,
     "end_time": "2022-09-26T12:02:39.378396",
     "exception": false,
     "start_time": "2022-09-26T12:02:39.251736",
     "status": "completed"
    },
    "tags": []
   },
   "outputs": [
    {
     "name": "stdout",
     "output_type": "stream",
     "text": [
      "here the FOCUS is on class 0 \n",
      "\n",
      "Number of true negatives  (tn) =  69\n",
      "Number of true positives  (tp) =  151\n",
      "Total number of correct classification is = (tn + tp) = 220 \n",
      "\n",
      "Number of false negatives (fn) =  16\n",
      "Number of false positives (fp) =  32\n",
      "\n",
      "Fall out or false positive rate (FPR) = fp / N = fp / (fp + tn) = 0.31683168316831684\n",
      "Recall (REC) or sensitivity or true positive rate (TPR) = tp / P = tp / (fn + tp) = 0.9041916167664671\n",
      "Precision (PRE) = tp / (tp + fp) = 0.825136612021858\n",
      "\n",
      "F1-score = 2 x (PRE x REC) / (PRE + REC) = tp / ( tp + (fn + fp)/2 ) = 0.8628571428571429\n",
      "\n",
      "Specificity or true negative rate  = tn / (tn + fp) = 0.6831683168316832\n",
      "Miss rate or false negative rate = fn / (fn + tp) = 0.09580838323353294\n",
      "\n",
      "Prediction Error (ERR) = (fp + fn) / (fp + fn + tp + tn) =  0.1791044776119403 \n",
      "Prediction Accuracy (ACC) = (tp + tn) / (fp + fn + tp + tn) = 1 - ERR = 0.8208955223880597 \n",
      "\n",
      "ACC matches with the = ** pipeline_LR_upd.score(X_test,y_test) ** = 0.8208955223880597 \n",
      "ACC also matches with the = ** accuracy_score( y_test, pipeline_LR_upd.predict(X_test_pipe) ) ** = 0.8208955223880597 \n"
     ]
    }
   ],
   "source": [
    "print (\"here the FOCUS is on class 0 \" )\n",
    "print()\n",
    "\n",
    "tp, fn, fp, tn = confMat.ravel()\n",
    "\n",
    "print(\"Number of true negatives  (tn) = \",tn)\n",
    "print(\"Number of true positives  (tp) = \",tp)\n",
    "print( f'Total number of correct classification is = (tn + tp) = {tn + tp} ' )\n",
    "print()\n",
    "\n",
    "print(\"Number of false negatives (fn) = \",fn)\n",
    "print(\"Number of false positives (fp) = \",fp)\n",
    "print()\n",
    "\n",
    "print(\"Fall out or false positive rate (FPR) = fp / N = fp / (fp + tn) =\", fp / (fp + tn))\n",
    "print(\"Recall (REC) or sensitivity or true positive rate (TPR) = tp / P = tp / (fn + tp) =\", tp / (fn + tp))\n",
    "print(\"Precision (PRE) = tp / (tp + fp) =\", tp / (tp + fp))\n",
    "print()\n",
    "\n",
    "print(\"F1-score = 2 x (PRE x REC) / (PRE + REC) = tp / ( tp + (fn + fp)/2 ) =\", tp / ( tp + (fn + fp)/2 ) )\n",
    "print()\n",
    "\n",
    "print(\"Specificity or true negative rate  = tn / (tn + fp) =\", tn / (tn + fp))\n",
    "print(\"Miss rate or false negative rate = fn / (fn + tp) =\", fn / (fn + tp))\n",
    "print()\n",
    "\n",
    "print(f\"Prediction Error (ERR) = (fp + fn) / (fp + fn + tp + tn) =  { (fp + fn) / (fp + fn + tp + tn) } \" )\n",
    "print(f\"Prediction Accuracy (ACC) = (tp + tn) / (fp + fn + tp + tn) = 1 - ERR = { (tp + tn) / (fp + fn + tp + tn) } \" )\n",
    "print()\n",
    "\n",
    "print(f\"ACC matches with the = ** pipeline_LR_upd.score(X_test,y_test) ** = { pipeline_LR_upd.score(X_test,y_test) } \" )\n",
    "print(f\"ACC also matches with the = ** accuracy_score( y_test, pipeline_LR_upd.predict(X_test_pipe) ) ** = { accuracy_score( y_test, pipeline_LR_upd.predict(X_test_pipe) ) } \" )"
   ]
  },
  {
   "cell_type": "markdown",
   "id": "progressive-paraguay",
   "metadata": {
    "papermill": {
     "duration": 0.102401,
     "end_time": "2022-09-26T12:02:39.583080",
     "exception": false,
     "start_time": "2022-09-26T12:02:39.480679",
     "status": "completed"
    },
    "tags": []
   },
   "source": [
    "### **Calculation of the roc_curve, and roc_auc_score**\n",
    "[top](#Contents)"
   ]
  },
  {
   "cell_type": "code",
   "execution_count": 47,
   "id": "supported-signal",
   "metadata": {
    "execution": {
     "iopub.execute_input": "2022-09-26T12:02:39.802503Z",
     "iopub.status.busy": "2022-09-26T12:02:39.801802Z",
     "iopub.status.idle": "2022-09-26T12:02:39.977044Z",
     "shell.execute_reply": "2022-09-26T12:02:39.976350Z",
     "shell.execute_reply.started": "2022-09-26T11:32:26.595692Z"
    },
    "papermill": {
     "duration": 0.293746,
     "end_time": "2022-09-26T12:02:39.977217",
     "exception": false,
     "start_time": "2022-09-26T12:02:39.683471",
     "status": "completed"
    },
    "tags": []
   },
   "outputs": [
    {
     "name": "stdout",
     "output_type": "stream",
     "text": [
      "Here the focus in on class 1\n",
      "\n",
      "value of fpr = [0.         0.         0.         0.00598802 0.00598802 0.01197605\n",
      " 0.01197605 0.01197605 0.01197605 0.01796407 0.01796407 0.02994012\n",
      " 0.02994012 0.03592814 0.03592814 0.04790419 0.04790419 0.04790419\n",
      " 0.05389222 0.05389222 0.06586826 0.06586826 0.08383234 0.08383234\n",
      " 0.08982036 0.08982036 0.09580838 0.09580838 0.11976048 0.11976048\n",
      " 0.1257485  0.1257485  0.13772455 0.13772455 0.16167665 0.16167665\n",
      " 0.19161677 0.19161677 0.25149701 0.26946108 0.2754491  0.28742515\n",
      " 0.29341317 0.29341317 0.33532934 0.34131737 0.34131737 0.34730539\n",
      " 0.34730539 0.36526946 0.36526946 0.37724551 0.37724551 0.38922156\n",
      " 0.4011976  0.43712575 0.46107784 0.47305389 0.47305389 0.54491018\n",
      " 0.54491018 0.61676647 0.64071856 0.65269461 0.69461078 0.69461078\n",
      " 0.71856287 0.71856287 0.73652695 0.75449102 0.76047904 0.76047904\n",
      " 0.76646707 0.79041916 0.79041916 0.80239521 0.80239521 0.82035928\n",
      " 0.82035928 0.83233533 0.83233533 0.91017964 0.91017964 0.98802395\n",
      " 1.        ]\n",
      "\n",
      "value of tpr = [0.         0.00990099 0.13861386 0.13861386 0.25742574 0.25742574\n",
      " 0.2970297  0.31683168 0.40594059 0.40594059 0.5049505  0.5049505\n",
      " 0.52475248 0.52475248 0.56435644 0.56435644 0.58415842 0.6039604\n",
      " 0.6039604  0.63366337 0.63366337 0.64356436 0.64356436 0.65346535\n",
      " 0.65346535 0.66336634 0.66336634 0.69306931 0.69306931 0.72277228\n",
      " 0.72277228 0.73267327 0.73267327 0.76237624 0.76237624 0.78217822\n",
      " 0.78217822 0.79207921 0.79207921 0.79207921 0.79207921 0.79207921\n",
      " 0.79207921 0.8019802  0.8019802  0.81188119 0.82178218 0.82178218\n",
      " 0.83168317 0.83168317 0.85148515 0.85148515 0.86138614 0.86138614\n",
      " 0.86138614 0.86138614 0.86138614 0.86138614 0.87128713 0.87128713\n",
      " 0.89108911 0.89108911 0.9009901  0.9009901  0.9009901  0.91089109\n",
      " 0.91089109 0.92079208 0.92079208 0.92079208 0.92079208 0.93069307\n",
      " 0.93069307 0.93069307 0.94059406 0.94059406 0.96039604 0.96039604\n",
      " 0.98019802 0.98019802 0.99009901 0.99009901 1.         1.\n",
      " 1.        ]\n",
      "\n",
      "value of thresholds = [1.96904221 0.96904221 0.90215862 0.89931988 0.85898571 0.85385356\n",
      " 0.83538759 0.83530365 0.78336051 0.78323677 0.72086192 0.71023656\n",
      " 0.70057301 0.69266655 0.64716049 0.64532517 0.64374131 0.64368965\n",
      " 0.64358634 0.58743717 0.58613649 0.58529909 0.56640778 0.54089924\n",
      " 0.52586672 0.52060416 0.51506855 0.49765558 0.47139771 0.45079464\n",
      " 0.4328402  0.42846522 0.34912353 0.33461556 0.31607974 0.3089534\n",
      " 0.29372996 0.29038916 0.24843883 0.238138   0.23555131 0.23214781\n",
      " 0.22666686 0.22590367 0.16531409 0.16512226 0.16507873 0.15946023\n",
      " 0.15556068 0.14212749 0.14052131 0.13588758 0.135491   0.13010033\n",
      " 0.12979723 0.12304411 0.12291796 0.12215864 0.12212981 0.11754397\n",
      " 0.1168213  0.10363092 0.10362822 0.10130038 0.09630988 0.09505167\n",
      " 0.09083405 0.09075601 0.08714199 0.08711426 0.08707267 0.08704149\n",
      " 0.08702475 0.08700339 0.08699473 0.08616187 0.08587899 0.08071291\n",
      " 0.08052339 0.07818614 0.07684381 0.05619104 0.05597106 0.02810549\n",
      " 0.00640868]\n",
      "\n",
      "AUC = 0.8465346534653466\n",
      "\n"
     ]
    },
    {
     "data": {
      "image/png": "[encoded data removed]",
      "text/plain": [
       "<Figure size 576x360 with 1 Axes>"
      ]
     },
     "metadata": {
      "needs_background": "light"
     },
     "output_type": "display_data"
    }
   ],
   "source": [
    "# https://scikit-learn.org/stable/modules/model_evaluation.html#roc-metrics\n",
    "# example from the Scikit Learn, section 3.3.2.15. Receiver operating characteristic (ROC)\n",
    "\n",
    "print(\"Here the focus in on class 1\")\n",
    "print()\n",
    "\n",
    "y_score_predict_proba_X_test_pipe_1 = pipeline_LR_upd.predict_proba( X_test_pipe )[ : , 1]\n",
    "\n",
    "import numpy as np\n",
    "\n",
    "from sklearn.metrics import roc_curve\n",
    "fpr, tpr, thresholds = roc_curve( y_test, y_score_predict_proba_X_test_pipe_1, pos_label = 1 ) # pos_label value is from the y_test\n",
    "print(f\"value of fpr = {fpr}\")\n",
    "print()\n",
    "print(f\"value of tpr = {tpr}\")\n",
    "print()\n",
    "print(f\"value of thresholds = {thresholds}\")\n",
    "print()\n",
    "\n",
    "from sklearn.metrics import roc_auc_score\n",
    "roc_auc = roc_auc_score( y_test, y_score_predict_proba_X_test_pipe_1 )\n",
    "print(f\"AUC = {roc_auc}\")\n",
    "print()\n",
    "\n",
    "plt.figure(figsize = (8,5))\n",
    "plt.plot(fpr, tpr, color='darkorange', lw=2, label='ROC curve (AUC = %0.4f)' % roc_auc)\n",
    "plt.plot([0, 1], [0, 1], color='navy', lw=2, linestyle='--')\n",
    "plt.xlim([0.0, 1.0])\n",
    "plt.ylim([0.0, 1.0])\n",
    "plt.xlabel('False Positive Rate')\n",
    "plt.ylabel('True Positive Rate')\n",
    "plt.title('Receiver Operating Characteristic curve for Class 1')\n",
    "plt.legend(loc=\"lower right\")\n",
    "plt.show()"
   ]
  },
  {
   "cell_type": "code",
   "execution_count": 48,
   "id": "complete-mississippi",
   "metadata": {
    "execution": {
     "iopub.execute_input": "2022-09-26T12:02:40.193691Z",
     "iopub.status.busy": "2022-09-26T12:02:40.191781Z",
     "iopub.status.idle": "2022-09-26T12:02:40.362289Z",
     "shell.execute_reply": "2022-09-26T12:02:40.362800Z",
     "shell.execute_reply.started": "2022-09-26T11:32:26.772762Z"
    },
    "papermill": {
     "duration": 0.283907,
     "end_time": "2022-09-26T12:02:40.362995",
     "exception": false,
     "start_time": "2022-09-26T12:02:40.079088",
     "status": "completed"
    },
    "tags": []
   },
   "outputs": [
    {
     "name": "stdout",
     "output_type": "stream",
     "text": [
      "Here the focus in on class 0\n",
      "\n",
      "value of fpr = [0.         0.         0.         0.00990099 0.00990099 0.01980198\n",
      " 0.01980198 0.03960396 0.03960396 0.05940594 0.05940594 0.06930693\n",
      " 0.06930693 0.06930693 0.07920792 0.07920792 0.07920792 0.07920792\n",
      " 0.08910891 0.08910891 0.0990099  0.0990099  0.0990099  0.10891089\n",
      " 0.10891089 0.12871287 0.12871287 0.13861386 0.13861386 0.13861386\n",
      " 0.13861386 0.13861386 0.13861386 0.14851485 0.14851485 0.16831683\n",
      " 0.16831683 0.17821782 0.17821782 0.18811881 0.1980198  0.1980198\n",
      " 0.20792079 0.20792079 0.20792079 0.20792079 0.20792079 0.20792079\n",
      " 0.21782178 0.21782178 0.23762376 0.23762376 0.26732673 0.26732673\n",
      " 0.27722772 0.27722772 0.30693069 0.30693069 0.33663366 0.33663366\n",
      " 0.34653465 0.34653465 0.35643564 0.35643564 0.36633663 0.36633663\n",
      " 0.3960396  0.3960396  0.41584158 0.43564356 0.43564356 0.47524752\n",
      " 0.47524752 0.4950495  0.4950495  0.59405941 0.59405941 0.68316832\n",
      " 0.7029703  0.74257426 0.74257426 0.86138614 0.86138614 1.        ]\n",
      "\n",
      "value of tpr = [0.         0.01197605 0.08982036 0.08982036 0.16766467 0.16766467\n",
      " 0.17964072 0.17964072 0.19760479 0.19760479 0.20958084 0.20958084\n",
      " 0.23353293 0.23952096 0.23952096 0.24550898 0.26347305 0.28143713\n",
      " 0.28143713 0.30538922 0.30538922 0.34730539 0.35928144 0.38323353\n",
      " 0.45508982 0.45508982 0.52694611 0.52694611 0.53892216 0.56287425\n",
      " 0.5988024  0.61077844 0.62275449 0.62275449 0.63473054 0.63473054\n",
      " 0.65269461 0.65269461 0.65868263 0.65868263 0.66467066 0.70658683\n",
      " 0.70658683 0.71257485 0.7245509  0.73053892 0.74850299 0.80838323\n",
      " 0.80838323 0.83832335 0.83832335 0.86227545 0.86227545 0.8742515\n",
      " 0.8742515  0.88023952 0.88023952 0.90419162 0.90419162 0.91017964\n",
      " 0.91017964 0.91616766 0.91616766 0.93413174 0.93413174 0.94610778\n",
      " 0.94610778 0.95209581 0.95209581 0.95209581 0.96407186 0.96407186\n",
      " 0.97005988 0.97005988 0.98203593 0.98203593 0.98802395 0.98802395\n",
      " 0.98802395 0.98802395 0.99401198 0.99401198 1.         1.        ]\n",
      "\n",
      "value of thresholds = [1.99359132 0.99359132 0.94735095 0.94402894 0.92434378 0.92315619\n",
      " 0.92165093 0.91947661 0.91566484 0.91403699 0.91372823 0.91300527\n",
      " 0.91299661 0.91297525 0.91295851 0.91292733 0.91288574 0.9107165\n",
      " 0.90924399 0.90807508 0.90494833 0.89873136 0.89869962 0.89637178\n",
      " 0.88525298 0.88283752 0.87809946 0.87787019 0.87781877 0.87695668\n",
      " 0.87028902 0.87020277 0.86626776 0.864509   0.86190653 0.85904631\n",
      " 0.84444028 0.84443932 0.84053977 0.83492127 0.83487774 0.77685911\n",
      " 0.77409633 0.77333314 0.76785219 0.76444869 0.761862   0.7184973\n",
      " 0.70961084 0.69190703 0.6875465  0.66746867 0.65727371 0.62868674\n",
      " 0.57153478 0.5671598  0.53559769 0.5041665  0.49772294 0.48493145\n",
      " 0.47939584 0.47413328 0.45910076 0.41645944 0.41470091 0.41271899\n",
      " 0.39232111 0.35641366 0.35631035 0.35625369 0.35415184 0.30916662\n",
      " 0.30733345 0.29942699 0.2891982  0.22032746 0.21676323 0.1690063\n",
      " 0.16469635 0.14844972 0.14614644 0.10155452 0.10068012 0.03095779]\n",
      "\n",
      "AUC = 0.1534653465346535\n",
      "\n"
     ]
    },
    {
     "data": {
      "image/png": "[encoded data removed]",
      "text/plain": [
       "<Figure size 576x360 with 1 Axes>"
      ]
     },
     "metadata": {
      "needs_background": "light"
     },
     "output_type": "display_data"
    }
   ],
   "source": [
    "print(\"Here the focus in on class 0\")\n",
    "print()\n",
    "\n",
    "y_score_predict_proba_X_test_pipe_0 = pipeline_LR_upd.predict_proba( X_test_pipe )[ : , 0]\n",
    "\n",
    "import numpy as np\n",
    "\n",
    "from sklearn.metrics import roc_curve\n",
    "fpr, tpr, thresholds = roc_curve( y_test, y_score_predict_proba_X_test_pipe_0, pos_label = 0 ) # pos_label value is from the y_test\n",
    "print(f\"value of fpr = {fpr}\")\n",
    "print()\n",
    "print(f\"value of tpr = {tpr}\")\n",
    "print()\n",
    "print(f\"value of thresholds = {thresholds}\")\n",
    "print()\n",
    "\n",
    "from sklearn.metrics import roc_auc_score\n",
    "roc_auc = roc_auc_score( y_test, y_score_predict_proba_X_test_pipe_0 )\n",
    "print(f\"AUC = {roc_auc}\")\n",
    "print()\n",
    "\n",
    "plt.figure(figsize = (8,5))\n",
    "plt.plot(fpr, tpr, color='darkorange', lw=2, label='ROC curve (AUC = %0.4f)' % roc_auc)\n",
    "plt.plot([0, 1], [0, 1], color='navy', lw=2, linestyle='--')\n",
    "plt.xlim([0.0, 1.0])\n",
    "plt.ylim([0.0, 1.0])\n",
    "plt.xlabel('False Positive Rate')\n",
    "plt.ylabel('True Positive Rate')\n",
    "plt.title('Receiver Operating Characteristic curve for Class 0')\n",
    "plt.legend(loc=\"lower right\")\n",
    "plt.show()"
   ]
  },
  {
   "cell_type": "markdown",
   "id": "willing-interaction",
   "metadata": {
    "papermill": {
     "duration": 0.108665,
     "end_time": "2022-09-26T12:02:40.576424",
     "exception": false,
     "start_time": "2022-09-26T12:02:40.467759",
     "status": "completed"
    },
    "tags": []
   },
   "source": [
    "### Side Note on Logisitic Regression in calculating roc_curve or roc_auc_score\n",
    "[top](#Contents)\n",
    "\n",
    "<br>\n",
    "\n",
    "` sklearn.metrics.roc_curve(y_true, y_score, *, pos_label=None, sample_weight=None, drop_intermediate=True) ` <br>\n",
    "https://scikit-learn.org/stable/modules/generated/sklearn.metrics.roc_curve.html <br>\n",
    "\n",
    "` sklearn.metrics.roc_auc_score(y_true, y_score, *, average='macro', sample_weight=None, max_fpr=None, multi_class='raise', labels=None) ` <br>\n",
    "https://scikit-learn.org/stable/modules/generated/sklearn.metrics.roc_auc_score.html <br>\n",
    "\n",
    "There are two ways to calculate `y_score` for Logistic Regression, which are: <br>\n",
    "* decision_function <br>\n",
    "* predict_proba <br>\n",
    "[The 2 methods in the Logistic Regression model in the Scikit-Learn](https://scikit-learn.org/stable/modules/generated/sklearn.linear_model.LogisticRegression.html) <br>\n",
    "\n",
    "I was confused why there are 2 ways to compute y_score. After digging for quite some time, I found this work done by the Scikit-Learn developers: <br>\n",
    "https://github.com/scikit-learn/scikit-learn/issues/1404 <br>\n",
    "<br>\n",
    "From the responsible developer: <br>\n",
    "*I'm the one who added this. The motivation was to be able to use regressors (e.g. Lasso or ElasticNet) as base estimator in the multiclass module. I don't really see the problem as for me, in the regression case, decision_function and predict should be aliases of each other. We can modifiy the multiclass module to directly call predict when the base estimator is a regressor (that seems like a good idea in any case to support regressors that don't implement decision_function).* <br>\n",
    "\n",
    "Essentially I found out that the: <br>\n",
    "\n",
    "> `LogisticRegression.decision_function(some_X_values)` = `LogisticRegression.predict_proba(some_X_values)[ : , positive class]`\n",
    "\n",
    "Below are the validations I did. <br>"
   ]
  },
  {
   "cell_type": "code",
   "execution_count": 49,
   "id": "spanish-milan",
   "metadata": {
    "execution": {
     "iopub.execute_input": "2022-09-26T12:02:40.791140Z",
     "iopub.status.busy": "2022-09-26T12:02:40.790455Z",
     "iopub.status.idle": "2022-09-26T12:02:40.798109Z",
     "shell.execute_reply": "2022-09-26T12:02:40.797350Z",
     "shell.execute_reply.started": "2022-09-26T11:32:26.940813Z"
    },
    "papermill": {
     "duration": 0.118904,
     "end_time": "2022-09-26T12:02:40.798287",
     "exception": false,
     "start_time": "2022-09-26T12:02:40.679383",
     "status": "completed"
    },
    "tags": []
   },
   "outputs": [
    {
     "name": "stdout",
     "output_type": "stream",
     "text": [
      "The value of the Area Under Curve for Logistic Regression is: 0.8465346534653466\n"
     ]
    }
   ],
   "source": [
    "from sklearn.metrics import roc_auc_score\n",
    "AUC = roc_auc_score( y_test, pipeline_LR_upd.decision_function(X_test_pipe) )\n",
    "print(\"The value of the Area Under Curve for Logistic Regression is:\", AUC)"
   ]
  },
  {
   "cell_type": "code",
   "execution_count": 50,
   "id": "noble-exercise",
   "metadata": {
    "execution": {
     "iopub.execute_input": "2022-09-26T12:02:41.028333Z",
     "iopub.status.busy": "2022-09-26T12:02:41.027174Z",
     "iopub.status.idle": "2022-09-26T12:02:41.034245Z",
     "shell.execute_reply": "2022-09-26T12:02:41.036225Z",
     "shell.execute_reply.started": "2022-09-26T11:32:26.953384Z"
    },
    "papermill": {
     "duration": 0.12734,
     "end_time": "2022-09-26T12:02:41.036486",
     "exception": false,
     "start_time": "2022-09-26T12:02:40.909146",
     "status": "completed"
    },
    "tags": []
   },
   "outputs": [
    {
     "name": "stdout",
     "output_type": "stream",
     "text": [
      "The value of the Area Under Curve of Positive Class (in this case class 1) for Logistic Regression is: 0.8465346534653466 \n"
     ]
    }
   ],
   "source": [
    "yPredictTest_01 = pipeline_LR_upd.predict_proba( X_test_pipe )[ : , 1]\n",
    "\n",
    "print(f\"The value of the Area Under Curve of Positive Class (in this case class 1) for Logistic Regression is: { roc_auc_score( y_test, yPredictTest_01 ) } \")"
   ]
  },
  {
   "cell_type": "code",
   "execution_count": 51,
   "id": "convenient-counter",
   "metadata": {
    "execution": {
     "iopub.execute_input": "2022-09-26T12:02:41.256007Z",
     "iopub.status.busy": "2022-09-26T12:02:41.254972Z",
     "iopub.status.idle": "2022-09-26T12:02:41.261796Z",
     "shell.execute_reply": "2022-09-26T12:02:41.262279Z",
     "shell.execute_reply.started": "2022-09-26T11:32:26.974130Z"
    },
    "papermill": {
     "duration": 0.119883,
     "end_time": "2022-09-26T12:02:41.262477",
     "exception": false,
     "start_time": "2022-09-26T12:02:41.142594",
     "status": "completed"
    },
    "tags": []
   },
   "outputs": [
    {
     "name": "stdout",
     "output_type": "stream",
     "text": [
      "The value of the Area Under Curve of Negative Class (in this case class 0) for Logistic Regression is: 0.1534653465346535 \n"
     ]
    }
   ],
   "source": [
    "yPredictTest_00 = pipeline_LR_upd.predict_proba( X_test_pipe )[ : , 0 ]\n",
    "\n",
    "print(f\"The value of the Area Under Curve of Negative Class (in this case class 0) for Logistic Regression is: { roc_auc_score( y_test, yPredictTest_00 ) } \" )"
   ]
  },
  {
   "cell_type": "code",
   "execution_count": 52,
   "id": "scientific-maintenance",
   "metadata": {
    "execution": {
     "iopub.execute_input": "2022-09-26T12:02:41.485109Z",
     "iopub.status.busy": "2022-09-26T12:02:41.484102Z",
     "iopub.status.idle": "2022-09-26T12:02:41.488000Z",
     "shell.execute_reply": "2022-09-26T12:02:41.488563Z",
     "shell.execute_reply.started": "2022-09-26T11:32:26.992779Z"
    },
    "papermill": {
     "duration": 0.120189,
     "end_time": "2022-09-26T12:02:41.488801",
     "exception": false,
     "start_time": "2022-09-26T12:02:41.368612",
     "status": "completed"
    },
    "tags": []
   },
   "outputs": [
    {
     "name": "stdout",
     "output_type": "stream",
     "text": [
      "[1. 1. 1. 1. 1. 1. 1. 1. 1. 1. 1. 1. 1. 1. 1. 1. 1. 1. 1. 1. 1. 1. 1. 1.\n",
      " 1. 1. 1. 1. 1. 1. 1. 1. 1. 1. 1. 1. 1. 1. 1. 1. 1. 1. 1. 1. 1. 1. 1. 1.\n",
      " 1. 1. 1. 1. 1. 1. 1. 1. 1. 1. 1. 1. 1. 1. 1. 1. 1. 1. 1. 1. 1. 1. 1. 1.\n",
      " 1. 1. 1. 1. 1. 1. 1. 1. 1. 1. 1. 1. 1. 1. 1. 1. 1. 1. 1. 1. 1. 1. 1. 1.\n",
      " 1. 1. 1. 1. 1. 1. 1. 1. 1. 1. 1. 1. 1. 1. 1. 1. 1. 1. 1. 1. 1. 1. 1. 1.\n",
      " 1. 1. 1. 1. 1. 1. 1. 1. 1. 1. 1. 1. 1. 1. 1. 1. 1. 1. 1. 1. 1. 1. 1. 1.\n",
      " 1. 1. 1. 1. 1. 1. 1. 1. 1. 1. 1. 1. 1. 1. 1. 1. 1. 1. 1. 1. 1. 1. 1. 1.\n",
      " 1. 1. 1. 1. 1. 1. 1. 1. 1. 1. 1. 1. 1. 1. 1. 1. 1. 1. 1. 1. 1. 1. 1. 1.\n",
      " 1. 1. 1. 1. 1. 1. 1. 1. 1. 1. 1. 1. 1. 1. 1. 1. 1. 1. 1. 1. 1. 1. 1. 1.\n",
      " 1. 1. 1. 1. 1. 1. 1. 1. 1. 1. 1. 1. 1. 1. 1. 1. 1. 1. 1. 1. 1. 1. 1. 1.\n",
      " 1. 1. 1. 1. 1. 1. 1. 1. 1. 1. 1. 1. 1. 1. 1. 1. 1. 1. 1. 1. 1. 1. 1. 1.\n",
      " 1. 1. 1. 1.]\n",
      "\n",
      "Note that the sum of both values is equal to 1, which is equal to the total area under curve! \n",
      "\n",
      "Total_Area_Under_Curve.shape = (268,)\n",
      "total number of rows or number of passengers in the test datasets is 268.0\n"
     ]
    }
   ],
   "source": [
    "Total_Area_Under_Curve = yPredictTest_01 + yPredictTest_00\n",
    "print( Total_Area_Under_Curve )\n",
    "print()\n",
    "print( \"Note that the sum of both values is equal to 1, which is equal to the total area under curve! \")\n",
    "print()\n",
    "print(f\"Total_Area_Under_Curve.shape = {Total_Area_Under_Curve.shape}\")\n",
    "k = Total_Area_Under_Curve.sum(axis = 0) # axis = 0 means row\n",
    "print(f\"total number of rows or number of passengers in the test datasets is {k}\")"
   ]
  },
  {
   "cell_type": "markdown",
   "id": "ecological-tuition",
   "metadata": {
    "papermill": {
     "duration": 0.108192,
     "end_time": "2022-09-26T12:02:41.705137",
     "exception": false,
     "start_time": "2022-09-26T12:02:41.596945",
     "status": "completed"
    },
    "tags": []
   },
   "source": [
    "### Short hand for Performance metrics for Random Forest Classifier model\n",
    "[top](#Contents)"
   ]
  },
  {
   "cell_type": "code",
   "execution_count": 53,
   "id": "fabulous-pipeline",
   "metadata": {
    "execution": {
     "iopub.execute_input": "2022-09-26T12:02:41.934285Z",
     "iopub.status.busy": "2022-09-26T12:02:41.933521Z",
     "iopub.status.idle": "2022-09-26T12:02:41.936968Z",
     "shell.execute_reply": "2022-09-26T12:02:41.936312Z",
     "shell.execute_reply.started": "2022-09-26T11:32:27.005629Z"
    },
    "papermill": {
     "duration": 0.125404,
     "end_time": "2022-09-26T12:02:41.937119",
     "exception": false,
     "start_time": "2022-09-26T12:02:41.811715",
     "status": "completed"
    },
    "tags": []
   },
   "outputs": [],
   "source": [
    "# Create a custom Function to calculate Performance Metrics for a specified model \n",
    "\n",
    "from sklearn.metrics import classification_report\n",
    "from sklearn.metrics import precision_score\n",
    "from sklearn.metrics import recall_score, f1_score\n",
    "from sklearn.metrics import confusion_matrix\n",
    "from sklearn.metrics import ConfusionMatrixDisplay\n",
    "from sklearn.metrics import roc_auc_score\n",
    "\n",
    "def calculateClassificationClassifierPerformanceMetrics(xTrain, yTrain, xTest, yTest, classifierModel):\n",
    "    predicted_yTrain = classifierModel.predict(xTrain)\n",
    "    predicted_yTest = classifierModel.predict(xTest)\n",
    "    # print(\"\\n prediction of yTrain value\", predicted_yTrain) # for debugging\n",
    "    # print(\"\\n prediction of yTest value\", predicted_yTest) # for debugging\n",
    "    model_train_accuracy_score = accuracy_score( yTrain, predicted_yTrain )\n",
    "    model_test_accuracy_score = accuracy_score( yTest, predicted_yTest )\n",
    "    print( f\"{classifierModel} model train / test accuracies %.4f / %.4f\" % ( model_train_accuracy_score, model_test_accuracy_score ) ) # using Python f-strings\n",
    "    print( \"\\n classification report on {yTest} vs {predicted_yTest} dataset: \\n\", classification_report( yTest, predicted_yTest ) )\n",
    "    print()\n",
    "    print(\"Precision value of {yTest} vs {predicted_yTest} dataset, based on class 0: %.16f\" % precision_score( yTest, predicted_yTest, pos_label = 0 ) ) # default pos_label = 1\n",
    "    print('Recall value of {yTest} vs {predicted_yTest} dataset, based on class 0: %.16f' % recall_score( yTest, predicted_yTest, pos_label = 0 ) ) # default pos_label = 1\n",
    "    print('F1 value of {yTest} vs {predicted_yTest} dataset, based on class 0: %.16f' % f1_score( yTest, predicted_yTest, pos_label = 0 ) ) # default pos_label = 1\n",
    "    print()\n",
    "    print(\"Precision value of {yTest} vs {predicted_yTest} dataset, based on class 1: %.16f\" % precision_score( yTest, predicted_yTest, pos_label = 1 ) ) # default pos_label = 1\n",
    "    print('Recall value of {yTest} vs {predicted_yTest} dataset, based on class 1: %.16f' % recall_score( yTest, predicted_yTest, pos_label = 1 ) ) # default pos_label = 1\n",
    "    print('F1 value of {yTest} vs {predicted_yTest} dataset, based on class 1: %.16f' % f1_score( yTest, predicted_yTest, pos_label = 1 ) ) # default pos_label = 1\n",
    "    print()\n",
    "    AUC_0 = roc_auc_score( yTest, classifierModel.predict_proba( xTest )[ : , 0] ) # default provides ALL classes\n",
    "    # https://scikit-learn.org/stable/modules/generated/sklearn.metrics.roc_auc_score.html?highlight=roc_auc_score#sklearn.metrics.roc_auc_score\n",
    "    print( f\"\\n The value of the Area Under Curve of Positive Class i.e. Class 0 for {classifierModel} is:\" , AUC_0)\n",
    "    print()\n",
    "    AUC_1 = roc_auc_score( yTest, classifierModel.predict_proba( xTest )[ : , 1] ) # default provides ALL classes\n",
    "    # https://scikit-learn.org/stable/modules/generated/sklearn.metrics.roc_auc_score.html?highlight=roc_auc_score#sklearn.metrics.roc_auc_score\n",
    "    print( f\"\\n The value of the Area Under Curve of Positive Class i.e. Class 1 for {classifierModel} is:\" , AUC_1)\n",
    "    print()\n",
    "    confMat = confusion_matrix( yTest, predicted_yTest )\n",
    "    print(\"\\n Confusion Matrix of {yTest} vs {predicted_yTest} dataset: \\n\", confMat)\n",
    "    print()\n",
    "    print(\"\\n Visualisation of the Confusion Matrix: \\n\")\n",
    "    disp = ConfusionMatrixDisplay( confusion_matrix = confMat, display_labels = classifierModel.classes_ )\n",
    "    disp.plot()\n",
    "    print()\n",
    "    "
   ]
  },
  {
   "cell_type": "code",
   "execution_count": 54,
   "id": "continuous-coaching",
   "metadata": {
    "execution": {
     "iopub.execute_input": "2022-09-26T12:02:42.162158Z",
     "iopub.status.busy": "2022-09-26T12:02:42.161234Z",
     "iopub.status.idle": "2022-09-26T12:02:42.454110Z",
     "shell.execute_reply": "2022-09-26T12:02:42.454897Z",
     "shell.execute_reply.started": "2022-09-26T11:32:27.025302Z"
    },
    "papermill": {
     "duration": 0.408074,
     "end_time": "2022-09-26T12:02:42.455126",
     "exception": false,
     "start_time": "2022-09-26T12:02:42.047052",
     "status": "completed"
    },
    "tags": []
   },
   "outputs": [
    {
     "name": "stdout",
     "output_type": "stream",
     "text": [
      "Pipeline(steps=[('standardscaler', StandardScaler()),\n",
      "                ('randomforestclassifier',\n",
      "                 RandomForestClassifier(random_state=5))]) model train / test accuracies 0.9856 / 0.8209\n",
      "\n",
      " classification report on {yTest} vs {predicted_yTest} dataset: \n",
      "               precision    recall  f1-score   support\n",
      "\n",
      "         0.0       0.83      0.90      0.86       167\n",
      "         1.0       0.80      0.69      0.74       101\n",
      "\n",
      "    accuracy                           0.82       268\n",
      "   macro avg       0.82      0.80      0.80       268\n",
      "weighted avg       0.82      0.82      0.82       268\n",
      "\n",
      "\n",
      "Precision value of {yTest} vs {predicted_yTest} dataset, based on class 0: 0.8287292817679558\n",
      "Recall value of {yTest} vs {predicted_yTest} dataset, based on class 0: 0.8982035928143712\n",
      "F1 value of {yTest} vs {predicted_yTest} dataset, based on class 0: 0.8620689655172413\n",
      "\n",
      "Precision value of {yTest} vs {predicted_yTest} dataset, based on class 1: 0.8045977011494253\n",
      "Recall value of {yTest} vs {predicted_yTest} dataset, based on class 1: 0.6930693069306930\n",
      "F1 value of {yTest} vs {predicted_yTest} dataset, based on class 1: 0.7446808510638299\n",
      "\n",
      "\n",
      " The value of the Area Under Curve of Positive Class i.e. Class 0 for Pipeline(steps=[('standardscaler', StandardScaler()),\n",
      "                ('randomforestclassifier',\n",
      "                 RandomForestClassifier(random_state=5))]) is: 0.14039248236200866\n",
      "\n",
      "\n",
      " The value of the Area Under Curve of Positive Class i.e. Class 1 for Pipeline(steps=[('standardscaler', StandardScaler()),\n",
      "                ('randomforestclassifier',\n",
      "                 RandomForestClassifier(random_state=5))]) is: 0.8596075176379914\n",
      "\n",
      "\n",
      " Confusion Matrix of {yTest} vs {predicted_yTest} dataset: \n",
      " [[150  17]\n",
      " [ 31  70]]\n",
      "\n",
      "\n",
      " Visualisation of the Confusion Matrix: \n",
      "\n",
      "\n"
     ]
    },
    {
     "data": {
      "image/png": "[encoded data removed]",
      "text/plain": [
       "<Figure size 432x288 with 2 Axes>"
      ]
     },
     "metadata": {
      "needs_background": "light"
     },
     "output_type": "display_data"
    }
   ],
   "source": [
    "calculateClassificationClassifierPerformanceMetrics( X_train_pipe, y_train_pipe, X_test_pipe, y_test_pipe, pipeline_RFC )"
   ]
  },
  {
   "cell_type": "markdown",
   "id": "superb-defense",
   "metadata": {
    "papermill": {
     "duration": 0.108154,
     "end_time": "2022-09-26T12:02:42.673286",
     "exception": false,
     "start_time": "2022-09-26T12:02:42.565132",
     "status": "completed"
    },
    "tags": []
   },
   "source": [
    "### For more Classification performance metrics\n",
    "[top](#Contents)\n",
    "\n",
    "If you want to know more about other metrics, see the below link:\n",
    "\n",
    "> https://scikit-learn.org/stable/modules/model_evaluation.html#classification-metrics <br>\n",
    "> Section 3.3.2"
   ]
  },
  {
   "cell_type": "markdown",
   "id": "stuffed-inflation",
   "metadata": {
    "papermill": {
     "duration": 0.106882,
     "end_time": "2022-09-26T12:02:42.887292",
     "exception": false,
     "start_time": "2022-09-26T12:02:42.780410",
     "status": "completed"
    },
    "tags": []
   },
   "source": [
    "### Ensemble methods for Classification \n",
    "[top](#Contents)\n",
    "\n",
    "1. AdaBoostClassifier\n",
    "2. BaggingClassifier"
   ]
  },
  {
   "cell_type": "markdown",
   "id": "handed-cigarette",
   "metadata": {
    "papermill": {
     "duration": 0.110547,
     "end_time": "2022-09-26T12:02:43.108208",
     "exception": false,
     "start_time": "2022-09-26T12:02:42.997661",
     "status": "completed"
    },
    "tags": []
   },
   "source": [
    "#### AdaBoostClassifier ensemble model\n",
    "[top](#Contents)\n",
    "\n",
    "Applying the AdaBoostClassifier ensemble model for both Logistic Regression, and Random Forest Classifier models. <br>"
   ]
  },
  {
   "cell_type": "code",
   "execution_count": 55,
   "id": "foster-dimension",
   "metadata": {
    "execution": {
     "iopub.execute_input": "2022-09-26T12:02:43.359861Z",
     "iopub.status.busy": "2022-09-26T12:02:43.359132Z",
     "iopub.status.idle": "2022-09-26T12:02:56.425176Z",
     "shell.execute_reply": "2022-09-26T12:02:56.425745Z",
     "shell.execute_reply.started": "2022-09-26T11:32:27.314739Z"
    },
    "papermill": {
     "duration": 13.191129,
     "end_time": "2022-09-26T12:02:56.425936",
     "exception": false,
     "start_time": "2022-09-26T12:02:43.234807",
     "status": "completed"
    },
    "tags": []
   },
   "outputs": [
    {
     "name": "stdout",
     "output_type": "stream",
     "text": [
      "ensembleAdaBoostClassifierLogisticRegression score: 0.8283582089552238\n",
      "ensembleAdaBoostClassifierRandomForestClassifier score: 0.8171641791044776\n"
     ]
    }
   ],
   "source": [
    "# to perform ensemble method: e.g. Logistic Regression, Random Forest Classifier\n",
    "# https://scikit-learn.org/stable/modules/classes.html?highlight=sklearn%20ensemble#module-sklearn.ensemble\n",
    "\n",
    "from sklearn.ensemble import AdaBoostClassifier\n",
    "\n",
    "ensembleAdaBoostClassifierLogisticRegression = AdaBoostClassifier( base_estimator = LogisticRegression(random_state = 5, solver='lbfgs' ), random_state= 5 )\n",
    "\n",
    "ensembleAdaBoostClassifierRandomForestClassifier = AdaBoostClassifier( base_estimator = RandomForestClassifier(n_estimators = 100, random_state = 5), random_state= 5 )\n",
    "\n",
    "ensembleAdaBoostClassifierLogisticRegression.fit( X_train_pipe,y_train_pipe )\n",
    "ensembleAdaBoostClassifierLogisticRegression.predict( X_test_pipe )\n",
    "\n",
    "ensembleAdaBoostClassifierRandomForestClassifier.fit( X_train_pipe,y_train_pipe )\n",
    "ensembleAdaBoostClassifierRandomForestClassifier.predict( X_test_pipe )\n",
    "\n",
    "print(\"ensembleAdaBoostClassifierLogisticRegression score:\", ensembleAdaBoostClassifierLogisticRegression.score(X_test_pipe,y_test_pipe ) )\n",
    "print(\"ensembleAdaBoostClassifierRandomForestClassifier score:\", ensembleAdaBoostClassifierRandomForestClassifier.score(X_test_pipe,y_test_pipe ) )"
   ]
  },
  {
   "cell_type": "code",
   "execution_count": 56,
   "id": "upset-citation",
   "metadata": {
    "execution": {
     "iopub.execute_input": "2022-09-26T12:02:56.686092Z",
     "iopub.status.busy": "2022-09-26T12:02:56.685364Z",
     "iopub.status.idle": "2022-09-26T12:02:56.721323Z",
     "shell.execute_reply": "2022-09-26T12:02:56.720455Z",
     "shell.execute_reply.started": "2022-09-26T11:32:37.824621Z"
    },
    "papermill": {
     "duration": 0.18346,
     "end_time": "2022-09-26T12:02:56.721525",
     "exception": false,
     "start_time": "2022-09-26T12:02:56.538065",
     "status": "completed"
    },
    "tags": []
   },
   "outputs": [
    {
     "name": "stdout",
     "output_type": "stream",
     "text": [
      "ensembleAdaBoostClassifierLogisticRegression model train / test accuracies 0.7978 / 0.8284\n"
     ]
    }
   ],
   "source": [
    "# to investigate how the model correctly classifies Training and Test data\n",
    "ensembleAdaBoostClassifierLogisticRegression_train = ensembleAdaBoostClassifierLogisticRegression.predict( X_train_pipe )\n",
    "ensembleAdaBoostClassifierLogisticRegression_test = ensembleAdaBoostClassifierLogisticRegression.predict( X_test_pipe )\n",
    "\n",
    "ensembleAdaBoostClassifierLogisticRegression_train_accuracy_score = accuracy_score( y_train_pipe, \n",
    "                                                                                   ensembleAdaBoostClassifierLogisticRegression_train )\n",
    "\n",
    "ensembleAdaBoostClassifierLogisticRegression_test_accuracy_score = accuracy_score( y_test_pipe, \n",
    "                                                                                  ensembleAdaBoostClassifierLogisticRegression_test )\n",
    "\n",
    "print( \"ensembleAdaBoostClassifierLogisticRegression model train / test accuracies %.4f / %.4f\" \n",
    "      % (ensembleAdaBoostClassifierLogisticRegression_train_accuracy_score, \n",
    "         ensembleAdaBoostClassifierLogisticRegression_test_accuracy_score) )"
   ]
  },
  {
   "cell_type": "code",
   "execution_count": 57,
   "id": "spoken-german",
   "metadata": {
    "execution": {
     "iopub.execute_input": "2022-09-26T12:02:56.961266Z",
     "iopub.status.busy": "2022-09-26T12:02:56.960517Z",
     "iopub.status.idle": "2022-09-26T12:02:58.788297Z",
     "shell.execute_reply": "2022-09-26T12:02:58.787474Z",
     "shell.execute_reply.started": "2022-09-26T11:32:37.856743Z"
    },
    "papermill": {
     "duration": 1.946511,
     "end_time": "2022-09-26T12:02:58.788508",
     "exception": false,
     "start_time": "2022-09-26T12:02:56.841997",
     "status": "completed"
    },
    "tags": []
   },
   "outputs": [
    {
     "name": "stdout",
     "output_type": "stream",
     "text": [
      "ensembleAdaBoostClassifierRandomForestClassifier model train / test accuracies 0.9856 / 0.8172\n"
     ]
    }
   ],
   "source": [
    "# to investigate how the model correctly classifies Training and Test data\n",
    "ensembleAdaBoostClassifierRandomForestClassifier_train = ensembleAdaBoostClassifierRandomForestClassifier.predict( X_train_pipe )\n",
    "ensembleAdaBoostClassifierRandomForestClassifier_test = ensembleAdaBoostClassifierRandomForestClassifier.predict( X_test_pipe )\n",
    "\n",
    "ensembleAdaBoostClassifierRandomForestClassifier_train_accuracy_score = accuracy_score( y_train_pipe, \n",
    "                                                                                   ensembleAdaBoostClassifierRandomForestClassifier_train )\n",
    "\n",
    "ensembleAdaBoostClassifierRandomForestClassifier_test_accuracy_score = accuracy_score( y_test_pipe, \n",
    "                                                                                  ensembleAdaBoostClassifierRandomForestClassifier_test )\n",
    "\n",
    "print( \"ensembleAdaBoostClassifierRandomForestClassifier model train / test accuracies %.4f / %.4f\" \n",
    "      % (ensembleAdaBoostClassifierRandomForestClassifier_train_accuracy_score, \n",
    "         ensembleAdaBoostClassifierRandomForestClassifier_test_accuracy_score) )"
   ]
  },
  {
   "cell_type": "markdown",
   "id": "cultural-characteristic",
   "metadata": {
    "papermill": {
     "duration": 0.113409,
     "end_time": "2022-09-26T12:02:59.071752",
     "exception": false,
     "start_time": "2022-09-26T12:02:58.958343",
     "status": "completed"
    },
    "tags": []
   },
   "source": [
    "#### BaggingClassifier ensemble model\n",
    "[top](#Contents)\n",
    "\n",
    "Applying the BaggingClassifier ensemble model for both Logistic Regression, and Random Forest Classifier models. <br>"
   ]
  },
  {
   "cell_type": "code",
   "execution_count": 58,
   "id": "emotional-privilege",
   "metadata": {
    "execution": {
     "iopub.execute_input": "2022-09-26T12:02:59.302999Z",
     "iopub.status.busy": "2022-09-26T12:02:59.301983Z",
     "iopub.status.idle": "2022-09-26T12:04:30.586377Z",
     "shell.execute_reply": "2022-09-26T12:04:30.585630Z",
     "shell.execute_reply.started": "2022-09-26T11:32:39.437646Z"
    },
    "papermill": {
     "duration": 91.402739,
     "end_time": "2022-09-26T12:04:30.586549",
     "exception": false,
     "start_time": "2022-09-26T12:02:59.183810",
     "status": "completed"
    },
    "tags": []
   },
   "outputs": [
    {
     "name": "stdout",
     "output_type": "stream",
     "text": [
      "ensembleBaggingClassifierLogisticRegression score: 0.6231343283582089\n",
      "ensembleBaggingClassifierRandomForestClassifier score: 0.6231343283582089\n"
     ]
    }
   ],
   "source": [
    "from sklearn.ensemble import BaggingClassifier\n",
    "\n",
    "ensembleBaggingClassifierLogisticRegression = BaggingClassifier( base_estimator = LogisticRegression(random_state = 5, solver='lbfgs' ),\n",
    "                                                               n_estimators = 500,\n",
    "                                                               max_samples = 1,\n",
    "                                                               max_features = 1,\n",
    "                                                               bootstrap = True,\n",
    "                                                               bootstrap_features = False,\n",
    "                                                               n_jobs = 1,\n",
    "                                                               random_state = 5) \n",
    "# default values: n_estimators = 10, max_samples = 1, max_features = 1, bootstrap = True, bootstrap_features = False, n_jobs = None (i.e. 1)   \n",
    "\n",
    "ensembleBaggingClassifierRandomForestClassifier = BaggingClassifier( base_estimator = RandomForestClassifier(n_estimators = 100, random_state = 5),\n",
    "                                                               n_estimators = 500,\n",
    "                                                               max_samples = 1,\n",
    "                                                               max_features = 1,\n",
    "                                                               bootstrap = True,\n",
    "                                                               bootstrap_features = False,\n",
    "                                                               n_jobs = 1,\n",
    "                                                               random_state = 5)\n",
    "\n",
    "\n",
    "ensembleBaggingClassifierLogisticRegression.fit( X_train_pipe,y_train_pipe )\n",
    "ensembleBaggingClassifierLogisticRegression.predict( X_test_pipe )\n",
    "\n",
    "ensembleBaggingClassifierRandomForestClassifier.fit( X_train_pipe,y_train_pipe )\n",
    "ensembleBaggingClassifierRandomForestClassifier.predict( X_test_pipe )\n",
    "\n",
    "print(\"ensembleBaggingClassifierLogisticRegression score:\", ensembleBaggingClassifierLogisticRegression.score(X_test_pipe,y_test_pipe ) )\n",
    "\n",
    "print(\"ensembleBaggingClassifierRandomForestClassifier score:\", ensembleBaggingClassifierRandomForestClassifier.score(X_test_pipe,y_test_pipe ) )\n"
   ]
  },
  {
   "cell_type": "code",
   "execution_count": 59,
   "id": "dried-celtic",
   "metadata": {
    "execution": {
     "iopub.execute_input": "2022-09-26T12:04:30.808657Z",
     "iopub.status.busy": "2022-09-26T12:04:30.807893Z",
     "iopub.status.idle": "2022-09-26T12:04:30.928879Z",
     "shell.execute_reply": "2022-09-26T12:04:30.929413Z",
     "shell.execute_reply.started": "2022-09-26T11:33:51.917608Z"
    },
    "papermill": {
     "duration": 0.235038,
     "end_time": "2022-09-26T12:04:30.929596",
     "exception": false,
     "start_time": "2022-09-26T12:04:30.694558",
     "status": "completed"
    },
    "tags": []
   },
   "outputs": [
    {
     "name": "stdout",
     "output_type": "stream",
     "text": [
      "ensembleBaggingClassifierLogisticRegression model train / test accuracies 0.6132 / 0.6231\n"
     ]
    }
   ],
   "source": [
    "# to investigate how the model correctly classifies Training and Test data\n",
    "ensembleBaggingClassifierLogisticRegression_train = ensembleBaggingClassifierLogisticRegression.predict( X_train_pipe )\n",
    "ensembleBaggingClassifierLogisticRegression_test = ensembleBaggingClassifierLogisticRegression.predict( X_test_pipe )\n",
    "\n",
    "ensembleBaggingClassifierLogisticRegression_train_accuracy_score = accuracy_score( y_train_pipe, \n",
    "                                                                                   ensembleBaggingClassifierLogisticRegression_train )\n",
    "\n",
    "ensembleBaggingClassifierLogisticRegression_test_accuracy_score = accuracy_score( y_test_pipe, \n",
    "                                                                                  ensembleBaggingClassifierLogisticRegression_test )\n",
    "\n",
    "print( \"ensembleBaggingClassifierLogisticRegression model train / test accuracies %.4f / %.4f\" \n",
    "      % (ensembleBaggingClassifierLogisticRegression_train_accuracy_score, \n",
    "         ensembleBaggingClassifierLogisticRegression_test_accuracy_score) )"
   ]
  },
  {
   "cell_type": "code",
   "execution_count": 60,
   "id": "behind-numbers",
   "metadata": {
    "execution": {
     "iopub.execute_input": "2022-09-26T12:04:31.152621Z",
     "iopub.status.busy": "2022-09-26T12:04:31.151968Z",
     "iopub.status.idle": "2022-09-26T12:04:43.479882Z",
     "shell.execute_reply": "2022-09-26T12:04:43.480648Z",
     "shell.execute_reply.started": "2022-09-26T11:33:52.031148Z"
    },
    "papermill": {
     "duration": 12.440622,
     "end_time": "2022-09-26T12:04:43.480889",
     "exception": false,
     "start_time": "2022-09-26T12:04:31.040267",
     "status": "completed"
    },
    "tags": []
   },
   "outputs": [
    {
     "name": "stdout",
     "output_type": "stream",
     "text": [
      "ensembleBaggingClassifierRandomForestClassifier model train / test accuracies 0.6132 / 0.6231\n"
     ]
    }
   ],
   "source": [
    "# to investigate how the model correctly classifies Training and Test data\n",
    "ensembleBaggingClassifierRandomForestClassifier_train = ensembleBaggingClassifierRandomForestClassifier.predict( X_train_pipe )\n",
    "ensembleBaggingClassifierRandomForestClassifier_test = ensembleBaggingClassifierRandomForestClassifier.predict( X_test_pipe )\n",
    "\n",
    "ensembleBaggingClassifierRandomForestClassifier_train_accuracy_score = accuracy_score( y_train_pipe, \n",
    "                                                                                   ensembleBaggingClassifierRandomForestClassifier_train )\n",
    "\n",
    "ensembleBaggingClassifierRandomForestClassifier_test_accuracy_score = accuracy_score( y_test_pipe, \n",
    "                                                                                  ensembleBaggingClassifierRandomForestClassifier_test )\n",
    "\n",
    "print( \"ensembleBaggingClassifierRandomForestClassifier model train / test accuracies %.4f / %.4f\" \n",
    "      % (ensembleBaggingClassifierRandomForestClassifier_train_accuracy_score, \n",
    "         ensembleBaggingClassifierRandomForestClassifier_test_accuracy_score) )"
   ]
  },
  {
   "cell_type": "markdown",
   "id": "proper-desktop",
   "metadata": {
    "papermill": {
     "duration": 0.112172,
     "end_time": "2022-09-26T12:04:43.720104",
     "exception": false,
     "start_time": "2022-09-26T12:04:43.607932",
     "status": "completed"
    },
    "tags": []
   },
   "source": [
    "## Shortcut to Performance metrics for\n",
    "[top](#Contents)\n",
    "\n",
    "1. AdaBoostClassifier\n",
    "2. BaggingClassifier"
   ]
  },
  {
   "cell_type": "markdown",
   "id": "attempted-sugar",
   "metadata": {
    "papermill": {
     "duration": 0.109707,
     "end_time": "2022-09-26T12:04:43.944527",
     "exception": false,
     "start_time": "2022-09-26T12:04:43.834820",
     "status": "completed"
    },
    "tags": []
   },
   "source": [
    "### AdaBoostClassifier of Logistic Regression\n",
    "[top](#Contents)"
   ]
  },
  {
   "cell_type": "code",
   "execution_count": 61,
   "id": "filled-kingston",
   "metadata": {
    "execution": {
     "iopub.execute_input": "2022-09-26T12:04:44.170553Z",
     "iopub.status.busy": "2022-09-26T12:04:44.169861Z",
     "iopub.status.idle": "2022-09-26T12:04:44.450547Z",
     "shell.execute_reply": "2022-09-26T12:04:44.449540Z",
     "shell.execute_reply.started": "2022-09-26T11:34:03.405935Z"
    },
    "papermill": {
     "duration": 0.393358,
     "end_time": "2022-09-26T12:04:44.450750",
     "exception": false,
     "start_time": "2022-09-26T12:04:44.057392",
     "status": "completed"
    },
    "tags": []
   },
   "outputs": [
    {
     "name": "stdout",
     "output_type": "stream",
     "text": [
      "AdaBoostClassifier(base_estimator=LogisticRegression(random_state=5),\n",
      "                   random_state=5) model train / test accuracies 0.7978 / 0.8284\n",
      "\n",
      " classification report on {yTest} vs {predicted_yTest} dataset: \n",
      "               precision    recall  f1-score   support\n",
      "\n",
      "         0.0       0.84      0.90      0.87       167\n",
      "         1.0       0.81      0.71      0.76       101\n",
      "\n",
      "    accuracy                           0.83       268\n",
      "   macro avg       0.82      0.81      0.81       268\n",
      "weighted avg       0.83      0.83      0.83       268\n",
      "\n",
      "\n",
      "Precision value of {yTest} vs {predicted_yTest} dataset, based on class 0: 0.8379888268156425\n",
      "Recall value of {yTest} vs {predicted_yTest} dataset, based on class 0: 0.8982035928143712\n",
      "F1 value of {yTest} vs {predicted_yTest} dataset, based on class 0: 0.8670520231213873\n",
      "\n",
      "Precision value of {yTest} vs {predicted_yTest} dataset, based on class 1: 0.8089887640449438\n",
      "Recall value of {yTest} vs {predicted_yTest} dataset, based on class 1: 0.7128712871287128\n",
      "F1 value of {yTest} vs {predicted_yTest} dataset, based on class 1: 0.7578947368421052\n",
      "\n",
      "\n",
      " The value of the Area Under Curve of Positive Class i.e. Class 0 for AdaBoostClassifier(base_estimator=LogisticRegression(random_state=5),\n",
      "                   random_state=5) is: 0.14783304677773168\n",
      "\n",
      "\n",
      " The value of the Area Under Curve of Positive Class i.e. Class 1 for AdaBoostClassifier(base_estimator=LogisticRegression(random_state=5),\n",
      "                   random_state=5) is: 0.8521669532222683\n",
      "\n",
      "\n",
      " Confusion Matrix of {yTest} vs {predicted_yTest} dataset: \n",
      " [[150  17]\n",
      " [ 29  72]]\n",
      "\n",
      "\n",
      " Visualisation of the Confusion Matrix: \n",
      "\n",
      "\n"
     ]
    },
    {
     "data": {
      "image/png": "[encoded data removed]",
      "text/plain": [
       "<Figure size 432x288 with 2 Axes>"
      ]
     },
     "metadata": {
      "needs_background": "light"
     },
     "output_type": "display_data"
    }
   ],
   "source": [
    "calculateClassificationClassifierPerformanceMetrics( X_train_pipe, y_train_pipe, X_test_pipe, y_test_pipe, ensembleAdaBoostClassifierLogisticRegression )"
   ]
  },
  {
   "cell_type": "markdown",
   "id": "referenced-elder",
   "metadata": {
    "papermill": {
     "duration": 0.111734,
     "end_time": "2022-09-26T12:04:44.673305",
     "exception": false,
     "start_time": "2022-09-26T12:04:44.561571",
     "status": "completed"
    },
    "tags": []
   },
   "source": [
    "### AdaBoostClassifier of Random Forest Classifier\n",
    "[top](#Contents)"
   ]
  },
  {
   "cell_type": "code",
   "execution_count": 62,
   "id": "arctic-publisher",
   "metadata": {
    "execution": {
     "iopub.execute_input": "2022-09-26T12:04:44.908819Z",
     "iopub.status.busy": "2022-09-26T12:04:44.907519Z",
     "iopub.status.idle": "2022-09-26T12:04:48.629196Z",
     "shell.execute_reply": "2022-09-26T12:04:48.629682Z",
     "shell.execute_reply.started": "2022-09-26T11:34:03.622864Z"
    },
    "papermill": {
     "duration": 3.845146,
     "end_time": "2022-09-26T12:04:48.629936",
     "exception": false,
     "start_time": "2022-09-26T12:04:44.784790",
     "status": "completed"
    },
    "tags": []
   },
   "outputs": [
    {
     "name": "stdout",
     "output_type": "stream",
     "text": [
      "AdaBoostClassifier(base_estimator=RandomForestClassifier(random_state=5),\n",
      "                   random_state=5) model train / test accuracies 0.9856 / 0.8172\n",
      "\n",
      " classification report on {yTest} vs {predicted_yTest} dataset: \n",
      "               precision    recall  f1-score   support\n",
      "\n",
      "         0.0       0.84      0.88      0.86       167\n",
      "         1.0       0.78      0.71      0.75       101\n",
      "\n",
      "    accuracy                           0.82       268\n",
      "   macro avg       0.81      0.80      0.80       268\n",
      "weighted avg       0.82      0.82      0.82       268\n",
      "\n",
      "\n",
      "Precision value of {yTest} vs {predicted_yTest} dataset, based on class 0: 0.8352272727272727\n",
      "Recall value of {yTest} vs {predicted_yTest} dataset, based on class 0: 0.8802395209580839\n",
      "F1 value of {yTest} vs {predicted_yTest} dataset, based on class 0: 0.8571428571428571\n",
      "\n",
      "Precision value of {yTest} vs {predicted_yTest} dataset, based on class 1: 0.7826086956521739\n",
      "Recall value of {yTest} vs {predicted_yTest} dataset, based on class 1: 0.7128712871287128\n",
      "F1 value of {yTest} vs {predicted_yTest} dataset, based on class 1: 0.7461139896373056\n",
      "\n",
      "\n",
      " The value of the Area Under Curve of Positive Class i.e. Class 0 for AdaBoostClassifier(base_estimator=RandomForestClassifier(random_state=5),\n",
      "                   random_state=5) is: 0.14314934487460723\n",
      "\n",
      "\n",
      " The value of the Area Under Curve of Positive Class i.e. Class 1 for AdaBoostClassifier(base_estimator=RandomForestClassifier(random_state=5),\n",
      "                   random_state=5) is: 0.8568506551253927\n",
      "\n",
      "\n",
      " Confusion Matrix of {yTest} vs {predicted_yTest} dataset: \n",
      " [[147  20]\n",
      " [ 29  72]]\n",
      "\n",
      "\n",
      " Visualisation of the Confusion Matrix: \n",
      "\n",
      "\n"
     ]
    },
    {
     "data": {
      "image/png": "[encoded data removed]",
      "text/plain": [
       "<Figure size 432x288 with 2 Axes>"
      ]
     },
     "metadata": {
      "needs_background": "light"
     },
     "output_type": "display_data"
    }
   ],
   "source": [
    "calculateClassificationClassifierPerformanceMetrics( X_train_pipe, y_train_pipe, X_test_pipe, y_test_pipe, ensembleAdaBoostClassifierRandomForestClassifier )"
   ]
  },
  {
   "cell_type": "markdown",
   "id": "suffering-reader",
   "metadata": {
    "papermill": {
     "duration": 0.117071,
     "end_time": "2022-09-26T12:04:48.862473",
     "exception": false,
     "start_time": "2022-09-26T12:04:48.745402",
     "status": "completed"
    },
    "tags": []
   },
   "source": [
    "### BaggingClassifier of Logistic Regression \n",
    "[top](#Contents)"
   ]
  },
  {
   "cell_type": "code",
   "execution_count": 63,
   "id": "lined-gallery",
   "metadata": {
    "execution": {
     "iopub.execute_input": "2022-09-26T12:04:49.114285Z",
     "iopub.status.busy": "2022-09-26T12:04:49.112589Z",
     "iopub.status.idle": "2022-09-26T12:04:49.568427Z",
     "shell.execute_reply": "2022-09-26T12:04:49.568960Z",
     "shell.execute_reply.started": "2022-09-26T11:34:06.776913Z"
    },
    "papermill": {
     "duration": 0.585746,
     "end_time": "2022-09-26T12:04:49.569164",
     "exception": false,
     "start_time": "2022-09-26T12:04:48.983418",
     "status": "completed"
    },
    "tags": []
   },
   "outputs": [
    {
     "name": "stdout",
     "output_type": "stream",
     "text": [
      "BaggingClassifier(base_estimator=LogisticRegression(random_state=5),\n",
      "                  max_features=1, max_samples=1, n_estimators=500, n_jobs=1,\n",
      "                  random_state=5) model train / test accuracies 0.6132 / 0.6231\n",
      "\n",
      " classification report on {yTest} vs {predicted_yTest} dataset: \n",
      "               precision    recall  f1-score   support\n",
      "\n",
      "         0.0       0.62      1.00      0.77       167\n",
      "         1.0       0.00      0.00      0.00       101\n",
      "\n",
      "    accuracy                           0.62       268\n",
      "   macro avg       0.31      0.50      0.38       268\n",
      "weighted avg       0.39      0.62      0.48       268\n",
      "\n",
      "\n",
      "Precision value of {yTest} vs {predicted_yTest} dataset, based on class 0: 0.6231343283582089\n",
      "Recall value of {yTest} vs {predicted_yTest} dataset, based on class 0: 1.0000000000000000\n",
      "F1 value of {yTest} vs {predicted_yTest} dataset, based on class 0: 0.7678160919540230\n",
      "\n",
      "Precision value of {yTest} vs {predicted_yTest} dataset, based on class 1: 0.0000000000000000\n",
      "Recall value of {yTest} vs {predicted_yTest} dataset, based on class 1: 0.0000000000000000\n",
      "F1 value of {yTest} vs {predicted_yTest} dataset, based on class 1: 0.0000000000000000\n",
      "\n",
      "\n",
      " The value of the Area Under Curve of Positive Class i.e. Class 0 for BaggingClassifier(base_estimator=LogisticRegression(random_state=5),\n",
      "                  max_features=1, max_samples=1, n_estimators=500, n_jobs=1,\n",
      "                  random_state=5) is: 0.6358866425564712\n",
      "\n",
      "\n",
      " The value of the Area Under Curve of Positive Class i.e. Class 1 for BaggingClassifier(base_estimator=LogisticRegression(random_state=5),\n",
      "                  max_features=1, max_samples=1, n_estimators=500, n_jobs=1,\n",
      "                  random_state=5) is: 0.36411335744352874\n",
      "\n",
      "\n",
      " Confusion Matrix of {yTest} vs {predicted_yTest} dataset: \n",
      " [[167   0]\n",
      " [101   0]]\n",
      "\n",
      "\n",
      " Visualisation of the Confusion Matrix: \n",
      "\n",
      "\n"
     ]
    },
    {
     "name": "stderr",
     "output_type": "stream",
     "text": [
      "/opt/conda/lib/python3.7/site-packages/sklearn/metrics/_classification.py:1245: UndefinedMetricWarning: Precision and F-score are ill-defined and being set to 0.0 in labels with no predicted samples. Use `zero_division` parameter to control this behavior.\n",
      "  _warn_prf(average, modifier, msg_start, len(result))\n",
      "/opt/conda/lib/python3.7/site-packages/sklearn/metrics/_classification.py:1245: UndefinedMetricWarning: Precision and F-score are ill-defined and being set to 0.0 in labels with no predicted samples. Use `zero_division` parameter to control this behavior.\n",
      "  _warn_prf(average, modifier, msg_start, len(result))\n",
      "/opt/conda/lib/python3.7/site-packages/sklearn/metrics/_classification.py:1245: UndefinedMetricWarning: Precision and F-score are ill-defined and being set to 0.0 in labels with no predicted samples. Use `zero_division` parameter to control this behavior.\n",
      "  _warn_prf(average, modifier, msg_start, len(result))\n",
      "/opt/conda/lib/python3.7/site-packages/sklearn/metrics/_classification.py:1245: UndefinedMetricWarning: Precision is ill-defined and being set to 0.0 due to no predicted samples. Use `zero_division` parameter to control this behavior.\n",
      "  _warn_prf(average, modifier, msg_start, len(result))\n"
     ]
    },
    {
     "data": {
      "image/png": "[encoded data removed]",
      "text/plain": [
       "<Figure size 432x288 with 2 Axes>"
      ]
     },
     "metadata": {
      "needs_background": "light"
     },
     "output_type": "display_data"
    }
   ],
   "source": [
    "calculateClassificationClassifierPerformanceMetrics( X_train_pipe, y_train_pipe, X_test_pipe, y_test_pipe, ensembleBaggingClassifierLogisticRegression )"
   ]
  },
  {
   "cell_type": "markdown",
   "id": "arranged-exclusion",
   "metadata": {
    "papermill": {
     "duration": 0.116192,
     "end_time": "2022-09-26T12:04:49.802359",
     "exception": false,
     "start_time": "2022-09-26T12:04:49.686167",
     "status": "completed"
    },
    "tags": []
   },
   "source": [
    "### BaggingClassifier of Random Forest Classifier\n",
    "[top](#Contents)"
   ]
  },
  {
   "cell_type": "code",
   "execution_count": 64,
   "id": "concrete-device",
   "metadata": {
    "execution": {
     "iopub.execute_input": "2022-09-26T12:04:50.053076Z",
     "iopub.status.busy": "2022-09-26T12:04:50.052052Z",
     "iopub.status.idle": "2022-09-26T12:05:13.957898Z",
     "shell.execute_reply": "2022-09-26T12:05:13.957317Z",
     "shell.execute_reply.started": "2022-09-26T11:34:07.186020Z"
    },
    "papermill": {
     "duration": 24.034582,
     "end_time": "2022-09-26T12:05:13.958047",
     "exception": false,
     "start_time": "2022-09-26T12:04:49.923465",
     "status": "completed"
    },
    "tags": []
   },
   "outputs": [
    {
     "name": "stdout",
     "output_type": "stream",
     "text": [
      "BaggingClassifier(base_estimator=RandomForestClassifier(random_state=5),\n",
      "                  max_features=1, max_samples=1, n_estimators=500, n_jobs=1,\n",
      "                  random_state=5) model train / test accuracies 0.6132 / 0.6231\n",
      "\n",
      " classification report on {yTest} vs {predicted_yTest} dataset: \n",
      "               precision    recall  f1-score   support\n",
      "\n",
      "         0.0       0.62      1.00      0.77       167\n",
      "         1.0       0.00      0.00      0.00       101\n",
      "\n",
      "    accuracy                           0.62       268\n",
      "   macro avg       0.31      0.50      0.38       268\n",
      "weighted avg       0.39      0.62      0.48       268\n",
      "\n",
      "\n",
      "Precision value of {yTest} vs {predicted_yTest} dataset, based on class 0: 0.6231343283582089\n",
      "Recall value of {yTest} vs {predicted_yTest} dataset, based on class 0: 1.0000000000000000\n",
      "F1 value of {yTest} vs {predicted_yTest} dataset, based on class 0: 0.7678160919540230\n",
      "\n",
      "Precision value of {yTest} vs {predicted_yTest} dataset, based on class 1: 0.0000000000000000\n",
      "Recall value of {yTest} vs {predicted_yTest} dataset, based on class 1: 0.0000000000000000\n",
      "F1 value of {yTest} vs {predicted_yTest} dataset, based on class 1: 0.0000000000000000\n",
      "\n"
     ]
    },
    {
     "name": "stderr",
     "output_type": "stream",
     "text": [
      "/opt/conda/lib/python3.7/site-packages/sklearn/metrics/_classification.py:1245: UndefinedMetricWarning: Precision and F-score are ill-defined and being set to 0.0 in labels with no predicted samples. Use `zero_division` parameter to control this behavior.\n",
      "  _warn_prf(average, modifier, msg_start, len(result))\n",
      "/opt/conda/lib/python3.7/site-packages/sklearn/metrics/_classification.py:1245: UndefinedMetricWarning: Precision and F-score are ill-defined and being set to 0.0 in labels with no predicted samples. Use `zero_division` parameter to control this behavior.\n",
      "  _warn_prf(average, modifier, msg_start, len(result))\n",
      "/opt/conda/lib/python3.7/site-packages/sklearn/metrics/_classification.py:1245: UndefinedMetricWarning: Precision and F-score are ill-defined and being set to 0.0 in labels with no predicted samples. Use `zero_division` parameter to control this behavior.\n",
      "  _warn_prf(average, modifier, msg_start, len(result))\n",
      "/opt/conda/lib/python3.7/site-packages/sklearn/metrics/_classification.py:1245: UndefinedMetricWarning: Precision is ill-defined and being set to 0.0 due to no predicted samples. Use `zero_division` parameter to control this behavior.\n",
      "  _warn_prf(average, modifier, msg_start, len(result))\n"
     ]
    },
    {
     "name": "stdout",
     "output_type": "stream",
     "text": [
      "\n",
      " The value of the Area Under Curve of Positive Class i.e. Class 0 for BaggingClassifier(base_estimator=RandomForestClassifier(random_state=5),\n",
      "                  max_features=1, max_samples=1, n_estimators=500, n_jobs=1,\n",
      "                  random_state=5) is: 0.5\n",
      "\n",
      "\n",
      " The value of the Area Under Curve of Positive Class i.e. Class 1 for BaggingClassifier(base_estimator=RandomForestClassifier(random_state=5),\n",
      "                  max_features=1, max_samples=1, n_estimators=500, n_jobs=1,\n",
      "                  random_state=5) is: 0.5\n",
      "\n",
      "\n",
      " Confusion Matrix of {yTest} vs {predicted_yTest} dataset: \n",
      " [[167   0]\n",
      " [101   0]]\n",
      "\n",
      "\n",
      " Visualisation of the Confusion Matrix: \n",
      "\n",
      "\n"
     ]
    },
    {
     "data": {
      "image/png": "[encoded data removed]",
      "text/plain": [
       "<Figure size 432x288 with 2 Axes>"
      ]
     },
     "metadata": {
      "needs_background": "light"
     },
     "output_type": "display_data"
    }
   ],
   "source": [
    "calculateClassificationClassifierPerformanceMetrics( X_train_pipe, y_train_pipe, X_test_pipe, y_test_pipe, ensembleBaggingClassifierRandomForestClassifier )"
   ]
  },
  {
   "cell_type": "markdown",
   "id": "lesser-dubai",
   "metadata": {
    "papermill": {
     "duration": 0.115148,
     "end_time": "2022-09-26T12:05:14.188172",
     "exception": false,
     "start_time": "2022-09-26T12:05:14.073024",
     "status": "completed"
    },
    "tags": []
   },
   "source": [
    "## Classify who Survived and Died in the \"Titanic_to_predict_data\" dataframe i.e. `titanic/test.csv file`\n",
    "[top](#Contents)"
   ]
  },
  {
   "cell_type": "markdown",
   "id": "weighted-intensity",
   "metadata": {
    "papermill": {
     "duration": 0.115709,
     "end_time": "2022-09-26T12:05:14.424275",
     "exception": false,
     "start_time": "2022-09-26T12:05:14.308566",
     "status": "completed"
    },
    "tags": []
   },
   "source": [
    "### Preprocessing step for Titanic_to_predict_data dataframe\n",
    "[top](#Contents)"
   ]
  },
  {
   "cell_type": "code",
   "execution_count": 65,
   "id": "characteristic-banner",
   "metadata": {
    "execution": {
     "iopub.execute_input": "2022-09-26T12:05:14.659199Z",
     "iopub.status.busy": "2022-09-26T12:05:14.658501Z",
     "iopub.status.idle": "2022-09-26T12:05:14.661292Z",
     "shell.execute_reply": "2022-09-26T12:05:14.660709Z",
     "shell.execute_reply.started": "2022-09-26T11:34:29.204883Z"
    },
    "papermill": {
     "duration": 0.122603,
     "end_time": "2022-09-26T12:05:14.661440",
     "exception": false,
     "start_time": "2022-09-26T12:05:14.538837",
     "status": "completed"
    },
    "tags": []
   },
   "outputs": [],
   "source": [
    "# to do to clean Titanic_to_predict_data dataframe -> drop, classify, impute\n",
    "\n",
    "dropPredictData = Titanic_to_predict_data.copy()\n",
    "dropPredictData = dropPredictData.drop(['PassengerId','Name','Ticket','Cabin'],axis=1)"
   ]
  },
  {
   "cell_type": "code",
   "execution_count": 66,
   "id": "blank-concept",
   "metadata": {
    "execution": {
     "iopub.execute_input": "2022-09-26T12:05:14.898820Z",
     "iopub.status.busy": "2022-09-26T12:05:14.898115Z",
     "iopub.status.idle": "2022-09-26T12:05:14.901366Z",
     "shell.execute_reply": "2022-09-26T12:05:14.900664Z",
     "shell.execute_reply.started": "2022-09-26T11:34:29.213170Z"
    },
    "papermill": {
     "duration": 0.125689,
     "end_time": "2022-09-26T12:05:14.901516",
     "exception": false,
     "start_time": "2022-09-26T12:05:14.775827",
     "status": "completed"
    },
    "tags": []
   },
   "outputs": [],
   "source": [
    "from sklearn.preprocessing import LabelEncoder\n",
    "\n",
    "columnLabelEncoder = [ 'Sex', 'Embarked' ]\n",
    "\n",
    "for column in columnLabelEncoder:\n",
    "    le = LabelEncoder()\n",
    "    le.fit( dropPredictData[column] )\n",
    "    dropPredictData[column] = le.transform( dropPredictData[column] )"
   ]
  },
  {
   "cell_type": "markdown",
   "id": "fourth-appendix",
   "metadata": {
    "papermill": {
     "duration": 0.118026,
     "end_time": "2022-09-26T12:05:15.136619",
     "exception": false,
     "start_time": "2022-09-26T12:05:15.018593",
     "status": "completed"
    },
    "tags": []
   },
   "source": [
    "\n",
    "` from sklearn.preprocessing import LabelEncoder\n",
    "le = LabelEncoder()\n",
    "le.fit(dropPredictData['Sex'])\n",
    "le.classes_\n",
    "dropPredictData['Sex'] = le.transform(dropPredictData['Sex'])`\n",
    "\n",
    "` from sklearn.preprocessing import LabelEncoder\n",
    "le = LabelEncoder()\n",
    "le.fit(dropPredictData['Embarked'])\n",
    "le.classes_\n",
    "dropPredictData['Embarked'] = le.transform(dropPredictData['Embarked']) `"
   ]
  },
  {
   "cell_type": "code",
   "execution_count": 67,
   "id": "considerable-found",
   "metadata": {
    "execution": {
     "iopub.execute_input": "2022-09-26T12:05:15.377792Z",
     "iopub.status.busy": "2022-09-26T12:05:15.375420Z",
     "iopub.status.idle": "2022-09-26T12:05:15.382105Z",
     "shell.execute_reply": "2022-09-26T12:05:15.381404Z",
     "shell.execute_reply.started": "2022-09-26T11:34:29.228664Z"
    },
    "papermill": {
     "duration": 0.130406,
     "end_time": "2022-09-26T12:05:15.382259",
     "exception": false,
     "start_time": "2022-09-26T12:05:15.251853",
     "status": "completed"
    },
    "tags": []
   },
   "outputs": [],
   "source": [
    "from sklearn.impute import SimpleImputer\n",
    "simpleImp = SimpleImputer(missing_values=np.nan, strategy='mean')\n",
    "imputedPredictData=pd.DataFrame(simpleImp.fit_transform(dropPredictData), columns = dropPredictData.columns)"
   ]
  },
  {
   "cell_type": "markdown",
   "id": "animated-butter",
   "metadata": {
    "papermill": {
     "duration": 0.115257,
     "end_time": "2022-09-26T12:05:15.612816",
     "exception": false,
     "start_time": "2022-09-26T12:05:15.497559",
     "status": "completed"
    },
    "tags": []
   },
   "source": [
    "## Submission of Predictions to the Kaggle´s Titanic\n",
    "[top](#Contents)"
   ]
  },
  {
   "cell_type": "markdown",
   "id": "needed-sleeve",
   "metadata": {
    "papermill": {
     "duration": 0.115077,
     "end_time": "2022-09-26T12:05:15.842574",
     "exception": false,
     "start_time": "2022-09-26T12:05:15.727497",
     "status": "completed"
    },
    "tags": []
   },
   "source": [
    "### Long hand for submitting Classifier models\n",
    "[top](#Contents)"
   ]
  },
  {
   "cell_type": "code",
   "execution_count": 68,
   "id": "valid-sound",
   "metadata": {
    "execution": {
     "iopub.execute_input": "2022-09-26T12:05:16.085106Z",
     "iopub.status.busy": "2022-09-26T12:05:16.084259Z",
     "iopub.status.idle": "2022-09-26T12:05:16.093406Z",
     "shell.execute_reply": "2022-09-26T12:05:16.093994Z",
     "shell.execute_reply.started": "2022-09-26T11:34:29.254009Z"
    },
    "papermill": {
     "duration": 0.134966,
     "end_time": "2022-09-26T12:05:16.094191",
     "exception": false,
     "start_time": "2022-09-26T12:05:15.959225",
     "status": "completed"
    },
    "tags": []
   },
   "outputs": [
    {
     "name": "stdout",
     "output_type": "stream",
     "text": [
      "Your submission was successfully saved!\n"
     ]
    }
   ],
   "source": [
    "# using prediction model from Pipeline to classify titanic/test.csv\n",
    "y_preds_Pipe_logReg_titanicTest = pipeline_LR.predict(imputedPredictData)\n",
    "y_preds_Pipe_logReg_titanicTest = y_preds_Pipe_logReg_titanicTest.astype(int) # --> this changed the format to integer for Submission purpose.\n",
    "\n",
    "output = pd.DataFrame({'PassengerId': Titanic_to_predict_data.PassengerId, 'Survived': y_preds_Pipe_logReg_titanicTest})\n",
    "output.to_csv('pipeline_logReg_submission.csv', index=False) #pipeline Log Reg\n",
    "print(\"Your submission was successfully saved!\")\n",
    "\n",
    "# Public score = 0.76555\n",
    "# According to Kaggle this number indicates this model I used predicted correctly for 76.555% of passengers in the test.csv survived."
   ]
  },
  {
   "cell_type": "code",
   "execution_count": 69,
   "id": "catholic-pocket",
   "metadata": {
    "execution": {
     "iopub.execute_input": "2022-09-26T12:05:16.340220Z",
     "iopub.status.busy": "2022-09-26T12:05:16.339511Z",
     "iopub.status.idle": "2022-09-26T12:05:16.344027Z",
     "shell.execute_reply": "2022-09-26T12:05:16.343378Z",
     "shell.execute_reply.started": "2022-09-26T11:34:29.273305Z"
    },
    "papermill": {
     "duration": 0.129483,
     "end_time": "2022-09-26T12:05:16.344178",
     "exception": false,
     "start_time": "2022-09-26T12:05:16.214695",
     "status": "completed"
    },
    "tags": []
   },
   "outputs": [
    {
     "name": "stdout",
     "output_type": "stream",
     "text": [
      "Your submission was successfully saved!\n"
     ]
    }
   ],
   "source": [
    "y_preds_Pipe_Upd_logReg_titanicTest = pipeline_LR_upd.predict(imputedPredictData).astype(int)\n",
    "\n",
    "output = pd.DataFrame({'PassengerId': Titanic_to_predict_data.PassengerId, 'Survived': y_preds_Pipe_Upd_logReg_titanicTest})\n",
    "output.to_csv('pipeline_logReg_Upd_submission.csv', index=False) #pipeline Log Reg Upd with Standard Scaler function\n",
    "print(\"Your submission was successfully saved!\")\n",
    "\n",
    "# Public score = 0.76315"
   ]
  },
  {
   "cell_type": "code",
   "execution_count": 70,
   "id": "dietary-damages",
   "metadata": {
    "execution": {
     "iopub.execute_input": "2022-09-26T12:05:16.586146Z",
     "iopub.status.busy": "2022-09-26T12:05:16.585460Z",
     "iopub.status.idle": "2022-09-26T12:05:16.612066Z",
     "shell.execute_reply": "2022-09-26T12:05:16.611348Z",
     "shell.execute_reply.started": "2022-09-26T11:34:29.286725Z"
    },
    "papermill": {
     "duration": 0.151041,
     "end_time": "2022-09-26T12:05:16.612220",
     "exception": false,
     "start_time": "2022-09-26T12:05:16.461179",
     "status": "completed"
    },
    "tags": []
   },
   "outputs": [
    {
     "name": "stdout",
     "output_type": "stream",
     "text": [
      "Your submission was successfully saved!\n"
     ]
    }
   ],
   "source": [
    "y_preds_Pipe_RdmForClasf_titanicTest = pipeline_RFC.predict(imputedPredictData).astype(int)\n",
    "\n",
    "output = pd.DataFrame({'PassengerId': Titanic_to_predict_data.PassengerId, 'Survived': y_preds_Pipe_RdmForClasf_titanicTest})\n",
    "output.to_csv('pipeline_rdmForClasf_submission.csv', index=False) #trial pipeline Random Forest Classifier\n",
    "print(\"Your submission was successfully saved!\")\n",
    "\n",
    "# Public score = 0.73205"
   ]
  },
  {
   "cell_type": "markdown",
   "id": "boolean-superintendent",
   "metadata": {
    "papermill": {
     "duration": 0.115475,
     "end_time": "2022-09-26T12:05:16.844894",
     "exception": false,
     "start_time": "2022-09-26T12:05:16.729419",
     "status": "completed"
    },
    "tags": []
   },
   "source": [
    "### Short hand for submitting other Classifier models\n",
    "[top](#Contents)"
   ]
  },
  {
   "cell_type": "code",
   "execution_count": 71,
   "id": "domestic-consideration",
   "metadata": {
    "execution": {
     "iopub.execute_input": "2022-09-26T12:05:17.095936Z",
     "iopub.status.busy": "2022-09-26T12:05:17.095225Z",
     "iopub.status.idle": "2022-09-26T12:05:23.943058Z",
     "shell.execute_reply": "2022-09-26T12:05:23.942450Z",
     "shell.execute_reply.started": "2022-09-26T11:34:29.320431Z"
    },
    "papermill": {
     "duration": 6.979146,
     "end_time": "2022-09-26T12:05:23.943209",
     "exception": false,
     "start_time": "2022-09-26T12:05:16.964063",
     "status": "completed"
    },
    "tags": []
   },
   "outputs": [
    {
     "name": "stdout",
     "output_type": "stream",
     "text": [
      "AdaBoostClassifier with LogisticRegression : Your submission was successfully saved!\n",
      "AdaBoostClassifier with RandomForestClassifier : Your submission was successfully saved!\n",
      "BaggingClassifier with LogisticRegression : Your submission was successfully saved!\n",
      "BaggingClassifier with RandomForestClassifier : Your submission was successfully saved!\n"
     ]
    }
   ],
   "source": [
    "nameModel = [\"AdaBoostClassifier with LogisticRegression\",\n",
    "             \"AdaBoostClassifier with RandomForestClassifier\",\n",
    "             \"BaggingClassifier with LogisticRegression\",\n",
    "             \"BaggingClassifier with RandomForestClassifier\"]\n",
    "\n",
    "modelClassifiers = [ensembleAdaBoostClassifierLogisticRegression, \n",
    "                    ensembleAdaBoostClassifierRandomForestClassifier,\n",
    "                    ensembleBaggingClassifierLogisticRegression,\n",
    "                    ensembleBaggingClassifierRandomForestClassifier]\n",
    "\n",
    "for name, clf in zip(nameModel, modelClassifiers):\n",
    "    y_preds = clf.predict(imputedPredictData).astype(int)\n",
    "    output = pd.DataFrame( {'PassengerId': Titanic_to_predict_data.PassengerId, 'Survived': y_preds} )\n",
    "    fileName = name + \"_submission.csv\"\n",
    "    output.to_csv( fileName, index=False) \n",
    "    # output.to_csv( '{name}_submission.csv', index=False)  # --> how to include a variable with text for the \".to_csv\"\n",
    "    print( name, \": Your submission was successfully saved!\")"
   ]
  },
  {
   "cell_type": "markdown",
   "id": "vanilla-delight",
   "metadata": {
    "papermill": {
     "duration": 0.11661,
     "end_time": "2022-09-26T12:05:24.178414",
     "exception": false,
     "start_time": "2022-09-26T12:05:24.061804",
     "status": "completed"
    },
    "tags": []
   },
   "source": [
    "#### **Notes**\n",
    "[top](#Contents)\n",
    "\n",
    "Public scores of the following model in the Kaggle´s Titanic Competition: <br>\n",
    "\n",
    "AdaBoostClassifier with LogisticRegression = 0.76555 <br>\n",
    "AdaBoostClassifier with RandomForestClassifier = 0.74162 <br>\n",
    "BaggingClassifier with LogisticRegression = 0.62200 <br>\n",
    "BaggingClassifier with RandomForestClassifier = 0.62200 <br>\n",
    "\n",
    "Benchmark is 0.76555. This Public score came from submitting a csv file that predicted ALL females survived in the titanic/test.csv file. <br>"
   ]
  },
  {
   "cell_type": "markdown",
   "id": "complimentary-printer",
   "metadata": {
    "papermill": {
     "duration": 0.117282,
     "end_time": "2022-09-26T12:05:24.414320",
     "exception": false,
     "start_time": "2022-09-26T12:05:24.297038",
     "status": "completed"
    },
    "tags": []
   },
   "source": [
    "## Useful things to have for the next project\n",
    "[top](#Contents)"
   ]
  },
  {
   "cell_type": "markdown",
   "id": "hundred-eagle",
   "metadata": {
    "papermill": {
     "duration": 0.115099,
     "end_time": "2022-09-26T12:05:24.645454",
     "exception": false,
     "start_time": "2022-09-26T12:05:24.530355",
     "status": "completed"
    },
    "tags": []
   },
   "source": [
    "* Creating a preprocessing shortcut i.e. creating a (python) Function that does the preprocessing. \n",
    "+ Using the pipeline for a model to fit, and predict a label.\n",
    "- Using Performance metric function `calculateClassificationClassifierPerformanceMetrics(xTrain, yTrain, xTest, yTest, classifierModel)` .\n",
    "* Using the below Function that calcuates mean, median, and mode for a column / Feature. \n",
    "+ Use a script to automatically executes the all of the above, and add or remove a machine learning model. "
   ]
  },
  {
   "cell_type": "code",
   "execution_count": 72,
   "id": "israeli-trash",
   "metadata": {
    "execution": {
     "iopub.execute_input": "2022-09-26T12:05:24.885207Z",
     "iopub.status.busy": "2022-09-26T12:05:24.884424Z",
     "iopub.status.idle": "2022-09-26T12:05:24.891650Z",
     "shell.execute_reply": "2022-09-26T12:05:24.892229Z",
     "shell.execute_reply.started": "2022-09-26T11:34:35.792018Z"
    },
    "papermill": {
     "duration": 0.130965,
     "end_time": "2022-09-26T12:05:24.892459",
     "exception": false,
     "start_time": "2022-09-26T12:05:24.761494",
     "status": "completed"
    },
    "tags": []
   },
   "outputs": [],
   "source": [
    "# adding Python Function to calculate mean, median, and mode for a column\n",
    "# https://www.w3schools.com/python/module_statistics.asp\n",
    "\n",
    "import statistics\n",
    "\n",
    "import seaborn as sns\n",
    "\n",
    "def myFirstFunction(columnOrFeature):\n",
    "    meanColumnOrFeature = statistics.mean(columnOrFeature)\n",
    "    medianColumnOrFeature = statistics.median(columnOrFeature)\n",
    "    modeColumnOrFeature = statistics.mode(columnOrFeature)\n",
    "    print(\"\\n mean =\", meanColumnOrFeature, \"\\n median =\", medianColumnOrFeature, \"\\n mode =\", modeColumnOrFeature)\n",
    "    print( \"\\n shape =\", columnOrFeature.shape, \"\\n\" )\n",
    "    print( \"\\n describe \\n\", columnOrFeature.describe(), \"\\n\" )\n",
    "    print( \"\\n histogram \\n\",sns.displot(columnOrFeature), \"\\n\" )\n",
    "    print( \"\\n kernel density estimates \\n\",sns.displot(columnOrFeature, kind=\"kde\"), \"\\n\" )\n",
    "    return meanColumnOrFeature, medianColumnOrFeature, modeColumnOrFeature\n",
    "    "
   ]
  },
  {
   "cell_type": "code",
   "execution_count": 73,
   "id": "outdoor-empire",
   "metadata": {
    "execution": {
     "iopub.execute_input": "2022-09-26T12:05:25.147443Z",
     "iopub.status.busy": "2022-09-26T12:05:25.146745Z",
     "iopub.status.idle": "2022-09-26T12:05:25.763750Z",
     "shell.execute_reply": "2022-09-26T12:05:25.763126Z",
     "shell.execute_reply.started": "2022-09-26T11:34:35.805342Z"
    },
    "papermill": {
     "duration": 0.751064,
     "end_time": "2022-09-26T12:05:25.763957",
     "exception": false,
     "start_time": "2022-09-26T12:05:25.012893",
     "status": "completed"
    },
    "tags": []
   },
   "outputs": [
    {
     "name": "stdout",
     "output_type": "stream",
     "text": [
      "\n",
      " mean = nan \n",
      " median = nan \n",
      " mode = 24.0\n",
      "\n",
      " shape = (891,) \n",
      "\n",
      "\n",
      " describe \n",
      " count    714.000000\n",
      "mean      29.699118\n",
      "std       14.526497\n",
      "min        0.420000\n",
      "25%       20.125000\n",
      "50%       28.000000\n",
      "75%       38.000000\n",
      "max       80.000000\n",
      "Name: Age, dtype: float64 \n",
      "\n",
      "\n",
      " histogram \n",
      " <seaborn.axisgrid.FacetGrid object at 0x7f63d49d1810> \n",
      "\n",
      "\n",
      " kernel density estimates \n",
      " <seaborn.axisgrid.FacetGrid object at 0x7f63d49c6350> \n",
      "\n"
     ]
    },
    {
     "data": {
      "text/plain": [
       "(nan, nan, 24.0)"
      ]
     },
     "execution_count": 73,
     "metadata": {},
     "output_type": "execute_result"
    },
    {
     "data": {
      "image/png": "[encoded data removed]",
      "text/plain": [
       "<Figure size 360x360 with 1 Axes>"
      ]
     },
     "metadata": {
      "needs_background": "light"
     },
     "output_type": "display_data"
    },
    {
     "data": {
      "image/png": "[encoded data removed]",
      "text/plain": [
       "<Figure size 360x360 with 1 Axes>"
      ]
     },
     "metadata": {
      "needs_background": "light"
     },
     "output_type": "display_data"
    }
   ],
   "source": [
    "myFirstFunction( Titanic_train_data.Age )"
   ]
  },
  {
   "cell_type": "code",
   "execution_count": 74,
   "id": "cross-grammar",
   "metadata": {
    "execution": {
     "iopub.execute_input": "2022-09-26T12:05:26.015277Z",
     "iopub.status.busy": "2022-09-26T12:05:26.014504Z",
     "iopub.status.idle": "2022-09-26T12:05:26.663340Z",
     "shell.execute_reply": "2022-09-26T12:05:26.662789Z",
     "shell.execute_reply.started": "2022-09-26T11:34:36.268332Z"
    },
    "papermill": {
     "duration": 0.778761,
     "end_time": "2022-09-26T12:05:26.663504",
     "exception": false,
     "start_time": "2022-09-26T12:05:25.884743",
     "status": "completed"
    },
    "tags": []
   },
   "outputs": [
    {
     "name": "stdout",
     "output_type": "stream",
     "text": [
      "\n",
      " mean = 29.699117647058824 \n",
      " median = 29.69911764705882 \n",
      " mode = 29.69911764705882\n",
      "\n",
      " shape = (891,) \n",
      "\n",
      "\n",
      " describe \n",
      " count    891.000000\n",
      "mean      29.699118\n",
      "std       13.002015\n",
      "min        0.420000\n",
      "25%       22.000000\n",
      "50%       29.699118\n",
      "75%       35.000000\n",
      "max       80.000000\n",
      "Name: Age, dtype: float64 \n",
      "\n",
      "\n",
      " histogram \n",
      " <seaborn.axisgrid.FacetGrid object at 0x7f63d1e2ae10> \n",
      "\n",
      "\n",
      " kernel density estimates \n",
      " <seaborn.axisgrid.FacetGrid object at 0x7f63d1dd9410> \n",
      "\n"
     ]
    },
    {
     "data": {
      "text/plain": [
       "(29.699117647058824, 29.69911764705882, 29.69911764705882)"
      ]
     },
     "execution_count": 74,
     "metadata": {},
     "output_type": "execute_result"
    },
    {
     "data": {
      "image/png": "[encoded data removed]",
      "text/plain": [
       "<Figure size 360x360 with 1 Axes>"
      ]
     },
     "metadata": {
      "needs_background": "light"
     },
     "output_type": "display_data"
    },
    {
     "data": {
      "image/png": "[encoded data removed]",
      "text/plain": [
       "<Figure size 360x360 with 1 Axes>"
      ]
     },
     "metadata": {
      "needs_background": "light"
     },
     "output_type": "display_data"
    }
   ],
   "source": [
    "myFirstFunction( imputedTrainingData.Age )"
   ]
  },
  {
   "cell_type": "code",
   "execution_count": 75,
   "id": "urban-vehicle",
   "metadata": {
    "execution": {
     "iopub.execute_input": "2022-09-26T12:05:26.916285Z",
     "iopub.status.busy": "2022-09-26T12:05:26.915581Z",
     "iopub.status.idle": "2022-09-26T12:05:27.532187Z",
     "shell.execute_reply": "2022-09-26T12:05:27.531465Z",
     "shell.execute_reply.started": "2022-09-26T11:34:36.802876Z"
    },
    "papermill": {
     "duration": 0.747878,
     "end_time": "2022-09-26T12:05:27.532340",
     "exception": false,
     "start_time": "2022-09-26T12:05:26.784462",
     "status": "completed"
    },
    "tags": []
   },
   "outputs": [
    {
     "name": "stdout",
     "output_type": "stream",
     "text": [
      "\n",
      " mean = nan \n",
      " median = nan \n",
      " mode = 24.0\n",
      "\n",
      " shape = (891,) \n",
      "\n",
      "\n",
      " describe \n",
      " count    714.000000\n",
      "mean      29.699118\n",
      "std       14.526497\n",
      "min        0.420000\n",
      "25%       20.125000\n",
      "50%       28.000000\n",
      "75%       38.000000\n",
      "max       80.000000\n",
      "Name: Age, dtype: float64 \n",
      "\n",
      "\n",
      " histogram \n",
      " <seaborn.axisgrid.FacetGrid object at 0x7f63d1db9490> \n",
      "\n",
      "\n",
      " kernel density estimates \n",
      " <seaborn.axisgrid.FacetGrid object at 0x7f63d1bf6e90> \n",
      "\n"
     ]
    },
    {
     "data": {
      "text/plain": [
       "(nan, nan, 24.0)"
      ]
     },
     "execution_count": 75,
     "metadata": {},
     "output_type": "execute_result"
    },
    {
     "data": {
      "image/png": "[encoded data removed]",
      "text/plain": [
       "<Figure size 360x360 with 1 Axes>"
      ]
     },
     "metadata": {
      "needs_background": "light"
     },
     "output_type": "display_data"
    },
    {
     "data": {
      "image/png": "[encoded data removed]",
      "text/plain": [
       "<Figure size 360x360 with 1 Axes>"
      ]
     },
     "metadata": {
      "needs_background": "light"
     },
     "output_type": "display_data"
    }
   ],
   "source": [
    "myFirstFunction( Titanic_train_data['Age'] )"
   ]
  },
  {
   "cell_type": "markdown",
   "id": "conditional-complex",
   "metadata": {
    "papermill": {
     "duration": 0.127006,
     "end_time": "2022-09-26T12:05:27.784049",
     "exception": false,
     "start_time": "2022-09-26T12:05:27.657043",
     "status": "completed"
    },
    "tags": []
   },
   "source": [
    "**Side note. Question: What is the best method to call a Column/Feature from a DataFrame?**\n",
    "\n",
    "* Titanic_train_data.Age **or**\n",
    "* Titanic_train_data['Age']"
   ]
  },
  {
   "cell_type": "markdown",
   "id": "consolidated-secretariat",
   "metadata": {
    "papermill": {
     "duration": 0.126465,
     "end_time": "2022-09-26T12:05:28.035523",
     "exception": false,
     "start_time": "2022-09-26T12:05:27.909058",
     "status": "completed"
    },
    "tags": []
   },
   "source": [
    "# Next actions\n",
    "[top](#Contents)\n",
    "\n",
    "For my next iterations of the analysis, I want and would like to do the following:  \n",
    "\n",
    "* I did not focus on Feature Engineering so I am curious how this works in my next project. <br>\n",
    "* I want to play around Stacking method. This could be implemented in next iterated analysis or on a new project. <br>\n",
    "* I can enhance the exisiting models by fine tuning their hyperparameters. <br>\n",
    "    > Hyperparameters are machine learning paramaters in a model that are set/configured BEFORE the model is FITTED onto a training dataset, i.e. `model.fit(X,)`. <br>\n",
    "        \n",
    "    > Examples of Hyperparameters: \n",
    "    * Learning Rate\n",
    "    * Number of Epochs\n",
    "    \n",
    "        > Note on Parameters of a model: These are for example coefficients and intercept. Here the linear model is y = a + bX, b = coefficient and a = intercept of the linear model. <br>\n",
    "    \n",
    "* I chose RandomForestClassifier and LogisticRegression as the basic models. I think RandomForestClassifier is not a basic model because it is an Ensemble model, so I could instead use a KNN Classifier. <br>\n",
    "    > I would use the KNN Classifier in the next project. <br>\n",
    "* Beside KNN Classifier model, I also can extend the current selection of models to include Support Vector Machines model as an example. <br>\n",
    "* I want to play with Autism dataset. A new project. <br>\n",
    "\n",
    "\n",
    "****"
   ]
  },
  {
   "cell_type": "markdown",
   "id": "automated-webster",
   "metadata": {
    "papermill": {
     "duration": 0.126163,
     "end_time": "2022-09-26T12:05:28.284597",
     "exception": false,
     "start_time": "2022-09-26T12:05:28.158434",
     "status": "completed"
    },
    "tags": []
   },
   "source": [
    "# Relevant links for this analysis\n",
    "[top](#Contents)\n",
    "\n",
    "* https://github.com/shafier/Kaggle_Titanic\n",
    "    * The codes will be made available in the GitHub soon.\n",
    " \n",
    "\n",
    "* Execute the codes on the Colab Google \n",
    "    * This will be available soon. \n",
    "\n",
    "\n",
    "* Blog on the analysis \n",
    "    * This is a working progress. \n",
    "    \n",
    "****"
   ]
  }
 ],
 "metadata": {
  "kernelspec": {
   "display_name": "Python 3",
   "language": "python",
   "name": "python3"
  },
  "language_info": {
   "codemirror_mode": {
    "name": "ipython",
    "version": 3
   },
   "file_extension": ".py",
   "mimetype": "text/x-python",
   "name": "python",
   "nbconvert_exporter": "python",
   "pygments_lexer": "ipython3",
   "version": "3.7.9"
  },
  "papermill": {
   "default_parameters": {},
   "duration": 205.582591,
   "end_time": "2022-09-26T12:05:29.320446",
   "environment_variables": {},
   "exception": null,
   "input_path": "__notebook__.ipynb",
   "output_path": "__notebook__.ipynb",
   "parameters": {},
   "start_time": "2022-09-26T12:02:03.737855",
   "version": "2.3.2"
  }
 },
 "nbformat": 4,
 "nbformat_minor": 5
}
